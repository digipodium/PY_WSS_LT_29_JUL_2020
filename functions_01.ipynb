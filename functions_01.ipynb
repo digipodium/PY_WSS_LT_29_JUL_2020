{
 "metadata": {
  "language_info": {
   "codemirror_mode": {
    "name": "ipython",
    "version": 3
   },
   "file_extension": ".py",
   "mimetype": "text/x-python",
   "name": "python",
   "nbconvert_exporter": "python",
   "pygments_lexer": "ipython3",
   "version": "3.8.3-final"
  },
  "orig_nbformat": 2,
  "kernelspec": {
   "name": "python_defaultSpec_1600525928166",
   "display_name": "Python 3.8.3 64-bit"
  }
 },
 "nbformat": 4,
 "nbformat_minor": 2,
 "cells": [
  {
   "source": [
    "# builtin\n",
    "- print\n",
    "- input\n",
    "- sum\n",
    "- max\n",
    "- min\n",
    "- open\n",
    "- len\n",
    "- type\n",
    "- isinstance\n",
    "- eval\n",
    "\n",
    "[https://docs.python.org/3/library/functions.html]"
   ],
   "cell_type": "markdown",
   "metadata": {}
  },
  {
   "cell_type": "code",
   "execution_count": 6,
   "metadata": {},
   "outputs": [
    {
     "output_type": "execute_result",
     "data": {
      "text/plain": "True"
     },
     "metadata": {},
     "execution_count": 6
    }
   ],
   "source": [
    "x = 90.0\n",
    "isinstance(x,(int,float))"
   ]
  },
  {
   "cell_type": "code",
   "execution_count": 7,
   "metadata": {
    "tags": []
   },
   "outputs": [
    {
     "output_type": "stream",
     "name": "stdout",
     "text": "[1, 2, 3, 3, 3, 1, 2]\n['a', 'b', 'c', 'apple', 'banana', 'potato']\n"
    }
   ],
   "source": [
    "x = [1,2,3,'a','b','c',3,3,1,2,'apple','banana','potato']\n",
    "x_int = []\n",
    "x_str =[]\n",
    "for i in x:\n",
    "    if isinstance(i,int):\n",
    "        x_int.append(i)\n",
    "    if isinstance(i,str):\n",
    "        x_str.append(i)\n",
    "print(x_int)\n",
    "print(x_str)"
   ]
  },
  {
   "cell_type": "code",
   "execution_count": 10,
   "metadata": {},
   "outputs": [
    {
     "output_type": "execute_result",
     "data": {
      "text/plain": "21.5"
     },
     "metadata": {},
     "execution_count": 10
    }
   ],
   "source": [
    "x = 3\n",
    "y = 5\n",
    "eq = \"x**2 + y / 2 * x+y\"\n",
    "eval(eq)"
   ]
  },
  {
   "source": [
    "# module based functions \n",
    "[available modules](https://docs.python.org/3/py-modindex.html)\n",
    "- os \n",
    "    - listdir\n",
    "    - getcwd\n",
    "    - path.join\n",
    "    - path.exists\n",
    "    - chdir\n",
    "    - mkdir\n",
    "    - path.isfile\n",
    "    - path.isdir\n",
    "    - path.getsize\n",
    "- math\n",
    "    - floor\n",
    "    - ceiling\n",
    "    - abs\n",
    "    - fabs\n",
    "    - ...etc...\n",
    "- random\n",
    "    - random\n",
    "    - rand\n",
    "    - randn\n",
    "    - randint\n",
    "    - randrange\n",
    "    - choice"
   ],
   "cell_type": "markdown",
   "metadata": {}
  },
  {
   "cell_type": "code",
   "execution_count": 17,
   "metadata": {},
   "outputs": [],
   "source": [
    "import os"
   ]
  },
  {
   "cell_type": "code",
   "execution_count": 18,
   "metadata": {},
   "outputs": [
    {
     "output_type": "execute_result",
     "data": {
      "text/plain": "['.git',\n '.vscode',\n 'assigments_list.ipynb',\n 'building_logic_using_if_else.ipynb',\n 'dictionary_in_python.ipynb',\n 'functions_01.ipynb',\n 'intro.ipynb',\n 'list_in_python.ipynb',\n 'loops_in_python.ipynb',\n 'paper_evaluation.ipynb',\n 'printing_inputs_n_maths.ipynb',\n 'set_in_python.ipynb',\n 'strings_functions_in_python.ipynb',\n 'strings_manipulation_in_python.ipynb',\n 'tuples_in_python.ipynb']"
     },
     "metadata": {},
     "execution_count": 18
    }
   ],
   "source": [
    "os.listdir() # display the list of files and folders in the current or given path"
   ]
  },
  {
   "cell_type": "code",
   "execution_count": 25,
   "metadata": {},
   "outputs": [
    {
     "output_type": "execute_result",
     "data": {
      "text/plain": "['Git-2.21.0-64-bit.exe',\n 'GitHubDesktopSetup.exe',\n 'KiteSetup.exe',\n 'VSCodeUserSetup-x64-1.40.1.exe']"
     },
     "metadata": {},
     "execution_count": 25
    }
   ],
   "source": [
    "os.listdir('K:\\setups')"
   ]
  },
  {
   "cell_type": "code",
   "execution_count": 26,
   "metadata": {},
   "outputs": [],
   "source": [
    "content = os.listdir('E:/')"
   ]
  },
  {
   "cell_type": "code",
   "execution_count": 28,
   "metadata": {},
   "outputs": [
    {
     "output_type": "execute_result",
     "data": {
      "text/plain": "'c:\\\\Users\\\\xaidi\\\\OneDrive\\\\Documents\\\\PY_WSS_LT_29_JUL_2020'"
     },
     "metadata": {},
     "execution_count": 28
    }
   ],
   "source": [
    "os.getcwd() # current working directory"
   ]
  },
  {
   "cell_type": "code",
   "execution_count": 31,
   "metadata": {},
   "outputs": [
    {
     "output_type": "stream",
     "text": "\u001b[1;31mSignature:\u001b[0m \u001b[0mos\u001b[0m\u001b[1;33m.\u001b[0m\u001b[0mlistdir\u001b[0m\u001b[1;33m(\u001b[0m\u001b[0mpath\u001b[0m\u001b[1;33m=\u001b[0m\u001b[1;32mNone\u001b[0m\u001b[1;33m)\u001b[0m\u001b[1;33m\u001b[0m\u001b[1;33m\u001b[0m\u001b[0m\n\u001b[1;31mDocstring:\u001b[0m\nReturn a list containing the names of the files in the directory.\n\npath can be specified as either str, bytes, or a path-like object.  If path is bytes,\n  the filenames returned will also be bytes; in all other circumstances\n  the filenames returned will be str.\nIf path is None, uses the path='.'.\nOn some platforms, path may also be specified as an open file descriptor;\\\n  the file descriptor must refer to a directory.\n  If this functionality is unavailable, using it raises NotImplementedError.\n\nThe list is in arbitrary order.  It does not include the special\nentries '.' and '..' even if they are present in the directory.\n\u001b[1;31mType:\u001b[0m      builtin_function_or_method\n"
    }
   ],
   "source": [
    "os.listdir?"
   ]
  },
  {
   "cell_type": "code",
   "execution_count": 35,
   "metadata": {},
   "outputs": [],
   "source": [
    "path1 = 'c:\\windows'\n",
    "path2 = 'files\\security.jpg'"
   ]
  },
  {
   "cell_type": "code",
   "execution_count": 37,
   "metadata": {},
   "outputs": [],
   "source": [
    "fullpath = os.path.join(path1,path2)"
   ]
  },
  {
   "cell_type": "code",
   "execution_count": 39,
   "metadata": {},
   "outputs": [
    {
     "output_type": "execute_result",
     "data": {
      "text/plain": "False"
     },
     "metadata": {},
     "execution_count": 39
    }
   ],
   "source": [
    "os.path.exists(fullpath) # if an address is correct or not"
   ]
  },
  {
   "cell_type": "code",
   "execution_count": 41,
   "metadata": {},
   "outputs": [
    {
     "output_type": "execute_result",
     "data": {
      "text/plain": "True"
     },
     "metadata": {},
     "execution_count": 41
    }
   ],
   "source": [
    "os.path.exists(r'c:\\users\\xaidi\\Desktop')"
   ]
  },
  {
   "cell_type": "code",
   "execution_count": 44,
   "metadata": {},
   "outputs": [],
   "source": [
    "os.chdir(\"E:\") # used for changing the directory virtually"
   ]
  },
  {
   "cell_type": "code",
   "execution_count": 45,
   "metadata": {},
   "outputs": [
    {
     "output_type": "execute_result",
     "data": {
      "text/plain": "'E:\\\\'"
     },
     "metadata": {},
     "execution_count": 45
    }
   ],
   "source": [
    "os.getcwd()"
   ]
  },
  {
   "cell_type": "code",
   "execution_count": 46,
   "metadata": {},
   "outputs": [
    {
     "output_type": "execute_result",
     "data": {
      "text/plain": "['$RECYCLE.BIN',\n 'adhaar farzana.jpg',\n 'adhaar farzana.png',\n 'AMNA NPR.docx',\n 'amna phn backup',\n 'AndroidDeveloperFundamentals V2 (PUBLIC)',\n 'android_studio_42',\n 'aravat_part_20001-11396.mp4',\n 'aravat_part_20001-21936.mp4',\n \"Assassin's Creed Unity\",\n 'booklet.gif',\n 'books',\n 'BUSHRA backuP',\n 'chidiyon ki alif laila_kalgi_part_1.mp4',\n 'chidiyon ki alif laila_kalgi_part_2.mp4',\n 'CHIDIYON_KI_ALIF_laYLA_part20001-21937.mp4',\n 'compaluins',\n 'Config.Msi',\n 'CV AMNA GHAZAL DIETICIAN 2019.pdf',\n 'Farzana Docs',\n 'FARZANA NPR.docx',\n 'faRZANA.pdf',\n 'Form8.pdf',\n 'GHHJ.jpg',\n 'github_desktop_upload.mp4',\n 'GOG Games',\n 'img',\n 'IMG_20190331_153503__01.jpg',\n 'IMG_20191006_212639.jpg',\n 'KAMILNPR.docx',\n 'msdownld.tmp',\n 'MSOCache',\n 'MUSIC',\n 'MY CV AMNA 2019 - Google Docs..pdf',\n 'MY CV AMNA 2019 - Google Docs.pdf',\n 'MY CV AMNA 2019.pdf',\n 'my gits',\n 'NS VP FARZANA.pdf',\n 'office',\n 'Pictures and Memories',\n 'pycharm-edu-2020.1.exe',\n 'SteamLibrary',\n 'System Volume Information',\n 'tesseract-ocr-w64-setup-v5.0.0-alpha.20200328.exe',\n 'Thumbs.db',\n 'ugc.pdf',\n 'videos',\n '~$id  ahmad diet.docx']"
     },
     "metadata": {},
     "execution_count": 46
    }
   ],
   "source": [
    "os.listdir()"
   ]
  },
  {
   "cell_type": "code",
   "execution_count": 47,
   "metadata": {},
   "outputs": [],
   "source": [
    "os.chdir('c:\\\\Users\\\\xaidi\\\\OneDrive\\\\Documents\\\\PY_WSS_LT_29_JUL_2020')"
   ]
  },
  {
   "cell_type": "code",
   "execution_count": 48,
   "metadata": {},
   "outputs": [
    {
     "output_type": "execute_result",
     "data": {
      "text/plain": "'c:\\\\Users\\\\xaidi\\\\OneDrive\\\\Documents\\\\PY_WSS_LT_29_JUL_2020'"
     },
     "metadata": {},
     "execution_count": 48
    }
   ],
   "source": [
    "os.getcwd()"
   ]
  },
  {
   "cell_type": "code",
   "execution_count": 49,
   "metadata": {},
   "outputs": [],
   "source": [
    "os.mkdir('files')"
   ]
  },
  {
   "cell_type": "code",
   "execution_count": 51,
   "metadata": {},
   "outputs": [],
   "source": [
    "os.mkdir(\"abc\")"
   ]
  },
  {
   "cell_type": "code",
   "execution_count": 52,
   "metadata": {},
   "outputs": [],
   "source": [
    "os.makedirs(\"xyz/hello/world\")"
   ]
  },
  {
   "cell_type": "code",
   "execution_count": 53,
   "metadata": {},
   "outputs": [],
   "source": [
    "os.rmdir('files') # removing empty folders"
   ]
  },
  {
   "cell_type": "code",
   "execution_count": 54,
   "metadata": {},
   "outputs": [],
   "source": [
    "os.rmdir('abc')"
   ]
  },
  {
   "cell_type": "code",
   "execution_count": 56,
   "metadata": {},
   "outputs": [
    {
     "output_type": "error",
     "ename": "OSError",
     "evalue": "[WinError 145] The directory is not empty: 'xyz'",
     "traceback": [
      "\u001b[1;31m---------------------------------------------------------------------------\u001b[0m",
      "\u001b[1;31mOSError\u001b[0m                                   Traceback (most recent call last)",
      "\u001b[1;32m<ipython-input-56-03bd093c9c60>\u001b[0m in \u001b[0;36m<module>\u001b[1;34m\u001b[0m\n\u001b[1;32m----> 1\u001b[1;33m \u001b[0mos\u001b[0m\u001b[1;33m.\u001b[0m\u001b[0mrmdir\u001b[0m\u001b[1;33m(\u001b[0m\u001b[1;34m'xyz'\u001b[0m\u001b[1;33m)\u001b[0m \u001b[1;31m# error when folder contains anything\u001b[0m\u001b[1;33m\u001b[0m\u001b[1;33m\u001b[0m\u001b[0m\n\u001b[0m",
      "\u001b[1;31mOSError\u001b[0m: [WinError 145] The directory is not empty: 'xyz'"
     ]
    }
   ],
   "source": [
    "os.rmdir('xyz') # error when folder contains anything"
   ]
  },
  {
   "cell_type": "code",
   "execution_count": 58,
   "metadata": {},
   "outputs": [
    {
     "output_type": "execute_result",
     "data": {
      "text/plain": "False"
     },
     "metadata": {},
     "execution_count": 58
    }
   ],
   "source": [
    "os.path.isdir('E:\\\\videos')"
   ]
  },
  {
   "cell_type": "code",
   "execution_count": 59,
   "metadata": {},
   "outputs": [
    {
     "output_type": "execute_result",
     "data": {
      "text/plain": "False"
     },
     "metadata": {},
     "execution_count": 59
    }
   ],
   "source": [
    "os.path.isdir('E:\\\\videos')"
   ]
  },
  {
   "cell_type": "code",
   "execution_count": null,
   "metadata": {},
   "outputs": [],
   "source": [
    "os.path.isdir('C:\\Users\\xaidi\\OneDrive\\Documents\\PY_WSS_LT_29_JUL_2020\\set_in_python.ipynb')"
   ]
  }
 ]
}