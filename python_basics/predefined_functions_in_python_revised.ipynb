{
 "metadata": {
  "language_info": {
   "codemirror_mode": {
    "name": "ipython",
    "version": 3
   },
   "file_extension": ".py",
   "mimetype": "text/x-python",
   "name": "python",
   "nbconvert_exporter": "python",
   "pygments_lexer": "ipython3",
   "version": "3.8.3-final"
  },
  "orig_nbformat": 2,
  "kernelspec": {
   "name": "python_defaultSpec_1600597995039",
   "display_name": "Python 3.8.3 64-bit"
  }
 },
 "nbformat": 4,
 "nbformat_minor": 2,
 "cells": [
  {
   "source": [
    "# builtin\n",
    "- print\n",
    "- input\n",
    "- sum\n",
    "- max\n",
    "- min\n",
    "- open\n",
    "- len\n",
    "- type\n",
    "- isinstance\n",
    "- eval\n",
    "\n",
    "[https://docs.python.org/3/library/functions.html]"
   ],
   "cell_type": "markdown",
   "metadata": {}
  },
  {
   "cell_type": "code",
   "execution_count": 36,
   "metadata": {},
   "outputs": [
    {
     "output_type": "execute_result",
     "data": {
      "text/plain": "True"
     },
     "metadata": {},
     "execution_count": 36
    }
   ],
   "source": [
    "x = 90.0\n",
    "isinstance(x,(int,float))"
   ]
  },
  {
   "cell_type": "code",
   "execution_count": 37,
   "metadata": {
    "tags": []
   },
   "outputs": [
    {
     "output_type": "stream",
     "name": "stdout",
     "text": "[1, 2, 3, 3, 3, 1, 2]\n['a', 'b', 'c', 'apple', 'banana', 'potato']\n"
    }
   ],
   "source": [
    "x = [1,2,3,'a','b','c',3,3,1,2,'apple','banana','potato']\n",
    "x_int = []\n",
    "x_str =[]\n",
    "for i in x:\n",
    "    if isinstance(i,int):\n",
    "        x_int.append(i)\n",
    "    if isinstance(i,str):\n",
    "        x_str.append(i)\n",
    "print(x_int)\n",
    "print(x_str)"
   ]
  },
  {
   "cell_type": "code",
   "execution_count": 38,
   "metadata": {},
   "outputs": [
    {
     "output_type": "execute_result",
     "data": {
      "text/plain": "21.5"
     },
     "metadata": {},
     "execution_count": 38
    }
   ],
   "source": [
    "x = 3\n",
    "y = 5\n",
    "eq = \"x**2 + y / 2 * x+y\"\n",
    "eval(eq)"
   ]
  },
  {
   "source": [
    "# module based functions \n",
    "[available modules](https://docs.python.org/3/py-modindex.html)\n",
    "- os \n",
    "    - listdir\n",
    "    - getcwd\n",
    "    - path.join\n",
    "    - path.exists\n",
    "    - chdir\n",
    "    - mkdir\n",
    "    - path.isfile\n",
    "    - path.isdir\n",
    "    - path.getsize\n",
    "- math\n",
    "    - floor\n",
    "    - ceiling\n",
    "    - abs\n",
    "    - fabs\n",
    "    - ...etc...\n",
    "- random\n",
    "    - random\n",
    "    - rand\n",
    "    - randn\n",
    "    - randint\n",
    "    - randrange\n",
    "    - choice"
   ],
   "cell_type": "markdown",
   "metadata": {}
  },
  {
   "cell_type": "code",
   "execution_count": 39,
   "metadata": {},
   "outputs": [],
   "source": [
    "import os"
   ]
  },
  {
   "cell_type": "code",
   "execution_count": 40,
   "metadata": {},
   "outputs": [
    {
     "output_type": "execute_result",
     "data": {
      "text/plain": "['.git',\n '.vscode',\n 'assigments_list.ipynb',\n 'building_logic_using_if_else.ipynb',\n 'dictionary_in_python.ipynb',\n 'functions_01.ipynb',\n 'intro.ipynb',\n 'list_in_python.ipynb',\n 'loops_in_python.ipynb',\n 'paper_evaluation.ipynb',\n 'printing_inputs_n_maths.ipynb',\n 'set_in_python.ipynb',\n 'strings_functions_in_python.ipynb',\n 'strings_manipulation_in_python.ipynb',\n 'tuples_in_python.ipynb']"
     },
     "metadata": {},
     "execution_count": 40
    }
   ],
   "source": [
    "os.listdir() # display the list of files and folders in the current or given path"
   ]
  },
  {
   "cell_type": "code",
   "execution_count": 41,
   "metadata": {},
   "outputs": [
    {
     "output_type": "execute_result",
     "data": {
      "text/plain": "['Git-2.21.0-64-bit.exe',\n 'GitHubDesktopSetup.exe',\n 'KiteSetup.exe',\n 'VSCodeUserSetup-x64-1.40.1.exe']"
     },
     "metadata": {},
     "execution_count": 41
    }
   ],
   "source": [
    "os.listdir('K:\\setups')"
   ]
  },
  {
   "cell_type": "code",
   "execution_count": 42,
   "metadata": {},
   "outputs": [],
   "source": [
    "content = os.listdir('E:/')"
   ]
  },
  {
   "cell_type": "code",
   "execution_count": 43,
   "metadata": {},
   "outputs": [
    {
     "output_type": "execute_result",
     "data": {
      "text/plain": "'c:\\\\Users\\\\xaidi\\\\OneDrive\\\\Documents\\\\PY_WSS_LT_29_JUL_2020'"
     },
     "metadata": {},
     "execution_count": 43
    }
   ],
   "source": [
    "os.getcwd() # current working directory"
   ]
  },
  {
   "cell_type": "code",
   "execution_count": 44,
   "metadata": {},
   "outputs": [
    {
     "output_type": "stream",
     "text": "\u001b[1;31mSignature:\u001b[0m \u001b[0mos\u001b[0m\u001b[1;33m.\u001b[0m\u001b[0mlistdir\u001b[0m\u001b[1;33m(\u001b[0m\u001b[0mpath\u001b[0m\u001b[1;33m=\u001b[0m\u001b[1;32mNone\u001b[0m\u001b[1;33m)\u001b[0m\u001b[1;33m\u001b[0m\u001b[1;33m\u001b[0m\u001b[0m\n\u001b[1;31mDocstring:\u001b[0m\nReturn a list containing the names of the files in the directory.\n\npath can be specified as either str, bytes, or a path-like object.  If path is bytes,\n  the filenames returned will also be bytes; in all other circumstances\n  the filenames returned will be str.\nIf path is None, uses the path='.'.\nOn some platforms, path may also be specified as an open file descriptor;\\\n  the file descriptor must refer to a directory.\n  If this functionality is unavailable, using it raises NotImplementedError.\n\nThe list is in arbitrary order.  It does not include the special\nentries '.' and '..' even if they are present in the directory.\n\u001b[1;31mType:\u001b[0m      builtin_function_or_method\n"
    }
   ],
   "source": [
    "os.listdir?"
   ]
  },
  {
   "cell_type": "code",
   "execution_count": 45,
   "metadata": {},
   "outputs": [],
   "source": [
    "path1 = 'c:\\windows'\n",
    "path2 = 'files\\security.jpg'"
   ]
  },
  {
   "cell_type": "code",
   "execution_count": 46,
   "metadata": {},
   "outputs": [],
   "source": [
    "fullpath = os.path.join(path1,path2)"
   ]
  },
  {
   "cell_type": "code",
   "execution_count": 47,
   "metadata": {},
   "outputs": [
    {
     "output_type": "execute_result",
     "data": {
      "text/plain": "False"
     },
     "metadata": {},
     "execution_count": 47
    }
   ],
   "source": [
    "os.path.exists(fullpath) # if an address is correct or not"
   ]
  },
  {
   "cell_type": "code",
   "execution_count": 48,
   "metadata": {},
   "outputs": [
    {
     "output_type": "execute_result",
     "data": {
      "text/plain": "True"
     },
     "metadata": {},
     "execution_count": 48
    }
   ],
   "source": [
    "os.path.exists(r'c:\\users\\xaidi\\Desktop')"
   ]
  },
  {
   "cell_type": "code",
   "execution_count": 49,
   "metadata": {},
   "outputs": [],
   "source": [
    "os.chdir(\"E:\") # used for changing the directory virtually"
   ]
  },
  {
   "cell_type": "code",
   "execution_count": 50,
   "metadata": {},
   "outputs": [
    {
     "output_type": "execute_result",
     "data": {
      "text/plain": "'E:\\\\'"
     },
     "metadata": {},
     "execution_count": 50
    }
   ],
   "source": [
    "os.getcwd()"
   ]
  },
  {
   "cell_type": "code",
   "execution_count": 51,
   "metadata": {},
   "outputs": [
    {
     "output_type": "execute_result",
     "data": {
      "text/plain": "['$RECYCLE.BIN',\n 'adhaar farzana.jpg',\n 'adhaar farzana.png',\n 'AMNA NPR.docx',\n 'amna phn backup',\n 'AndroidDeveloperFundamentals V2 (PUBLIC)',\n 'android_studio_42',\n 'aravat_part_20001-11396.mp4',\n 'aravat_part_20001-21936.mp4',\n \"Assassin's Creed Unity\",\n 'booklet.gif',\n 'books',\n 'BUSHRA backuP',\n 'chidiyon ki alif laila_kalgi_part_1.mp4',\n 'chidiyon ki alif laila_kalgi_part_2.mp4',\n 'CHIDIYON_KI_ALIF_laYLA_part20001-21937.mp4',\n 'compaluins',\n 'Config.Msi',\n 'CV AMNA GHAZAL DIETICIAN 2019.pdf',\n 'Farzana Docs',\n 'FARZANA NPR.docx',\n 'faRZANA.pdf',\n 'Form8.pdf',\n 'GHHJ.jpg',\n 'github_desktop_upload.mp4',\n 'GOG Games',\n 'img',\n 'IMG_20190331_153503__01.jpg',\n 'IMG_20191006_212639.jpg',\n 'KAMILNPR.docx',\n 'msdownld.tmp',\n 'MSOCache',\n 'MUSIC',\n 'MY CV AMNA 2019 - Google Docs..pdf',\n 'MY CV AMNA 2019 - Google Docs.pdf',\n 'MY CV AMNA 2019.pdf',\n 'my gits',\n 'NS VP FARZANA.pdf',\n 'office',\n 'Pictures and Memories',\n 'pycharm-edu-2020.1.exe',\n 'SteamLibrary',\n 'System Volume Information',\n 'tesseract-ocr-w64-setup-v5.0.0-alpha.20200328.exe',\n 'Thumbs.db',\n 'ugc.pdf',\n 'videos',\n '~$id  ahmad diet.docx']"
     },
     "metadata": {},
     "execution_count": 51
    }
   ],
   "source": [
    "os.listdir()"
   ]
  },
  {
   "cell_type": "code",
   "execution_count": 52,
   "metadata": {},
   "outputs": [],
   "source": [
    "os.chdir('c:\\\\Users\\\\xaidi\\\\OneDrive\\\\Documents\\\\PY_WSS_LT_29_JUL_2020')"
   ]
  },
  {
   "cell_type": "code",
   "execution_count": 53,
   "metadata": {},
   "outputs": [
    {
     "output_type": "execute_result",
     "data": {
      "text/plain": "'c:\\\\Users\\\\xaidi\\\\OneDrive\\\\Documents\\\\PY_WSS_LT_29_JUL_2020'"
     },
     "metadata": {},
     "execution_count": 53
    }
   ],
   "source": [
    "os.getcwd()"
   ]
  },
  {
   "cell_type": "code",
   "execution_count": 54,
   "metadata": {},
   "outputs": [],
   "source": [
    "os.mkdir('files')"
   ]
  },
  {
   "cell_type": "code",
   "execution_count": 55,
   "metadata": {},
   "outputs": [],
   "source": [
    "os.mkdir(\"abc\")"
   ]
  },
  {
   "cell_type": "code",
   "execution_count": 56,
   "metadata": {},
   "outputs": [],
   "source": [
    "os.makedirs(\"xyz/hello/world\")"
   ]
  },
  {
   "cell_type": "code",
   "execution_count": 57,
   "metadata": {},
   "outputs": [],
   "source": [
    "os.rmdir('files') # removing empty folders"
   ]
  },
  {
   "cell_type": "code",
   "execution_count": 58,
   "metadata": {},
   "outputs": [],
   "source": [
    "os.rmdir('abc')"
   ]
  },
  {
   "cell_type": "code",
   "execution_count": 59,
   "metadata": {},
   "outputs": [
    {
     "output_type": "error",
     "ename": "OSError",
     "evalue": "[WinError 145] The directory is not empty: 'xyz'",
     "traceback": [
      "\u001b[1;31m---------------------------------------------------------------------------\u001b[0m",
      "\u001b[1;31mOSError\u001b[0m                                   Traceback (most recent call last)",
      "\u001b[1;32m<ipython-input-59-03bd093c9c60>\u001b[0m in \u001b[0;36m<module>\u001b[1;34m\u001b[0m\n\u001b[1;32m----> 1\u001b[1;33m \u001b[0mos\u001b[0m\u001b[1;33m.\u001b[0m\u001b[0mrmdir\u001b[0m\u001b[1;33m(\u001b[0m\u001b[1;34m'xyz'\u001b[0m\u001b[1;33m)\u001b[0m \u001b[1;31m# error when folder contains anything\u001b[0m\u001b[1;33m\u001b[0m\u001b[1;33m\u001b[0m\u001b[0m\n\u001b[0m",
      "\u001b[1;31mOSError\u001b[0m: [WinError 145] The directory is not empty: 'xyz'"
     ]
    }
   ],
   "source": [
    "os.rmdir('xyz') # error when folder contains anything"
   ]
  },
  {
   "cell_type": "code",
   "execution_count": 60,
   "metadata": {},
   "outputs": [
    {
     "output_type": "execute_result",
     "data": {
      "text/plain": "True"
     },
     "metadata": {},
     "execution_count": 60
    }
   ],
   "source": [
    "os.path.isdir('E:\\\\videos')"
   ]
  },
  {
   "cell_type": "code",
   "execution_count": 61,
   "metadata": {},
   "outputs": [
    {
     "output_type": "execute_result",
     "data": {
      "text/plain": "True"
     },
     "metadata": {},
     "execution_count": 61
    }
   ],
   "source": [
    "os.path.isdir('E:\\\\videos')"
   ]
  },
  {
   "cell_type": "code",
   "execution_count": 62,
   "metadata": {},
   "outputs": [
    {
     "output_type": "error",
     "ename": "SyntaxError",
     "evalue": "(unicode error) 'unicodeescape' codec can't decode bytes in position 2-3: truncated \\UXXXXXXXX escape (<ipython-input-62-184cdb22bd13>, line 1)",
     "traceback": [
      "\u001b[1;36m  File \u001b[1;32m\"<ipython-input-62-184cdb22bd13>\"\u001b[1;36m, line \u001b[1;32m1\u001b[0m\n\u001b[1;33m    os.path.isdir('C:\\Users\\xaidi\\OneDrive\\Documents\\PY_WSS_LT_29_JUL_2020\\set_in_python.ipynb')\u001b[0m\n\u001b[1;37m                  ^\u001b[0m\n\u001b[1;31mSyntaxError\u001b[0m\u001b[1;31m:\u001b[0m (unicode error) 'unicodeescape' codec can't decode bytes in position 2-3: truncated \\UXXXXXXXX escape\n"
     ]
    }
   ],
   "source": [
    "os.path.isdir('C:\\Users\\xaidi\\OneDrive\\Documents\\PY_WSS_LT_29_JUL_2020\\set_in_python.ipynb')"
   ]
  },
  {
   "cell_type": "code",
   "execution_count": 63,
   "metadata": {},
   "outputs": [],
   "source": [
    "# wap to manage your downloads in different list"
   ]
  },
  {
   "cell_type": "code",
   "execution_count": 64,
   "metadata": {},
   "outputs": [],
   "source": [
    "import os"
   ]
  },
  {
   "cell_type": "code",
   "execution_count": 65,
   "metadata": {},
   "outputs": [],
   "source": [
    "base = 'C:/Users/xaidi/Downloads/'\n",
    "downloads = os.listdir('C:/Users/xaidi/Downloads/')"
   ]
  },
  {
   "cell_type": "code",
   "execution_count": 66,
   "metadata": {
    "tags": []
   },
   "outputs": [
    {
     "output_type": "execute_result",
     "data": {
      "text/plain": "['',\n '.14',\n '.dat',\n '.data',\n '.doc',\n '.docx',\n '.exe',\n '.htm',\n '.html',\n '.ini',\n '.ipynb',\n '.jpeg',\n '.m4a',\n '.mp4',\n '.msi',\n '.names',\n '.pdf',\n '.pptx',\n '.py',\n '.whl',\n '.xlsx',\n '.xml',\n '.zip']"
     },
     "metadata": {},
     "execution_count": 66
    }
   ],
   "source": [
    "extensions = set()\n",
    "for item in downloads:\n",
    "    extensions.add(os.path.splitext(item)[1])\n",
    "extensions = list(extensions)\n",
    "extensions.sort()\n",
    "extensions"
   ]
  },
  {
   "cell_type": "code",
   "execution_count": 67,
   "metadata": {
    "tags": []
   },
   "outputs": [],
   "source": [
    "images = []\n",
    "pdf= []\n",
    "applications = []\n",
    "for item in downloads:\n",
    "    if item.endswith('.png') or item.endswith('.jpg') or item.endswith('.gif') or item.endswith('.svg') :\n",
    "        images.append(item)\n",
    "    if item.endswith('.pdf'):\n",
    "        pdf.append(item)\n",
    "    if item.endswith('.exe') or item.endswith('.msi'):\n",
    "        applications.append(item)"
   ]
  },
  {
   "cell_type": "code",
   "execution_count": 68,
   "metadata": {},
   "outputs": [
    {
     "output_type": "execute_result",
     "data": {
      "text/plain": "['Alva-0.9.1.exe',\n 'Battle.net-Setup.exe',\n 'Fing.exe',\n 'gh_1.0.0_windows_amd64.msi',\n 'Git-2.27.0-64-bit.exe',\n 'GitKrakenSetup.exe',\n 'heroku-x64.exe',\n 'Teams_windows_x64.exe',\n 'VoicemeeterSetup.exe',\n 'winrar-x64-591.exe']"
     },
     "metadata": {},
     "execution_count": 68
    }
   ],
   "source": [
    "applications"
   ]
  },
  {
   "cell_type": "code",
   "execution_count": 69,
   "metadata": {
    "tags": []
   },
   "outputs": [
    {
     "output_type": "stream",
     "name": "stdout",
     "text": "folder already exists\n"
    }
   ],
   "source": [
    "imgfolder = os.path.join(base,'IMAGES')\n",
    "\n",
    "if os.path.exists(imgfolder):\n",
    "    print('folder already exists')\n",
    "else:\n",
    "    os.mkdir(imgfolder) # one time only"
   ]
  },
  {
   "cell_type": "code",
   "execution_count": 70,
   "metadata": {
    "tags": []
   },
   "outputs": [],
   "source": [
    "\n",
    "for img in images:\n",
    "    currpath = os.path.join(base,img)\n",
    "    print(\"from\",currpath)\n",
    "    destpath = os.path.join(imgfolder,img)\n",
    "    print(\"to\",destpath)\n",
    "    os.rename(currpath,destpath)\n",
    "    print('moved')"
   ]
  },
  {
   "source": [
    "# math and random\n",
    "- math\n",
    "    - floor\n",
    "    - ceiling\n",
    "    - fabs\n",
    "    - ...etc...\n",
    "- random\n",
    "    - random\n",
    "    - randint\n",
    "    - randrange\n",
    "    - choice"
   ],
   "cell_type": "markdown",
   "metadata": {}
  },
  {
   "cell_type": "code",
   "execution_count": 71,
   "metadata": {},
   "outputs": [],
   "source": [
    "import math"
   ]
  },
  {
   "cell_type": "code",
   "execution_count": 72,
   "metadata": {},
   "outputs": [],
   "source": [
    "x = 1.234343\n",
    "y = 2.8321"
   ]
  },
  {
   "cell_type": "code",
   "execution_count": 73,
   "metadata": {},
   "outputs": [
    {
     "output_type": "execute_result",
     "data": {
      "text/plain": "1"
     },
     "metadata": {},
     "execution_count": 73
    }
   ],
   "source": [
    "round(x)"
   ]
  },
  {
   "cell_type": "code",
   "execution_count": 76,
   "metadata": {},
   "outputs": [
    {
     "output_type": "execute_result",
     "data": {
      "text/plain": "2"
     },
     "metadata": {},
     "execution_count": 76
    }
   ],
   "source": [
    "math.ceil(x)"
   ]
  },
  {
   "cell_type": "code",
   "execution_count": 77,
   "metadata": {},
   "outputs": [
    {
     "output_type": "execute_result",
     "data": {
      "text/plain": "3"
     },
     "metadata": {},
     "execution_count": 77
    }
   ],
   "source": [
    "math.ceil(y)"
   ]
  },
  {
   "cell_type": "code",
   "execution_count": 78,
   "metadata": {},
   "outputs": [
    {
     "output_type": "execute_result",
     "data": {
      "text/plain": "1"
     },
     "metadata": {},
     "execution_count": 78
    }
   ],
   "source": [
    "math.floor(x)"
   ]
  },
  {
   "cell_type": "code",
   "execution_count": 79,
   "metadata": {},
   "outputs": [
    {
     "output_type": "execute_result",
     "data": {
      "text/plain": "2"
     },
     "metadata": {},
     "execution_count": 79
    }
   ],
   "source": [
    "math.floor(y)"
   ]
  },
  {
   "cell_type": "code",
   "execution_count": 85,
   "metadata": {},
   "outputs": [
    {
     "output_type": "execute_result",
     "data": {
      "text/plain": "1.232"
     },
     "metadata": {},
     "execution_count": 85
    }
   ],
   "source": [
    "math.fabs(-1.232)"
   ]
  },
  {
   "cell_type": "code",
   "execution_count": 86,
   "metadata": {},
   "outputs": [
    {
     "output_type": "execute_result",
     "data": {
      "text/plain": "0.943931503384846"
     },
     "metadata": {},
     "execution_count": 86
    }
   ],
   "source": [
    "math.sin(x)"
   ]
  },
  {
   "cell_type": "code",
   "execution_count": 87,
   "metadata": {},
   "outputs": [
    {
     "output_type": "execute_result",
     "data": {
      "text/plain": "0.30457543418506666"
     },
     "metadata": {},
     "execution_count": 87
    }
   ],
   "source": [
    "math.sin(y)"
   ]
  },
  {
   "cell_type": "code",
   "execution_count": 88,
   "metadata": {},
   "outputs": [],
   "source": [
    "import random"
   ]
  },
  {
   "cell_type": "code",
   "execution_count": 93,
   "metadata": {},
   "outputs": [
    {
     "output_type": "execute_result",
     "data": {
      "text/plain": "0.9791332702780547"
     },
     "metadata": {},
     "execution_count": 93
    }
   ],
   "source": [
    "random.random() # 0 - 1"
   ]
  },
  {
   "cell_type": "code",
   "execution_count": 96,
   "metadata": {},
   "outputs": [
    {
     "output_type": "execute_result",
     "data": {
      "text/plain": "4"
     },
     "metadata": {},
     "execution_count": 96
    }
   ],
   "source": [
    "random.randint(0,4) # start and end, both are included"
   ]
  },
  {
   "cell_type": "code",
   "execution_count": 99,
   "metadata": {},
   "outputs": [
    {
     "output_type": "execute_result",
     "data": {
      "text/plain": "1"
     },
     "metadata": {},
     "execution_count": 99
    }
   ],
   "source": [
    "random.randrange(0,4) # start and end, start is included and end is excluded"
   ]
  },
  {
   "cell_type": "code",
   "execution_count": 108,
   "metadata": {},
   "outputs": [
    {
     "output_type": "execute_result",
     "data": {
      "text/plain": "'sensors-19-03307.pdf'"
     },
     "metadata": {},
     "execution_count": 108
    }
   ],
   "source": [
    "random.choice(pdf)"
   ]
  },
  {
   "source": [
    "### WAP to make a dice🎲 simulator where if the users get 6 twice , he wins. Total chances user will get are 10, also 2 ones will be game over"
   ],
   "cell_type": "markdown",
   "metadata": {}
  },
  {
   "cell_type": "code",
   "execution_count": null,
   "metadata": {},
   "outputs": [],
   "source": []
  },
  {
   "cell_type": "code",
   "execution_count": 131,
   "metadata": {
    "tags": []
   },
   "outputs": [
    {
     "output_type": "stream",
     "name": "stdout",
     "text": "⚀\nchance 1 completed\n⚀\nGame over, you lose\n"
    }
   ],
   "source": [
    "import random\n",
    "options = {'sixs':0,'ones':0}\n",
    "dices = [\"⚀\",\"⚁\",\"⚂\",\"⚃\",\"⚄\",\"⚅\"]\n",
    "for i in range(1,11):\n",
    "    \n",
    "    out = random.choice(dices)\n",
    "    print(out)\n",
    "    if out == \"⚅\":\n",
    "        if options['sixs'] == 1:\n",
    "            print('you are the winner')\n",
    "            break\n",
    "        if options['sixs'] == 0:\n",
    "            options['sixs'] = 1\n",
    "    else:\n",
    "        options['sixs'] = 0\n",
    "    \n",
    "    if out == \"⚀\":\n",
    "        if options['ones'] == 1:\n",
    "            print('Game over, you lose')\n",
    "            break\n",
    "        if options['ones'] == 0:\n",
    "            options['ones'] = 1\n",
    "    else:\n",
    "        options['ones'] = 0\n",
    "\n",
    "    print(f'chance {i} completed')\n",
    "else:\n",
    "    print('game over')\n",
    "    "
   ]
  },
  {
   "cell_type": "code",
   "execution_count": null,
   "metadata": {},
   "outputs": [],
   "source": []
  }
 ]
}