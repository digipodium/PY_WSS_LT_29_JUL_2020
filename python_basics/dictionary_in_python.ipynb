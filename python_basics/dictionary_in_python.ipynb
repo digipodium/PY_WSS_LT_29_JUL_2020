{
 "metadata": {
  "language_info": {
   "codemirror_mode": {
    "name": "ipython",
    "version": 3
   },
   "file_extension": ".py",
   "mimetype": "text/x-python",
   "name": "python",
   "nbconvert_exporter": "python",
   "pygments_lexer": "ipython3",
   "version": "3.8.3-final"
  },
  "orig_nbformat": 2,
  "kernelspec": {
   "name": "python_defaultSpec_1600264894559",
   "display_name": "Python 3.8.3 64-bit"
  }
 },
 "nbformat": 4,
 "nbformat_minor": 2,
 "cells": [
  {
   "cell_type": "markdown",
   "metadata": {},
   "source": [
    "# dictionary properties\n",
    "- are heterogenous\n",
    "- are ordered and unindexed\n",
    "- are mutable and dynamic\n",
    "- represented by `{ }`\n",
    "- can be nested\n",
    "- all values in a dictionary are are stored in `key`:`value` pairs\n",
    "- keys are unique and immutable -> thats why we use strings as keys\n",
    "- dict( ) function is used store data in variable value manner"
   ]
  },
  {
   "cell_type": "code",
   "execution_count": 3,
   "metadata": {},
   "outputs": [],
   "source": [
    "facts = {'cat':'a pet animal that is very fun to have','dog':'a pet animal that is super loyal','facts':2}"
   ]
  },
  {
   "cell_type": "code",
   "execution_count": 4,
   "metadata": {},
   "outputs": [
    {
     "output_type": "execute_result",
     "data": {
      "text/plain": "{'cat': 'a pet animal that is very fun to have',\n 'dog': 'a pet animal that is super loyal',\n 'facts': 2}"
     },
     "metadata": {},
     "execution_count": 4
    }
   ],
   "source": [
    "facts"
   ]
  },
  {
   "cell_type": "code",
   "execution_count": 5,
   "metadata": {},
   "outputs": [
    {
     "output_type": "execute_result",
     "data": {
      "text/plain": "'a pet animal that is very fun to have'"
     },
     "metadata": {},
     "execution_count": 5
    }
   ],
   "source": [
    "facts['cat']"
   ]
  },
  {
   "cell_type": "code",
   "execution_count": 6,
   "metadata": {},
   "outputs": [
    {
     "output_type": "execute_result",
     "data": {
      "text/plain": "'a pet animal that is super loyal'"
     },
     "metadata": {},
     "execution_count": 6
    }
   ],
   "source": [
    "facts['dog']"
   ]
  },
  {
   "cell_type": "code",
   "execution_count": 7,
   "metadata": {},
   "outputs": [
    {
     "output_type": "error",
     "ename": "KeyError",
     "evalue": "'parrot'",
     "traceback": [
      "\u001b[1;31m---------------------------------------------------------------------------\u001b[0m",
      "\u001b[1;31mKeyError\u001b[0m                                  Traceback (most recent call last)",
      "\u001b[1;32m<ipython-input-7-1159802756ad>\u001b[0m in \u001b[0;36m<module>\u001b[1;34m\u001b[0m\n\u001b[1;32m----> 1\u001b[1;33m \u001b[0mfacts\u001b[0m\u001b[1;33m[\u001b[0m\u001b[1;34m'parrot'\u001b[0m\u001b[1;33m]\u001b[0m\u001b[1;33m\u001b[0m\u001b[1;33m\u001b[0m\u001b[0m\n\u001b[0m",
      "\u001b[1;31mKeyError\u001b[0m: 'parrot'"
     ]
    }
   ],
   "source": [
    "facts['parrot']"
   ]
  },
  {
   "cell_type": "code",
   "execution_count": 9,
   "metadata": {},
   "outputs": [],
   "source": [
    "facts['parrot'] = 'A pet bird that is super fun to have'"
   ]
  },
  {
   "cell_type": "code",
   "execution_count": 10,
   "metadata": {},
   "outputs": [
    {
     "output_type": "execute_result",
     "data": {
      "text/plain": "'A pet bird that is super fun to have'"
     },
     "metadata": {},
     "execution_count": 10
    }
   ],
   "source": [
    "facts['parrot']"
   ]
  },
  {
   "cell_type": "code",
   "execution_count": 11,
   "metadata": {},
   "outputs": [
    {
     "output_type": "execute_result",
     "data": {
      "text/plain": "{'cat': 'a pet animal that is very fun to have',\n 'dog': 'a pet animal that is super loyal',\n 'facts': 2,\n 'parrot': 'A pet bird that is super fun to have'}"
     },
     "metadata": {},
     "execution_count": 11
    }
   ],
   "source": [
    "facts"
   ]
  },
  {
   "cell_type": "code",
   "execution_count": 12,
   "metadata": {},
   "outputs": [],
   "source": [
    "facts['platypus'] = ['A mammal that gives eggs','Also can become a pet']"
   ]
  },
  {
   "cell_type": "code",
   "execution_count": 13,
   "metadata": {},
   "outputs": [
    {
     "output_type": "execute_result",
     "data": {
      "text/plain": "{'cat': 'a pet animal that is very fun to have',\n 'dog': 'a pet animal that is super loyal',\n 'facts': 2,\n 'parrot': 'A pet bird that is super fun to have',\n 'platypus': ['A mammal that gives eggs', 'Also can become a pet']}"
     },
     "metadata": {},
     "execution_count": 13
    }
   ],
   "source": [
    "facts"
   ]
  },
  {
   "source": [
    "- creating\n",
    "- looping\n",
    "- functions"
   ],
   "cell_type": "markdown",
   "metadata": {}
  },
  {
   "cell_type": "code",
   "execution_count": 1,
   "metadata": {},
   "outputs": [],
   "source": [
    "x = {1:1,\n",
    "     2:4,\n",
    "     3:9,\n",
    "     4:16,\n",
    "     5:25,}"
   ]
  },
  {
   "cell_type": "code",
   "execution_count": 2,
   "metadata": {},
   "outputs": [
    {
     "output_type": "execute_result",
     "data": {
      "text/plain": "{1: 1, 2: 4, 3: 9, 4: 16, 5: 25}"
     },
     "metadata": {},
     "execution_count": 2
    }
   ],
   "source": [
    "x"
   ]
  },
  {
   "cell_type": "code",
   "execution_count": 3,
   "metadata": {
    "tags": []
   },
   "outputs": [
    {
     "output_type": "stream",
     "name": "stdout",
     "text": "{'maggi': 50, 'mouse': 2000, 'camera': 21000, 'cheese': 180, 'sugar': 200}\n"
    }
   ],
   "source": [
    "budget = {} #empty dict\n",
    "for i in range(5):\n",
    "    item = input('ITEM NAME: ')\n",
    "    price = int(input('PRICE : '))\n",
    "    if item and price:\n",
    "        budget[item] = price\n",
    "print(budget)"
   ]
  },
  {
   "cell_type": "code",
   "execution_count": 6,
   "metadata": {},
   "outputs": [],
   "source": [
    "animal_kindom = {\n",
    "    'Arthopoda':{\n",
    "        'Crustaceans':['Crabs','Shrimps','Lobsters'],\n",
    "        'Labiatae':['Centipedes','Milipedes'],\n",
    "        'Chelicertes':['Spiders','Scorpions','Horseshoe crabs']\n",
    "    },\n",
    "    'Chordata':{\n",
    "        'Vertebrata':{\n",
    "            'Amphibians':'Frogs',\n",
    "            'Reptiles':'Lizard',\n",
    "            'Birds':'Sparrow',\n",
    "            'Mammals':'Cow',\n",
    "        }\n",
    "    },\n",
    "    'Mollusca':['Snails','Clams','Octupus']\n",
    "}"
   ]
  },
  {
   "cell_type": "code",
   "execution_count": 7,
   "metadata": {},
   "outputs": [
    {
     "output_type": "execute_result",
     "data": {
      "text/plain": "{'Arthopoda': {'Crustaceans': ['Crabs', 'Shrimps', 'Lobsters'],\n  'Labiatae': ['Centipedes', 'Milipedes'],\n  'Chelicertes': ['Spiders', 'Scorpions', 'Horseshoe crabs']},\n 'Chordata': {'Vertebrata': {'Amphibians': 'Frogs',\n   'Reptiles': 'Lizard',\n   'Birds': 'Sparrow',\n   'Mammals': 'Cow'}},\n 'Mollusca': ['Snails', 'Clams', 'Octupus']}"
     },
     "metadata": {},
     "execution_count": 7
    }
   ],
   "source": [
    "animal_kindom"
   ]
  },
  {
   "cell_type": "code",
   "execution_count": 10,
   "metadata": {},
   "outputs": [
    {
     "output_type": "execute_result",
     "data": {
      "text/plain": "'Crabs'"
     },
     "metadata": {},
     "execution_count": 10
    }
   ],
   "source": [
    "animal_kindom['Arthopoda']['Crustaceans'][0]"
   ]
  },
  {
   "source": [
    "LOOPING IN DICTIONARIES"
   ],
   "cell_type": "markdown",
   "metadata": {}
  },
  {
   "cell_type": "code",
   "execution_count": 14,
   "metadata": {
    "tags": []
   },
   "outputs": [
    {
     "output_type": "stream",
     "name": "stdout",
     "text": "maggi\nmouse\ncamera\ncheese\nsugar\n"
    }
   ],
   "source": [
    "# normal loops of dict gives keys only\n",
    "for item in budget:\n",
    "    print(item)"
   ]
  },
  {
   "cell_type": "code",
   "execution_count": 15,
   "metadata": {
    "tags": []
   },
   "outputs": [
    {
     "output_type": "stream",
     "name": "stdout",
     "text": "50\n2000\n21000\n180\n200\n"
    }
   ],
   "source": [
    "# way 1\n",
    "for key in budget:\n",
    "    print(budget[key])"
   ]
  },
  {
   "cell_type": "code",
   "execution_count": 16,
   "metadata": {
    "tags": []
   },
   "outputs": [
    {
     "output_type": "stream",
     "name": "stdout",
     "text": "50\n2000\n21000\n180\n200\n"
    }
   ],
   "source": [
    "# way 2\n",
    "for key in budget:\n",
    "    print(budget.get(key))"
   ]
  },
  {
   "cell_type": "code",
   "execution_count": 17,
   "metadata": {
    "tags": []
   },
   "outputs": [
    {
     "output_type": "stream",
     "name": "stdout",
     "text": "50\n2000\n21000\n180\n200\n"
    }
   ],
   "source": [
    "# way 3 (best)\n",
    "for key,val in budget.items():\n",
    "    print(val)"
   ]
  },
  {
   "cell_type": "code",
   "execution_count": 18,
   "metadata": {
    "tags": []
   },
   "outputs": [
    {
     "output_type": "stream",
     "name": "stdout",
     "text": "maggi 50\nmouse 2000\ncamera 21000\ncheese 180\nsugar 200\n"
    }
   ],
   "source": [
    "for key,val in budget.items():\n",
    "    print(key,val)"
   ]
  },
  {
   "source": [
    "functions\n",
    "- get()\n",
    "- items()\n",
    "- keys()\n",
    "- values()\n",
    "- update()\n",
    "- pop()"
   ],
   "cell_type": "markdown",
   "metadata": {}
  },
  {
   "cell_type": "code",
   "execution_count": 19,
   "metadata": {},
   "outputs": [
    {
     "output_type": "execute_result",
     "data": {
      "text/plain": "{1: 1, 2: 4, 3: 9, 4: 16, 5: 25}"
     },
     "metadata": {},
     "execution_count": 19
    }
   ],
   "source": [
    "x"
   ]
  },
  {
   "cell_type": "code",
   "execution_count": 23,
   "metadata": {},
   "outputs": [],
   "source": [
    "x.get(15) # x[15]"
   ]
  },
  {
   "cell_type": "code",
   "execution_count": 24,
   "metadata": {},
   "outputs": [
    {
     "output_type": "execute_result",
     "data": {
      "text/plain": "25"
     },
     "metadata": {},
     "execution_count": 24
    }
   ],
   "source": [
    "x.get(5)"
   ]
  },
  {
   "cell_type": "code",
   "execution_count": 25,
   "metadata": {},
   "outputs": [
    {
     "output_type": "execute_result",
     "data": {
      "text/plain": "50"
     },
     "metadata": {},
     "execution_count": 25
    }
   ],
   "source": [
    "budget.get('maggi')"
   ]
  },
  {
   "cell_type": "code",
   "execution_count": 26,
   "metadata": {},
   "outputs": [],
   "source": [
    "budget.get('shoes')"
   ]
  },
  {
   "cell_type": "code",
   "execution_count": 27,
   "metadata": {},
   "outputs": [
    {
     "output_type": "execute_result",
     "data": {
      "text/plain": "'not found'"
     },
     "metadata": {},
     "execution_count": 27
    }
   ],
   "source": [
    "budget.get('shoes','not found')"
   ]
  },
  {
   "cell_type": "code",
   "execution_count": 28,
   "metadata": {},
   "outputs": [
    {
     "output_type": "execute_result",
     "data": {
      "text/plain": "50"
     },
     "metadata": {},
     "execution_count": 28
    }
   ],
   "source": [
    "budget.get('maggi','not found')"
   ]
  },
  {
   "cell_type": "code",
   "execution_count": 29,
   "metadata": {},
   "outputs": [
    {
     "output_type": "execute_result",
     "data": {
      "text/plain": "dict_items([(1, 1), (2, 4), (3, 9), (4, 16), (5, 25)])"
     },
     "metadata": {},
     "execution_count": 29
    }
   ],
   "source": [
    "x.items()"
   ]
  },
  {
   "cell_type": "code",
   "execution_count": 31,
   "metadata": {},
   "outputs": [
    {
     "output_type": "execute_result",
     "data": {
      "text/plain": "dict_items([('maggi', 50), ('mouse', 2000), ('camera', 21000), ('cheese', 180), ('sugar', 200)])"
     },
     "metadata": {},
     "execution_count": 31
    }
   ],
   "source": [
    "budget.items()"
   ]
  },
  {
   "cell_type": "code",
   "execution_count": 33,
   "metadata": {},
   "outputs": [
    {
     "output_type": "execute_result",
     "data": {
      "text/plain": "['maggi', 'mouse', 'camera', 'cheese', 'sugar']"
     },
     "metadata": {},
     "execution_count": 33
    }
   ],
   "source": [
    "list(budget.keys())"
   ]
  },
  {
   "cell_type": "code",
   "execution_count": 35,
   "metadata": {},
   "outputs": [
    {
     "output_type": "execute_result",
     "data": {
      "text/plain": "[50, 2000, 21000, 180, 200]"
     },
     "metadata": {},
     "execution_count": 35
    }
   ],
   "source": [
    "list(budget.values())"
   ]
  },
  {
   "cell_type": "code",
   "execution_count": 37,
   "metadata": {},
   "outputs": [],
   "source": [
    "y = {10:100,20:400,30:30**2}"
   ]
  },
  {
   "cell_type": "code",
   "execution_count": 38,
   "metadata": {},
   "outputs": [
    {
     "output_type": "execute_result",
     "data": {
      "text/plain": "{10: 100, 20: 400, 30: 900}"
     },
     "metadata": {},
     "execution_count": 38
    }
   ],
   "source": [
    "y"
   ]
  },
  {
   "cell_type": "code",
   "execution_count": 39,
   "metadata": {},
   "outputs": [
    {
     "output_type": "execute_result",
     "data": {
      "text/plain": "{1: 1, 2: 4, 3: 9, 4: 16, 5: 25, 10: 100, 20: 400, 30: 900}"
     },
     "metadata": {},
     "execution_count": 39
    }
   ],
   "source": [
    "x.update(y)\n",
    "x"
   ]
  },
  {
   "cell_type": "code",
   "execution_count": 41,
   "metadata": {},
   "outputs": [
    {
     "output_type": "execute_result",
     "data": {
      "text/plain": "9"
     },
     "metadata": {},
     "execution_count": 41
    }
   ],
   "source": [
    "x.pop(3)"
   ]
  },
  {
   "cell_type": "code",
   "execution_count": 44,
   "metadata": {},
   "outputs": [
    {
     "output_type": "execute_result",
     "data": {
      "text/plain": "2000"
     },
     "metadata": {},
     "execution_count": 44
    }
   ],
   "source": [
    "budget.pop('mouse')"
   ]
  },
  {
   "cell_type": "code",
   "execution_count": 45,
   "metadata": {},
   "outputs": [
    {
     "output_type": "execute_result",
     "data": {
      "text/plain": "{'maggi': 50, 'camera': 21000, 'cheese': 180, 'sugar': 200}"
     },
     "metadata": {},
     "execution_count": 45
    }
   ],
   "source": [
    "budget"
   ]
  },
  {
   "cell_type": "code",
   "execution_count": 47,
   "metadata": {},
   "outputs": [],
   "source": [
    "x2 = x.copy()"
   ]
  },
  {
   "cell_type": "code",
   "execution_count": 48,
   "metadata": {},
   "outputs": [
    {
     "output_type": "execute_result",
     "data": {
      "text/plain": "{1: 1, 2: 4, 4: 16, 5: 25, 10: 100, 20: 400, 30: 900}"
     },
     "metadata": {},
     "execution_count": 48
    }
   ],
   "source": [
    "x2"
   ]
  },
  {
   "cell_type": "code",
   "execution_count": 51,
   "metadata": {},
   "outputs": [],
   "source": [
    "# wap to store marks of 5 students of class 6(a) in a suitable format\n",
    "report = {\n",
    "    'rajan':{\n",
    "        'english':90,\n",
    "        'hindi':50,\n",
    "        'maths':60,\n",
    "    },\n",
    "    'sanjana':{\n",
    "        'english':100,\n",
    "        'hindi':80,\n",
    "        'maths':90,\n",
    "    },\n",
    "    'rohan':{\n",
    "        'english':50,\n",
    "        'hindi':60,\n",
    "        'maths':60,\n",
    "    },\n",
    "    'alankar':{\n",
    "        'english':40,\n",
    "        'hindi':70,\n",
    "        'maths':90,\n",
    "    },\n",
    "    'ayan':{\n",
    "        'english':90,\n",
    "        'hindi':90,\n",
    "        'maths':90,\n",
    "    },\n",
    "}"
   ]
  },
  {
   "cell_type": "code",
   "execution_count": 59,
   "metadata": {},
   "outputs": [
    {
     "output_type": "execute_result",
     "data": {
      "text/plain": "90"
     },
     "metadata": {},
     "execution_count": 59
    }
   ],
   "source": [
    "report.get('rajan','not found').get('english','not available')"
   ]
  },
  {
   "source": [
    "## wap to create a contact book based on dictionary, the user can search any person by giving the name as input. if the name is found in dictionary: then display that value. Else , take a new entry from the user to update the data dictionary. if the user does not give any name tbe  exit  the program"
   ],
   "cell_type": "markdown",
   "metadata": {}
  },
  {
   "cell_type": "code",
   "execution_count": 68,
   "metadata": {
    "tags": []
   },
   "outputs": [
    {
     "output_type": "stream",
     "name": "stdout",
     "text": "adding contact:\nclosing program\n"
    }
   ],
   "source": [
    "contacts = {'police':100,'ambulance':101}\n",
    "while True:\n",
    "    person = input(\"find a contact:\")\n",
    "    if person:\n",
    "        if person in contacts:\n",
    "            print(f'{person}:{contacts[person]}')\n",
    "        else:\n",
    "            print('adding contact:')\n",
    "            number = int(input('contact number: '))\n",
    "            contacts[person]=number\n",
    "    else:\n",
    "        print(\"closing program\")\n",
    "        break"
   ]
  },
  {
   "cell_type": "code",
   "execution_count": null,
   "metadata": {},
   "outputs": [],
   "source": []
  }
 ]
}