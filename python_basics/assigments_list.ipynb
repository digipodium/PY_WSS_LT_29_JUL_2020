{
 "metadata": {
  "language_info": {
   "codemirror_mode": {
    "name": "ipython",
    "version": 3
   },
   "file_extension": ".py",
   "mimetype": "text/x-python",
   "name": "python",
   "nbconvert_exporter": "python",
   "pygments_lexer": "ipython3",
   "version": "3.8.3-final"
  },
  "orig_nbformat": 2,
  "kernelspec": {
   "name": "python_defaultSpec_1599920547639",
   "display_name": "Python 3.8.3 64-bit"
  }
 },
 "nbformat": 4,
 "nbformat_minor": 2,
 "cells": [
  {
   "source": [
    "Q3. Write a program which accepts a sequence of comma-separated numbers from input and generates a list which contains every number."
   ],
   "cell_type": "markdown",
   "metadata": {}
  },
  {
   "cell_type": "code",
   "execution_count": 6,
   "metadata": {},
   "outputs": [],
   "source": [
    "data = [ int(i) for i in input('enter all numbers').split(',')] # comprehension "
   ]
  },
  {
   "cell_type": "code",
   "execution_count": 7,
   "metadata": {
    "tags": []
   },
   "outputs": [
    {
     "output_type": "stream",
     "name": "stdout",
     "text": "[1, 2, 3, 1, 2, 2, 2, 2, 1, 2, 2, 3, 3, 1, 1, 2, 2]\n"
    }
   ],
   "source": [
    "print(data)"
   ]
  },
  {
   "source": [
    "Q4. Write a program that accepts a comma separated sequence of words as input and stores them in a list in alphabetically sorted order."
   ],
   "cell_type": "markdown",
   "metadata": {}
  },
  {
   "cell_type": "code",
   "execution_count": 8,
   "metadata": {
    "tags": []
   },
   "outputs": [
    {
     "output_type": "stream",
     "name": "stdout",
     "text": "[1, 1, 1, 1, 1, 2, 2, 2, 2, 2, 3, 3]\n"
    }
   ],
   "source": [
    "data = [ int(i) for i in input('enter all numbers').split(',')]\n",
    "data.sort()\n",
    "print(data)"
   ]
  },
  {
   "source": [
    "Q5. Write a program, which will find all such numbers between 1000 and 3000 (both included) such that each digit of the number is an even number.\n"
   ],
   "cell_type": "markdown",
   "metadata": {}
  },
  {
   "cell_type": "code",
   "execution_count": 13,
   "metadata": {
    "tags": []
   },
   "outputs": [
    {
     "output_type": "stream",
     "name": "stdout",
     "text": "[2000, 2002, 2004, 2006, 2008, 2020, 2022, 2024, 2026, 2028, 2040, 2042, 2044, 2046, 2048, 2060, 2062, 2064, 2066, 2068, 2080, 2082, 2084, 2086, 2088, 2200, 2202, 2204, 2206, 2208, 2220, 2222, 2224, 2226, 2228, 2240, 2242, 2244, 2246, 2248, 2260, 2262, 2264, 2266, 2268, 2280, 2282, 2284, 2286, 2288, 2400, 2402, 2404, 2406, 2408, 2420, 2422, 2424, 2426, 2428, 2440, 2442, 2444, 2446, 2448, 2460, 2462, 2464, 2466, 2468, 2480, 2482, 2484, 2486, 2488, 2600, 2602, 2604, 2606, 2608, 2620, 2622, 2624, 2626, 2628, 2640, 2642, 2644, 2646, 2648, 2660, 2662, 2664, 2666, 2668, 2680, 2682, 2684, 2686, 2688, 2800, 2802, 2804, 2806, 2808, 2820, 2822, 2824, 2826, 2828, 2840, 2842, 2844, 2846, 2848, 2860, 2862, 2864, 2866, 2868, 2880, 2882, 2884, 2886, 2888]\n"
    }
   ],
   "source": [
    "even_digits_numbers = []\n",
    "for i in range(1000,3001):\n",
    "    num = [int(n) for n in list(str(i))]\n",
    "    for val in num:\n",
    "        if val % 2 != 0:\n",
    "            break\n",
    "    else:\n",
    "        even_digits_numbers.append(i)\n",
    "print(even_digits_numbers)"
   ]
  },
  {
   "cell_type": "code",
   "execution_count": 20,
   "metadata": {
    "tags": []
   },
   "outputs": [],
   "source": [
    "even_digits_numbers = []\n",
    "for i in range(1000,3001):\n",
    "    num =[]\n",
    "    for n in list(str(i)):\n",
    "        num.append(int(n))\n",
    "    for val in num:\n",
    "        if val % 2 != 0:\n",
    "            break\n",
    "    else:\n",
    "        even_digits_numbers.append(i)"
   ]
  },
  {
   "cell_type": "code",
   "execution_count": 28,
   "metadata": {
    "tags": []
   },
   "outputs": [],
   "source": [
    "even_digits_numbers = []\n",
    "for i in range(1000,3001):\n",
    "    num = i\n",
    "    while num > 0:\n",
    "        last_digit = num % 10 # get the last digit\n",
    "        if last_digit % 2 != 0:\n",
    "            break\n",
    "        num = num // 10 # remove the last digit\n",
    "    else:\n",
    "        even_digits_numbers.append(i)"
   ]
  },
  {
   "cell_type": "code",
   "execution_count": 29,
   "metadata": {
    "tags": []
   },
   "outputs": [
    {
     "output_type": "stream",
     "name": "stdout",
     "text": "[2000, 2002, 2004, 2006, 2008, 2020, 2022, 2024, 2026, 2028, 2040, 2042, 2044, 2046, 2048, 2060, 2062, 2064, 2066, 2068, 2080, 2082, 2084, 2086, 2088, 2200, 2202, 2204, 2206, 2208, 2220, 2222, 2224, 2226, 2228, 2240, 2242, 2244, 2246, 2248, 2260, 2262, 2264, 2266, 2268, 2280, 2282, 2284, 2286, 2288, 2400, 2402, 2404, 2406, 2408, 2420, 2422, 2424, 2426, 2428, 2440, 2442, 2444, 2446, 2448, 2460, 2462, 2464, 2466, 2468, 2480, 2482, 2484, 2486, 2488, 2600, 2602, 2604, 2606, 2608, 2620, 2622, 2624, 2626, 2628, 2640, 2642, 2644, 2646, 2648, 2660, 2662, 2664, 2666, 2668, 2680, 2682, 2684, 2686, 2688, 2800, 2802, 2804, 2806, 2808, 2820, 2822, 2824, 2826, 2828, 2840, 2842, 2844, 2846, 2848, 2860, 2862, 2864, 2866, 2868, 2880, 2882, 2884, 2886, 2888]\n"
    }
   ],
   "source": [
    "print(even_digits_numbers)"
   ]
  },
  {
   "source": [
    "Q6. Sort the list below acc. to their user id :  \n",
    "`users = ['user_9434344', 'user_8643', 'user_567325']`"
   ],
   "cell_type": "markdown",
   "metadata": {}
  },
  {
   "cell_type": "code",
   "execution_count": 43,
   "metadata": {},
   "outputs": [],
   "source": [
    "users = ['user_9434344', 'user_8643', 'user_567325']\n",
    "num_id =[]\n",
    "sorted_users = []\n",
    "for id in users:\n",
    "    num_id.append(int(id.split('_')[1]))\n",
    "num_id.sort()\n",
    "for id in num_id:\n",
    "    sorted_users.append(f'user_{id}')"
   ]
  },
  {
   "cell_type": "code",
   "execution_count": 44,
   "metadata": {
    "tags": []
   },
   "outputs": [
    {
     "output_type": "stream",
     "name": "stdout",
     "text": "['user_9434344', 'user_8643', 'user_567325']\n['user_8643', 'user_567325', 'user_9434344']\n"
    }
   ],
   "source": [
    "print(users)\n",
    "print(sorted_users)"
   ]
  },
  {
   "source": [
    "Q7. WAP to take movie names from user and store them in a list until an empty string is given by user."
   ],
   "cell_type": "markdown",
   "metadata": {}
  },
  {
   "cell_type": "code",
   "execution_count": 45,
   "metadata": {
    "tags": []
   },
   "outputs": [
    {
     "output_type": "stream",
     "name": "stdout",
     "text": "['inception', 'dunkirk', 'interstellar']\n"
    }
   ],
   "source": [
    "movies = []\n",
    "while True:\n",
    "    name =input('enter movie name:')\n",
    "    if not name:\n",
    "        break\n",
    "    movies.append(name)\n",
    "print(movies)"
   ]
  },
  {
   "source": [
    "Q8. WAP to remove the elements on even indices from a list."
   ],
   "cell_type": "markdown",
   "metadata": {}
  },
  {
   "cell_type": "code",
   "execution_count": 49,
   "metadata": {},
   "outputs": [
    {
     "output_type": "execute_result",
     "data": {
      "text/plain": "[2, 4, 6, 8]"
     },
     "metadata": {},
     "execution_count": 49
    }
   ],
   "source": [
    "data = [1,2,3,4,5,6,7,8,9]\n",
    "data = data[1::2] # odd indexes\n",
    "data"
   ]
  },
  {
   "cell_type": "code",
   "execution_count": 56,
   "metadata": {
    "tags": []
   },
   "outputs": [
    {
     "output_type": "execute_result",
     "data": {
      "text/plain": "[2, 4, 6, 8]"
     },
     "metadata": {},
     "execution_count": 56
    }
   ],
   "source": [
    "data = [1,2,3,4,5,6,7,8,9]\n",
    "data_cleaned = []\n",
    "for i in range(len(data)):\n",
    "    if i % 2 != 0:\n",
    "        data_cleaned.append(data[i])\n",
    "data_cleaned"
   ]
  },
  {
   "source": [
    "Q9. Use a list comprehension to square each odd number in a list. The list is input by a sequence of comma-separated numbers."
   ],
   "cell_type": "markdown",
   "metadata": {}
  },
  {
   "cell_type": "code",
   "execution_count": 57,
   "metadata": {
    "tags": []
   },
   "outputs": [
    {
     "output_type": "stream",
     "name": "stdout",
     "text": "[2, 4, 1, 2, 3, 4, 5, 6, 1, 2, 3, 5, 1, 2, 3]\n[1, 9, 25, 1, 9, 25, 1, 9]\n"
    }
   ],
   "source": [
    "data = [ int(i) for i in input('enter all numbers').split(',')]\n",
    "data_sqr = [i**2 for i in data if i%2 != 0] \n",
    "print(data)\n",
    "print(data_sqr)"
   ]
  },
  {
   "source": [
    "Q11. WAP to take task names from user and print ‘task already added’ if it is already in the list."
   ],
   "cell_type": "markdown",
   "metadata": {}
  },
  {
   "cell_type": "code",
   "execution_count": 60,
   "metadata": {
    "tags": []
   },
   "outputs": [
    {
     "output_type": "stream",
     "name": "stdout",
     "text": "1 added to list\ntask already exists\n2 added to list\n3 added to list\ntask already exists\ntask already exists\ntask already exists\ntask already exists\ntask already exists\ntask already exists\nclosing task list\n['1', '2', '3']\n"
    }
   ],
   "source": [
    "tasks = []\n",
    "while True:\n",
    "    taskname = input('enter task:')\n",
    "    if taskname:\n",
    "        if taskname.lower() in tasks:\n",
    "            print('task already exists')\n",
    "        else:\n",
    "            print(f'{taskname} added to list')\n",
    "            tasks.append(taskname.lower())\n",
    "    else:\n",
    "        print('closing task list')\n",
    "        break\n",
    "print(tasks)\n",
    "    \n"
   ]
  },
  {
   "source": [
    "Q12. WAP to take first & second names as input from the user and add all the first names in a list"
   ],
   "cell_type": "markdown",
   "metadata": {}
  },
  {
   "cell_type": "code",
   "execution_count": 63,
   "metadata": {
    "tags": []
   },
   "outputs": [
    {
     "output_type": "stream",
     "name": "stdout",
     "text": "raja\nsonu\nhimesh\n"
    }
   ],
   "source": [
    "names =[]\n",
    "while True:\n",
    "    fname = input('FIRST NAME: ')\n",
    "    lname = input('LAST NAME: ')\n",
    "    if fname:\n",
    "        names.append(fname)\n",
    "    else:\n",
    "        break\n",
    "print(names)"
   ]
  },
  {
   "cell_type": "code",
   "execution_count": 64,
   "metadata": {},
   "outputs": [
    {
     "output_type": "execute_result",
     "data": {
      "text/plain": "['raja babu', 'sonu beta', 'himesh reshamiya']"
     },
     "metadata": {},
     "execution_count": 64
    }
   ],
   "source": [
    "names =[]\n",
    "while True:\n",
    "    fname = input('FIRST NAME: ')\n",
    "    lname = input('LAST NAME: ')\n",
    "    if fname:\n",
    "        names.append(f'{fname} {lname}')\n",
    "    else:\n",
    "        break\n",
    "for name in names:\n",
    "    print(name.split()[0])"
   ]
  },
  {
   "cell_type": "code",
   "execution_count": null,
   "metadata": {},
   "outputs": [],
   "source": []
  }
 ]
}