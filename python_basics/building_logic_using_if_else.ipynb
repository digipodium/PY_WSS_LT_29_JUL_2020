{
 "metadata": {
  "language_info": {
   "codemirror_mode": {
    "name": "ipython",
    "version": 3
   },
   "file_extension": ".py",
   "mimetype": "text/x-python",
   "name": "python",
   "nbconvert_exporter": "python",
   "pygments_lexer": "ipython3",
   "version": 3
  },
  "orig_nbformat": 2,
  "kernelspec": {
   "name": "python_defaultSpec_1597245952978",
   "display_name": "Python 3.8.3 64-bit"
  }
 },
 "nbformat": 4,
 "nbformat_minor": 2,
 "cells": [
  {
   "cell_type": "code",
   "execution_count": null,
   "metadata": {},
   "outputs": [],
   "source": [
    "x = 10\n",
    "if x > 3:\n",
    "    print(\"great, x is bigger than 3\")"
   ]
  },
  {
   "cell_type": "code",
   "execution_count": null,
   "metadata": {},
   "outputs": [],
   "source": [
    "x = 2\n",
    "if x > 3:\n",
    "    print(\"great, x is bigger than 3\")"
   ]
  },
  {
   "cell_type": "code",
   "execution_count": 7,
   "metadata": {
    "tags": []
   },
   "outputs": [
    {
     "output_type": "stream",
     "name": "stdout",
     "text": "you will have to pay the fine\nRs. 50\nthanks for coming to the library\n"
    }
   ],
   "source": [
    "days = int(input(\"for how many days the books for taken:\"))\n",
    "if days >= 30:\n",
    "    print(\"you will have to pay the fine\")\n",
    "    print(\"Rs. 50\")\n",
    "print('thanks for coming to the library')"
   ]
  },
  {
   "cell_type": "markdown",
   "metadata": {},
   "source": [
    "# qualification of employee\n",
    "1. is BCA -> then display msg -> get more education\n",
    "2. is MCA -> then display msg -> get some certification\n",
    "3. is Btech -> then display msg -> get some food"
   ]
  },
  {
   "cell_type": "code",
   "execution_count": 8,
   "metadata": {
    "tags": []
   },
   "outputs": [
    {
     "output_type": "stream",
     "name": "stdout",
     "text": "you need to get some certifications\n"
    }
   ],
   "source": [
    "q = input(\"whats your qualification => \")\n",
    "if q == 'BCA':\n",
    "    print(\"you need to get more education\")\n",
    "if q == 'MCA':\n",
    "    print(\"you need to get some certifications\")\n",
    "if q == 'Btech':\n",
    "    print(\"you need to get some food\")"
   ]
  },
  {
   "cell_type": "markdown",
   "metadata": {},
   "source": [
    "# check whether price is in range\n",
    "- price < 10000 => will purchase\n",
    "- price > 10000 => will ask for bargain => if bargain is given => will purchase\n",
    "- price > 10000 => will ask for bargain => if bargain is not given => will not purchase\n"
   ]
  },
  {
   "cell_type": "code",
   "execution_count": 10,
   "metadata": {
    "tags": []
   },
   "outputs": [
    {
     "output_type": "stream",
     "name": "stdout",
     "text": "Give me some discounts plz\n"
    }
   ],
   "source": [
    "price = int(input('tell me the products price:'))\n",
    "if price < 10000:\n",
    "    print(\"I will buy the product\")\n",
    "else:\n",
    "    print(\"Give me some discounts plz\")"
   ]
  },
  {
   "cell_type": "code",
   "execution_count": 2,
   "metadata": {
    "tags": []
   },
   "outputs": [
    {
     "output_type": "stream",
     "name": "stdout",
     "text": "Give me some discounts plz\nNo one will buy this crap!\n"
    }
   ],
   "source": [
    "price = int(input('tell me the products price:'))\n",
    "if price < 10000:\n",
    "    print(\"I will buy the product\")\n",
    "else:\n",
    "    print(\"Give me some discounts plz\")\n",
    "    gotDiscout = input('did you get the discount(yes|no):')\n",
    "    if gotDiscout == 'yes':\n",
    "        print(\"now i will buy the product\")\n",
    "    else:\n",
    "        print(\"No one will buy this crap!\")\n"
   ]
  },
  {
   "cell_type": "markdown",
   "metadata": {},
   "source": [
    "# bank balance \n",
    "1. if balance > 1000 => pay bill 200 and update balance\n",
    "2. else balance > 500 => dont pay bill and display balance"
   ]
  },
  {
   "cell_type": "code",
   "execution_count": 18,
   "metadata": {
    "tags": []
   },
   "outputs": [
    {
     "output_type": "stream",
     "name": "stdout",
     "text": "my balance is 700 :( \n"
    }
   ],
   "source": [
    "balance = int(input('enter your bank balance amt:'))\n",
    "if balance > 1000:\n",
    "    balance = balance - 200\n",
    "    print(f\"{balance} remain\")\n",
    "else:\n",
    "    if balance > 500:\n",
    "        print(f\"my balance is {balance} :( \")"
   ]
  },
  {
   "cell_type": "markdown",
   "metadata": {},
   "source": [
    "### QUESTIONS\n",
    "1. wap to check whether your name is written in allcaps of not\n",
    "2. wap to ask the weather, if its raining then stay home, if its sunny, go out, if its cold, go out with a jacket\n",
    "3. wap to update the salary of employee to + 10%, if its greater than 35000 else make the salary 25000"
   ]
  },
  {
   "cell_type": "code",
   "execution_count": 2,
   "metadata": {
    "tags": []
   },
   "outputs": [
    {
     "output_type": "stream",
     "name": "stdout",
     "text": "Good\n"
    }
   ],
   "source": [
    "name = input('enter your name in caps')\n",
    "if name == \"ZAID\":\n",
    "    print(\"Good\")\n",
    "else:\n",
    "    print(\"very bad\")"
   ]
  },
  {
   "cell_type": "code",
   "execution_count": 4,
   "metadata": {
    "tags": []
   },
   "outputs": [
    {
     "output_type": "stream",
     "name": "stdout",
     "text": "go out\n"
    }
   ],
   "source": [
    "weather = input(\"enter the outside weather :\")\n",
    "if weather == 'raining':\n",
    "    print(\"stay home\") \n",
    "elif weather == 'sunny':\n",
    "    print(\"go out\")\n",
    "elif weather == 'cold':\n",
    "    price('go out with a jacket')\n",
    "else:\n",
    "    print(\"Please enter valid choices: sunny, cold, raining\")"
   ]
  },
  {
   "cell_type": "code",
   "execution_count": 6,
   "metadata": {
    "tags": []
   },
   "outputs": [
    {
     "output_type": "stream",
     "name": "stdout",
     "text": "new salary is 25000\n"
    }
   ],
   "source": [
    "salary = int(input('enter your salary'))\n",
    "if salary > 35000:\n",
    "    salary += salary*.1 # combination << salary = salary + salary * .1\n",
    "else:\n",
    "    salary = 25000\n",
    "print(f\"new salary is {salary}\")"
   ]
  },
  {
   "cell_type": "markdown",
   "metadata": {},
   "source": [
    "### special keyword for logic in python\n",
    "- in - finds if an item or seq exists in a bigger sequence\n",
    "- is - compare item identity\n",
    "- := (walrus operater)"
   ]
  },
  {
   "cell_type": "code",
   "execution_count": 6,
   "metadata": {
    "tags": []
   },
   "outputs": [
    {
     "output_type": "stream",
     "name": "stdout",
     "text": "plural word\n"
    }
   ],
   "source": [
    "msg= 'apples'\n",
    "if 'es' in msg:\n",
    "    print(\"plural word\")\n",
    "else:\n",
    "    print(\"something else\")"
   ]
  },
  {
   "cell_type": "code",
   "execution_count": 8,
   "metadata": {
    "tags": []
   },
   "outputs": [
    {
     "output_type": "stream",
     "name": "stdout",
     "text": "Doctor\n"
    }
   ],
   "source": [
    "name = 'Dr. Watson'\n",
    "if 'Mr.' in name:\n",
    "    print(\"Gentlemen\")\n",
    "elif 'Dr.' in name:\n",
    "    print(\"Doctor\")\n",
    "elif 'Prof.' in name:\n",
    "    print(\"Professor\")\n",
    "else:\n",
    "    print(\"hello\")"
   ]
  },
  {
   "cell_type": "code",
   "execution_count": 4,
   "metadata": {
    "tags": []
   },
   "outputs": [
    {
     "output_type": "stream",
     "name": "stdout",
     "text": "green color found\n"
    }
   ],
   "source": [
    "colors= ['red','blue','green','yellow','brown'] # list in python\n",
    "if 'green' in colors:\n",
    "    print('green color found')"
   ]
  },
  {
   "cell_type": "markdown",
   "metadata": {},
   "source": [
    "### is vs =="
   ]
  },
  {
   "cell_type": "code",
   "execution_count": 6,
   "metadata": {},
   "outputs": [],
   "source": [
    "a = [1,2,3]"
   ]
  },
  {
   "cell_type": "code",
   "execution_count": 7,
   "metadata": {},
   "outputs": [],
   "source": [
    "b = a"
   ]
  },
  {
   "cell_type": "code",
   "execution_count": 10,
   "metadata": {},
   "outputs": [
    {
     "output_type": "execute_result",
     "data": {
      "text/plain": "True"
     },
     "metadata": {},
     "execution_count": 10
    }
   ],
   "source": [
    "a == b"
   ]
  },
  {
   "cell_type": "code",
   "execution_count": 11,
   "metadata": {},
   "outputs": [
    {
     "output_type": "execute_result",
     "data": {
      "text/plain": "True"
     },
     "metadata": {},
     "execution_count": 11
    }
   ],
   "source": [
    "a is b"
   ]
  },
  {
   "cell_type": "code",
   "execution_count": 12,
   "metadata": {},
   "outputs": [],
   "source": [
    "c = [1,2,3]"
   ]
  },
  {
   "cell_type": "code",
   "execution_count": 14,
   "metadata": {},
   "outputs": [
    {
     "output_type": "execute_result",
     "data": {
      "text/plain": "True"
     },
     "metadata": {},
     "execution_count": 14
    }
   ],
   "source": [
    "a == c"
   ]
  },
  {
   "cell_type": "code",
   "execution_count": 15,
   "metadata": {},
   "outputs": [
    {
     "output_type": "execute_result",
     "data": {
      "text/plain": "False"
     },
     "metadata": {},
     "execution_count": 15
    }
   ],
   "source": [
    "a is c"
   ]
  },
  {
   "cell_type": "markdown",
   "metadata": {},
   "source": [
    "### walrus operater"
   ]
  },
  {
   "cell_type": "code",
   "execution_count": 18,
   "metadata": {
    "tags": []
   },
   "outputs": [],
   "source": [
    "# normal version without walrus operater\n",
    "x = int(input('your cgpa:'))\n",
    "if x>7:\n",
    "    cgpa = x\n",
    "else:\n",
    "    print('your cgpa is too low')"
   ]
  },
  {
   "cell_type": "code",
   "execution_count": 23,
   "metadata": {
    "tags": []
   },
   "outputs": [
    {
     "output_type": "stream",
     "name": "stdout",
     "text": "you cgpa is too low\n"
    }
   ],
   "source": []
  },
  {
   "cell_type": "code",
   "execution_count": 2,
   "metadata": {},
   "outputs": [
    {
     "output_type": "execute_result",
     "data": {
      "text/plain": "9"
     },
     "metadata": {},
     "execution_count": 2
    }
   ],
   "source": [
    "a = [1,2,3,4,2,2,1,2,5]\n",
    "len(a)"
   ]
  },
  {
   "cell_type": "code",
   "execution_count": 5,
   "metadata": {
    "tags": []
   },
   "outputs": [
    {
     "output_type": "stream",
     "name": "stdout",
     "text": "list is ok\n"
    }
   ],
   "source": [
    "if (n:= len(a)) < 5:\n",
    "    print('list is too small')\n",
    "else:\n",
    "    print('list is ok')"
   ]
  },
  {
   "cell_type": "code",
   "execution_count": null,
   "metadata": {},
   "outputs": [],
   "source": [
    "n = len(a)\n",
    "if n < 5:\n",
    "    print('list is too small')\n",
    "else:\n",
    "    print('list is ok')"
   ]
  }
 ]
}