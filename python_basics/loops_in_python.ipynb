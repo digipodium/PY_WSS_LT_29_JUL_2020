{
 "metadata": {
  "language_info": {
   "codemirror_mode": {
    "name": "ipython",
    "version": 3
   },
   "file_extension": ".py",
   "mimetype": "text/x-python",
   "name": "python",
   "nbconvert_exporter": "python",
   "pygments_lexer": "ipython3",
   "version": "3.8.3-final"
  },
  "orig_nbformat": 2,
  "kernelspec": {
   "name": "python_defaultSpec_1597574871233",
   "display_name": "Python 3.8.3 64-bit"
  }
 },
 "nbformat": 4,
 "nbformat_minor": 2,
 "cells": [
  {
   "cell_type": "code",
   "execution_count": 1,
   "metadata": {
    "tags": []
   },
   "outputs": [
    {
     "output_type": "stream",
     "name": "stdout",
     "text": "hello\nhello\nhello\nhello\nhello\nhello\nhello\nhello\nhello\n"
    }
   ],
   "source": [
    "print(\"hello\")\n",
    "print(\"hello\")\n",
    "print(\"hello\")\n",
    "print(\"hello\")\n",
    "print(\"hello\")\n",
    "print(\"hello\")\n",
    "print(\"hello\")\n",
    "print(\"hello\")\n",
    "print(\"hello\")"
   ]
  },
  {
   "cell_type": "code",
   "execution_count": 2,
   "metadata": {
    "tags": []
   },
   "outputs": [
    {
     "output_type": "stream",
     "name": "stdout",
     "text": "hello\nhello\nhello\nhello\nhello\nhello\nhello\nhello\nhello\nhello\n"
    }
   ],
   "source": [
    "for i in range(10):\n",
    "    print('hello')"
   ]
  },
  {
   "cell_type": "code",
   "execution_count": 3,
   "metadata": {},
   "outputs": [],
   "source": [
    "name = \"zaid kamil\""
   ]
  },
  {
   "cell_type": "code",
   "execution_count": 4,
   "metadata": {},
   "outputs": [
    {
     "output_type": "execute_result",
     "data": {
      "text/plain": "10"
     },
     "metadata": {},
     "execution_count": 4
    }
   ],
   "source": [
    "len(name)"
   ]
  },
  {
   "cell_type": "code",
   "execution_count": 5,
   "metadata": {
    "tags": []
   },
   "outputs": [
    {
     "output_type": "stream",
     "name": "stdout",
     "text": "z\na\ni\nd\n \nk\na\nm\ni\nl\n"
    }
   ],
   "source": [
    "for item in name:\n",
    "    print(item)"
   ]
  },
  {
   "cell_type": "markdown",
   "metadata": {},
   "source": [
    "*syntax*\n",
    "```python\n",
    "\n",
    "for temp_var in iterator:\n",
    "    statement1\n",
    "    statement2\n",
    "    ...\n",
    "    statement2\n",
    "\n",
    "```"
   ]
  },
  {
   "cell_type": "code",
   "execution_count": 7,
   "metadata": {
    "tags": []
   },
   "outputs": [
    {
     "output_type": "stream",
     "name": "stdout",
     "text": "Roses are red\nRoses are blue\nRoses are green\nRoses are orange\nRoses are purple\n"
    }
   ],
   "source": [
    "colors = ['red','blue','green','orange','purple']\n",
    "for i in colors:\n",
    "    print(f'Roses are {i}')"
   ]
  },
  {
   "cell_type": "code",
   "execution_count": null,
   "metadata": {
    "tags": []
   },
   "outputs": [],
   "source": [
    "for i in colors:\n",
    "    if 'r' in i:\n",
    "        print(f'Roses are {i}')"
   ]
  },
  {
   "cell_type": "code",
   "execution_count": 13,
   "metadata": {
    "tags": []
   },
   "outputs": [
    {
     "output_type": "stream",
     "name": "stdout",
     "text": "3\n1\n3\n45\n5\n65\n23\n3\n23\n3\n1\n3\n21\n123\n"
    }
   ],
   "source": [
    "x = [2,3,1,2,3,45,5,6,65,4,23,3,32,32,12,23,3,1,2,3,21,123,32,2]\n",
    "for item in x:\n",
    "    if item % 2 != 0:\n",
    "        print(item)\n"
   ]
  },
  {
   "cell_type": "code",
   "execution_count": 17,
   "metadata": {
    "tags": []
   },
   "outputs": [
    {
     "output_type": "execute_result",
     "data": {
      "text/plain": "448"
     },
     "metadata": {},
     "execution_count": 17
    }
   ],
   "source": [
    "sum(x) # already available in  python"
   ]
  },
  {
   "cell_type": "code",
   "execution_count": 18,
   "metadata": {},
   "outputs": [],
   "source": [
    "total = 0\n",
    "for i in x:\n",
    "    total = total + i"
   ]
  },
  {
   "cell_type": "code",
   "execution_count": 19,
   "metadata": {
    "tags": []
   },
   "outputs": [
    {
     "output_type": "stream",
     "name": "stdout",
     "text": "448\n"
    }
   ],
   "source": [
    "print(total)"
   ]
  },
  {
   "cell_type": "code",
   "execution_count": 21,
   "metadata": {
    "tags": []
   },
   "outputs": [
    {
     "output_type": "stream",
     "name": "stdout",
     "text": "126\n"
    }
   ],
   "source": [
    "total = 0\n",
    "for i in x:\n",
    "    if i % 2 == 0 :\n",
    "        total += i\n",
    "print(total)"
   ]
  },
  {
   "cell_type": "code",
   "execution_count": 26,
   "metadata": {},
   "outputs": [],
   "source": [
    "# how many odd values are their in x list\n",
    "counter = 0\n",
    "for i in x:\n",
    "    if i % 2 != 0:\n",
    "        counter+=1"
   ]
  },
  {
   "cell_type": "code",
   "execution_count": 28,
   "metadata": {
    "tags": []
   },
   "outputs": [
    {
     "output_type": "stream",
     "name": "stdout",
     "text": "No odd values (VERY ODD INDEED)\n"
    }
   ],
   "source": [
    "if counter:\n",
    "    print(f'{counter} odd items')\n",
    "else:\n",
    "    print(\"No odd values (VERY ODD INDEED)\")"
   ]
  },
  {
   "cell_type": "code",
   "execution_count": 35,
   "metadata": {
    "tags": []
   },
   "outputs": [
    {
     "output_type": "stream",
     "name": "stdout",
     "text": "0\n1\n2\n3\n4\n"
    }
   ],
   "source": [
    "for i in range(5):\n",
    "    print(i)"
   ]
  },
  {
   "cell_type": "code",
   "execution_count": 36,
   "metadata": {
    "tags": []
   },
   "outputs": [
    {
     "output_type": "stream",
     "name": "stdout",
     "text": "5\n6\n7\n8\n9\n10\n11\n12\n13\n14\n15\n16\n17\n18\n19\n"
    }
   ],
   "source": [
    "for i in range(5, 20):\n",
    "    print(i)"
   ]
  },
  {
   "cell_type": "code",
   "execution_count": 37,
   "metadata": {
    "tags": []
   },
   "outputs": [
    {
     "output_type": "stream",
     "name": "stdout",
     "text": "1\n3\n5\n7\n9\n11\n13\n15\n17\n19\n21\n23\n"
    }
   ],
   "source": [
    "for i in range(1,25,2):\n",
    "    print(i)"
   ]
  },
  {
   "cell_type": "code",
   "execution_count": 39,
   "metadata": {
    "tags": []
   },
   "outputs": [
    {
     "output_type": "stream",
     "name": "stdout",
     "text": "10\n9\n8\n7\n6\n5\n4\n3\n2\n1\n"
    }
   ],
   "source": [
    "for i in range(10,0,-1):\n",
    "    print(i)"
   ]
  },
  {
   "cell_type": "code",
   "execution_count": 43,
   "metadata": {
    "tags": []
   },
   "outputs": [
    {
     "output_type": "stream",
     "name": "stdout",
     "text": "*\n**\n***\n****\n*****\n"
    }
   ],
   "source": [
    "# printing pattern\n",
    "for i in range(1,6):\n",
    "    print('*' * i)"
   ]
  },
  {
   "cell_type": "code",
   "execution_count": 44,
   "metadata": {},
   "outputs": [],
   "source": [
    "# find the avg of all values in a list in 10 elements"
   ]
  },
  {
   "cell_type": "code",
   "execution_count": 45,
   "metadata": {},
   "outputs": [],
   "source": [
    "# find the max value in a numerical list\n",
    "# find the min value in a numerical list"
   ]
  },
  {
   "cell_type": "code",
   "execution_count": 46,
   "metadata": {},
   "outputs": [],
   "source": [
    "# display all the names that contain 'a' in a list of names of cricketers"
   ]
  },
  {
   "cell_type": "markdown",
   "metadata": {},
   "source": [
    "## pattern printing"
   ]
  },
  {
   "cell_type": "code",
   "execution_count": 1,
   "metadata": {},
   "outputs": [
    {
     "output_type": "execute_result",
     "data": {
      "text/plain": "'aaaaa'"
     },
     "metadata": {},
     "execution_count": 1
    }
   ],
   "source": [
    "\"a\" * 5 "
   ]
  },
  {
   "cell_type": "code",
   "execution_count": 2,
   "metadata": {},
   "outputs": [
    {
     "output_type": "execute_result",
     "data": {
      "text/plain": "'hey hey hey '"
     },
     "metadata": {},
     "execution_count": 2
    }
   ],
   "source": [
    "\"hey \"* 3"
   ]
  },
  {
   "cell_type": "code",
   "execution_count": 5,
   "metadata": {
    "tags": []
   },
   "outputs": [
    {
     "output_type": "stream",
     "name": "stdout",
     "text": "*\n**\n***\n****\n*****\n******\n"
    }
   ],
   "source": [
    "print('*' * 1)\n",
    "print('*' * 2)\n",
    "print('*' * 3)\n",
    "print('*' * 4)\n",
    "print('*' * 5)\n",
    "print('*' * 6)"
   ]
  },
  {
   "cell_type": "code",
   "execution_count": 6,
   "metadata": {
    "tags": []
   },
   "outputs": [
    {
     "output_type": "stream",
     "name": "stdout",
     "text": "*\n**\n***\n****\n*****\n******\n"
    }
   ],
   "source": [
    "for i in range(1,26):\n",
    "    print('*' * i)"
   ]
  },
  {
   "cell_type": "code",
   "execution_count": 7,
   "metadata": {
    "tags": []
   },
   "outputs": [
    {
     "output_type": "stream",
     "name": "stdout",
     "text": "LLLLLL\nLLLLL\nLLLL\nLLL\nLL\nL\n"
    }
   ],
   "source": [
    "for i in range(6,0,-1):\n",
    "    print(\"L\" * i)"
   ]
  },
  {
   "cell_type": "markdown",
   "metadata": {},
   "source": [
    "#### loop keyword\n",
    "- break - stopping loop early\n",
    "- continue  - skipping loop iteration"
   ]
  },
  {
   "cell_type": "code",
   "execution_count": 9,
   "metadata": {
    "tags": []
   },
   "outputs": [
    {
     "output_type": "stream",
     "name": "stdout",
     "text": "5\n10\n15\n20\n25\n30\n35\n40\n45\n50\n55\n60\n65\n70\n75\n80\n85\n90\n95\n100\n"
    }
   ],
   "source": [
    "for i in range(1,101):\n",
    "    if i % 5 == 0:\n",
    "        print(i)"
   ]
  },
  {
   "cell_type": "code",
   "execution_count": 15,
   "metadata": {
    "tags": []
   },
   "outputs": [
    {
     "output_type": "stream",
     "name": "stdout",
     "text": "5\n10\n15\n20\n25\n"
    }
   ],
   "source": [
    "limit = int(input('how many values you want => '))\n",
    "c = 0\n",
    "for i in range(1,101):\n",
    "    if i % 5 == 0:\n",
    "        c += 1\n",
    "        print(i)\n",
    "    if c == limit:\n",
    "        break"
   ]
  },
  {
   "cell_type": "code",
   "execution_count": 16,
   "metadata": {
    "tags": []
   },
   "outputs": [
    {
     "output_type": "stream",
     "name": "stdout",
     "text": "0\n1\n2\n3\n4\n5\n6\n"
    }
   ],
   "source": [
    "for i in range(10):\n",
    "    if i == 7:\n",
    "        break\n",
    "    print(i)"
   ]
  },
  {
   "cell_type": "code",
   "execution_count": 19,
   "metadata": {},
   "outputs": [],
   "source": [
    "fruits = ['apple','banana','cherry','dragonfruit','grapes']"
   ]
  },
  {
   "cell_type": "code",
   "execution_count": 22,
   "metadata": {
    "tags": []
   },
   "outputs": [
    {
     "output_type": "stream",
     "name": "stdout",
     "text": "apple\nbanana\ncherry\ndragonfruit\ngrapes\n"
    }
   ],
   "source": [
    "ur_fruit = input('enter your fruit name:')\n",
    "for item in fruits:\n",
    "    if item == ur_fruit:\n",
    "        break\n",
    "    print(item)"
   ]
  },
  {
   "cell_type": "code",
   "execution_count": 23,
   "metadata": {
    "tags": []
   },
   "outputs": [
    {
     "output_type": "stream",
     "name": "stdout",
     "text": "1\n2\n4\n5\n7\n8\n"
    }
   ],
   "source": [
    "for i in range(10):\n",
    "    if i % 3 == 0:\n",
    "        continue\n",
    "    print(i)"
   ]
  },
  {
   "cell_type": "code",
   "execution_count": 24,
   "metadata": {},
   "outputs": [
    {
     "output_type": "execute_result",
     "data": {
      "text/plain": "12"
     },
     "metadata": {},
     "execution_count": 24
    }
   ],
   "source": [
    "movies = ['The Howl','zindaa','avengers','batman',\"\",\n",
    "            'spider man','wonder women',\"\",'shawshank redemption',\n",
    "            'Woman in Black',\"\",'shazam']\n",
    "len(movies)"
   ]
  },
  {
   "cell_type": "code",
   "execution_count": 26,
   "metadata": {
    "tags": []
   },
   "outputs": [
    {
     "output_type": "stream",
     "name": "stdout",
     "text": "The Howl\nzindaa\navengers\nbatman\nspider man\nwonder women\nshawshank redemption\nWoman in Black\nshazam\n"
    }
   ],
   "source": [
    "for name in movies:\n",
    "    if len(name) == 0:\n",
    "        continue\n",
    "    print(name)"
   ]
  },
  {
   "cell_type": "markdown",
   "metadata": {},
   "source": [
    "### special loop function\n",
    "- enumerate -> index and values in the same loop\n",
    "- zip -> multiple iterator in a single loop"
   ]
  },
  {
   "cell_type": "code",
   "execution_count": 28,
   "metadata": {},
   "outputs": [],
   "source": [
    "topics = ['computer vision','iot','Natural language processing','data mining','web scraping','machine learning']"
   ]
  },
  {
   "cell_type": "code",
   "execution_count": 30,
   "metadata": {
    "tags": []
   },
   "outputs": [
    {
     "output_type": "stream",
     "name": "stdout",
     "text": "0 computer vision\n1 iot\n2 Natural language processing\n3 data mining\n4 web scraping\n5 machine learning\n"
    }
   ],
   "source": [
    "# without enumerate\n",
    "c = 0\n",
    "for name in topics:\n",
    "    print(c, name)\n",
    "    c +=1"
   ]
  },
  {
   "cell_type": "code",
   "execution_count": 31,
   "metadata": {
    "tags": []
   },
   "outputs": [
    {
     "output_type": "stream",
     "name": "stdout",
     "text": "(0, 'computer vision')\n(1, 'iot')\n(2, 'Natural language processing')\n(3, 'data mining')\n(4, 'web scraping')\n(5, 'machine learning')\n"
    }
   ],
   "source": [
    "# with enumerate\n",
    "for name in enumerate(topics):\n",
    "    print(name)"
   ]
  },
  {
   "cell_type": "code",
   "execution_count": 32,
   "metadata": {
    "tags": []
   },
   "outputs": [
    {
     "output_type": "stream",
     "name": "stdout",
     "text": "0 computer vision\n1 iot\n2 Natural language processing\n3 data mining\n4 web scraping\n5 machine learning\n"
    }
   ],
   "source": [
    "# with enumerate\n",
    "for idx ,name in enumerate(topics):\n",
    "    print(idx, name)"
   ]
  },
  {
   "cell_type": "code",
   "execution_count": 34,
   "metadata": {
    "tags": []
   },
   "outputs": [
    {
     "output_type": "stream",
     "name": "stdout",
     "text": "0 computer vision\n1 iot\n2 Natural language processing\n"
    }
   ],
   "source": [
    "for idx ,name in enumerate(topics):\n",
    "    if idx == 3:\n",
    "        break\n",
    "    print(idx, name)\n"
   ]
  },
  {
   "cell_type": "code",
   "execution_count": 41,
   "metadata": {
    "tags": []
   },
   "outputs": [
    {
     "output_type": "stream",
     "name": "stdout",
     "text": "sum of even indexes 90\n"
    }
   ],
   "source": [
    "# wap to calculate the sum of all even indexes in a list of numbers\n",
    "x = [1,2,3,1,2,23,12,2,33,31,2,3,22,2,2,1,1,2,2,2,3,3,3,1,3,1,1]\n",
    "total = 0\n",
    "for idx,val in enumerate(x):\n",
    "    if idx % 2 == 0:\n",
    "        total+=val\n",
    "        # print(idx,val)\n",
    "print(f'sum of even indexes {total}')"
   ]
  },
  {
   "cell_type": "code",
   "execution_count": 50,
   "metadata": {},
   "outputs": [],
   "source": [
    "x = [1,2,3,4]\n",
    "y = [3,4,5,2]\n",
    "# print it like this\n",
    "# 1 3\n",
    "# 2 4\n",
    "# 3 5\n",
    "# 4 2"
   ]
  },
  {
   "cell_type": "code",
   "execution_count": 51,
   "metadata": {
    "tags": []
   },
   "outputs": [
    {
     "output_type": "stream",
     "name": "stdout",
     "text": "1 3\n2 4\n3 5\n4 2\n"
    }
   ],
   "source": [
    "# without using zip\n",
    "for i in range(len(x)):\n",
    "    print(x[i], y[i])"
   ]
  },
  {
   "cell_type": "code",
   "execution_count": 58,
   "metadata": {
    "tags": []
   },
   "outputs": [
    {
     "output_type": "stream",
     "name": "stdout",
     "text": "2 4\n5 3\n4 2\n3 1\n"
    }
   ],
   "source": [
    "# with zip function\n",
    "for i,j in zip(x,y):\n",
    "    print(i,j)"
   ]
  },
  {
   "cell_type": "code",
   "execution_count": 53,
   "metadata": {
    "tags": []
   },
   "outputs": [
    {
     "output_type": "stream",
     "name": "stdout",
     "text": "4\n6\n8\n6\n"
    }
   ],
   "source": [
    "# with zip function - we can do logical coding\n",
    "for i,j in zip(x,y):\n",
    "    print(i+j)"
   ]
  },
  {
   "cell_type": "markdown",
   "metadata": {},
   "source": [
    "# while loop"
   ]
  },
  {
   "cell_type": "code",
   "execution_count": 59,
   "metadata": {
    "tags": []
   },
   "outputs": [
    {
     "output_type": "stream",
     "name": "stdout",
     "text": "hey there, check value of 10\nhey there, check value of 9\nhey there, check value of 8\nhey there, check value of 7\nhey there, check value of 6\nhey there, check value of 5\nhey there, check value of 4\nhey there, check value of 3\nhey there, check value of 2\nhey there, check value of 1\n"
    }
   ],
   "source": [
    "n = 10\n",
    "while n>0:\n",
    "    print('hey there, check value of',n)\n",
    "    n -= 1\n"
   ]
  },
  {
   "cell_type": "code",
   "execution_count": 62,
   "metadata": {
    "tags": []
   },
   "outputs": [
    {
     "output_type": "stream",
     "name": "stdout",
     "text": "54321\n"
    }
   ],
   "source": [
    "num = 12345\n",
    "rev = 0\n",
    "while num > 0:\n",
    "    r = num % 10\n",
    "    rev = rev * 10 + r\n",
    "    num = num // 10\n",
    "print(rev)"
   ]
  },
  {
   "cell_type": "code",
   "execution_count": 64,
   "metadata": {
    "tags": []
   },
   "outputs": [
    {
     "output_type": "stream",
     "name": "stdout",
     "text": "wrong password\nwrong password\nwrong password\nthe cave is open to you\n"
    }
   ],
   "source": [
    "while True:\n",
    "    pwd = input('give me the password to open cave : ')\n",
    "    if pwd == 'open sesame':\n",
    "        print(\"the cave is open to you\")\n",
    "        break\n",
    "    else:\n",
    "        print(\"wrong password\")"
   ]
  },
  {
   "cell_type": "code",
   "execution_count": null,
   "metadata": {},
   "outputs": [],
   "source": []
  }
 ]
}