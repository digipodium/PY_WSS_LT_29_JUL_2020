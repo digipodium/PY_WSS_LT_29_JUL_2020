{
 "metadata": {
  "language_info": {
   "codemirror_mode": {
    "name": "ipython",
    "version": 3
   },
   "file_extension": ".py",
   "mimetype": "text/x-python",
   "name": "python",
   "nbconvert_exporter": "python",
   "pygments_lexer": "ipython3",
   "version": "3.8.3-final"
  },
  "orig_nbformat": 2,
  "kernelspec": {
   "name": "python_defaultSpec_1600871046425",
   "display_name": "Python 3.8.3 64-bit"
  }
 },
 "nbformat": 4,
 "nbformat_minor": 2,
 "cells": [
  {
   "source": [
    "### functions without parameters"
   ],
   "cell_type": "markdown",
   "metadata": {}
  },
  {
   "cell_type": "code",
   "execution_count": 15,
   "metadata": {},
   "outputs": [],
   "source": [
    "def show_stars():\n",
    "    x = input('enter no of lines:')\n",
    "    if x.isnumeric():\n",
    "        x = int(x)\n",
    "        for i in range(1,x+1):\n",
    "            print(i * \"🌠\")\n",
    "    else:\n",
    "        print('invalid value given')"
   ]
  },
  {
   "cell_type": "code",
   "execution_count": 16,
   "metadata": {
    "tags": []
   },
   "outputs": [
    {
     "output_type": "stream",
     "name": "stdout",
     "text": "🌠\n🌠🌠\n🌠🌠🌠\n🌠🌠🌠🌠\n🌠🌠🌠🌠🌠\n🌠🌠🌠🌠🌠🌠\n🌠🌠🌠🌠🌠🌠🌠\n🌠🌠🌠🌠🌠🌠🌠🌠\n🌠🌠🌠🌠🌠🌠🌠🌠🌠\n🌠🌠🌠🌠🌠🌠🌠🌠🌠🌠\n"
    }
   ],
   "source": [
    "show_stars()"
   ]
  },
  {
   "cell_type": "code",
   "execution_count": 17,
   "metadata": {
    "tags": []
   },
   "outputs": [
    {
     "output_type": "stream",
     "name": "stdout",
     "text": "🌠\n🌠🌠\n🌠🌠🌠\n🌠🌠🌠🌠\n"
    }
   ],
   "source": [
    "show_stars()"
   ]
  },
  {
   "cell_type": "code",
   "execution_count": 18,
   "metadata": {
    "tags": []
   },
   "outputs": [
    {
     "output_type": "stream",
     "name": "stdout",
     "text": "invalid value given\n"
    }
   ],
   "source": [
    "show_stars()"
   ]
  },
  {
   "cell_type": "code",
   "execution_count": 26,
   "metadata": {},
   "outputs": [],
   "source": [
    "import random\n",
    "\n",
    "def roll_dice():\n",
    "    dices = [\"⚀\",\"⚁\",\"⚂\",\"⚃\",\"⚄\",\"⚅\"]\n",
    "    out = random.choice(dices)\n",
    "    print(out, end=' ')"
   ]
  },
  {
   "cell_type": "code",
   "execution_count": 27,
   "metadata": {
    "tags": []
   },
   "outputs": [
    {
     "output_type": "stream",
     "name": "stdout",
     "text": "⚄ ⚁ ⚀ ⚀ ⚁ ⚄"
    }
   ],
   "source": [
    "roll_dice()\n",
    "roll_dice()\n",
    "roll_dice()\n",
    "roll_dice()\n",
    "roll_dice()\n",
    "roll_dice()"
   ]
  },
  {
   "cell_type": "code",
   "execution_count": 28,
   "metadata": {
    "tags": []
   },
   "outputs": [
    {
     "output_type": "stream",
     "name": "stdout",
     "text": "⚃ ⚂ ⚀ ⚅ ⚅ ⚀ ⚂ ⚀ ⚅ ⚄"
    }
   ],
   "source": [
    "for i in range(10):\n",
    "    roll_dice()"
   ]
  },
  {
   "cell_type": "code",
   "execution_count": 29,
   "metadata": {},
   "outputs": [],
   "source": [
    "def game():\n",
    "    options = {'sixs':0,'ones':0}\n",
    "    dices = [\"⚀\",\"⚁\",\"⚂\",\"⚃\",\"⚄\",\"⚅\"]\n",
    "    for i in range(1,11):\n",
    "        \n",
    "        out = random.choice(dices)\n",
    "        print(out)\n",
    "        if out == \"⚅\":\n",
    "            if options['sixs'] == 1:\n",
    "                print('you are the winner')\n",
    "                break\n",
    "            if options['sixs'] == 0:\n",
    "                options['sixs'] = 1\n",
    "        else:\n",
    "            options['sixs'] = 0\n",
    "        \n",
    "        if out == \"⚀\":\n",
    "            if options['ones'] == 1:\n",
    "                print('Game over, you lose')\n",
    "                break\n",
    "            if options['ones'] == 0:\n",
    "                options['ones'] = 1\n",
    "        else:\n",
    "            options['ones'] = 0\n",
    "\n",
    "        print(f'chance {i} completed')\n",
    "    else:\n",
    "        print('game over')"
   ]
  },
  {
   "cell_type": "code",
   "execution_count": 33,
   "metadata": {
    "tags": []
   },
   "outputs": [
    {
     "output_type": "stream",
     "name": "stdout",
     "text": "⚃\nchance 1 completed\n⚃\nchance 2 completed\n⚅\nchance 3 completed\n⚅\nyou are the winner\n"
    }
   ],
   "source": [
    "game()"
   ]
  },
  {
   "cell_type": "code",
   "execution_count": 34,
   "metadata": {
    "tags": []
   },
   "outputs": [
    {
     "output_type": "stream",
     "name": "stdout",
     "text": "⚂\nchance 1 completed\n⚄\nchance 2 completed\n⚃\nchance 3 completed\n⚅\nchance 4 completed\n⚅\nyou are the winner\n"
    }
   ],
   "source": [
    "game()"
   ]
  },
  {
   "cell_type": "code",
   "execution_count": 44,
   "metadata": {},
   "outputs": [],
   "source": [
    "import math\n",
    "def pythagoras_theorem():\n",
    "    p = int(input('Perpendicular: '))\n",
    "    b = int(input(\"Base: \"))\n",
    "    h = math.sqrt(p**2 + b**2)\n",
    "    print(h)"
   ]
  },
  {
   "cell_type": "code",
   "execution_count": 45,
   "metadata": {
    "tags": []
   },
   "outputs": [
    {
     "output_type": "stream",
     "name": "stdout",
     "text": "17.69180601295413\n"
    }
   ],
   "source": [
    "pythagoras_theorem()"
   ]
  },
  {
   "cell_type": "code",
   "execution_count": 47,
   "metadata": {
    "tags": []
   },
   "outputs": [
    {
     "output_type": "stream",
     "name": "stdout",
     "text": "9.219544457292887\n"
    }
   ],
   "source": [
    "pythagoras_theorem()"
   ]
  },
  {
   "cell_type": "code",
   "execution_count": 49,
   "metadata": {
    "tags": []
   },
   "outputs": [
    {
     "output_type": "execute_result",
     "data": {
      "text/plain": "10"
     },
     "metadata": {},
     "execution_count": 49
    }
   ],
   "source": [
    "len('hex') + len('maximus')"
   ]
  },
  {
   "cell_type": "code",
   "execution_count": 50,
   "metadata": {},
   "outputs": [
    {
     "output_type": "execute_result",
     "data": {
      "text/plain": "7"
     },
     "metadata": {},
     "execution_count": 50
    }
   ],
   "source": [
    "len('maximus')"
   ]
  },
  {
   "cell_type": "code",
   "execution_count": null,
   "metadata": {},
   "outputs": [],
   "source": [
    "# task"
   ]
  }
 ]
}