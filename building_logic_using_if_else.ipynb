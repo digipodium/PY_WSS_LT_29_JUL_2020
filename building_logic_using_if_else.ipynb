{
 "metadata": {
  "language_info": {
   "codemirror_mode": {
    "name": "ipython",
    "version": 3
   },
   "file_extension": ".py",
   "mimetype": "text/x-python",
   "name": "python",
   "nbconvert_exporter": "python",
   "pygments_lexer": "ipython3",
   "version": 3
  },
  "orig_nbformat": 2,
  "kernelspec": {
   "name": "python_defaultSpec_1596898254987",
   "display_name": "Python 3.8.3 64-bit"
  }
 },
 "nbformat": 4,
 "nbformat_minor": 2,
 "cells": [
  {
   "cell_type": "code",
   "execution_count": null,
   "metadata": {},
   "outputs": [],
   "source": [
    "x = 10\n",
    "if x > 3:\n",
    "    print(\"great, x is bigger than 3\")"
   ]
  },
  {
   "cell_type": "code",
   "execution_count": null,
   "metadata": {},
   "outputs": [],
   "source": [
    "x = 2\n",
    "if x > 3:\n",
    "    print(\"great, x is bigger than 3\")"
   ]
  },
  {
   "cell_type": "code",
   "execution_count": 7,
   "metadata": {
    "tags": []
   },
   "outputs": [
    {
     "output_type": "stream",
     "name": "stdout",
     "text": "you will have to pay the fine\nRs. 50\nthanks for coming to the library\n"
    }
   ],
   "source": [
    "days = int(input(\"for how many days the books for taken:\"))\n",
    "if days >= 30:\n",
    "    print(\"you will have to pay the fine\")\n",
    "    print(\"Rs. 50\")\n",
    "print('thanks for coming to the library')"
   ]
  },
  {
   "cell_type": "markdown",
   "metadata": {},
   "source": [
    "# qualification of employee\n",
    "1. is BCA -> then display msg -> get more education\n",
    "2. is MCA -> then display msg -> get some certification\n",
    "3. is Btech -> then display msg -> get some food"
   ]
  },
  {
   "cell_type": "code",
   "execution_count": 8,
   "metadata": {
    "tags": []
   },
   "outputs": [
    {
     "output_type": "stream",
     "name": "stdout",
     "text": "you need to get some certifications\n"
    }
   ],
   "source": [
    "q = input(\"whats your qualification => \")\n",
    "if q == 'BCA':\n",
    "    print(\"you need to get more education\")\n",
    "if q == 'MCA':\n",
    "    print(\"you need to get some certifications\")\n",
    "if q == 'Btech':\n",
    "    print(\"you need to get some food\")"
   ]
  },
  {
   "cell_type": "markdown",
   "metadata": {},
   "source": [
    "# check whether price is in range\n",
    "- price < 10000 => will purchase\n",
    "- price > 10000 => will ask for bargain => if bargain is given => will purchase\n",
    "- price > 10000 => will ask for bargain => if bargain is not given => will not purchase\n"
   ]
  },
  {
   "cell_type": "code",
   "execution_count": 10,
   "metadata": {
    "tags": []
   },
   "outputs": [
    {
     "output_type": "stream",
     "name": "stdout",
     "text": "Give me some discounts plz\n"
    }
   ],
   "source": [
    "price = int(input('tell me the products price:'))\n",
    "if price < 10000:\n",
    "    print(\"I will buy the product\")\n",
    "else:\n",
    "    print(\"Give me some discounts plz\")"
   ]
  },
  {
   "cell_type": "code",
   "execution_count": 11,
   "metadata": {
    "tags": []
   },
   "outputs": [
    {
     "output_type": "stream",
     "name": "stdout",
     "text": "Give me some discounts plz\nnow i will buy the product\n"
    }
   ],
   "source": [
    "price = int(input('tell me the products price:'))\n",
    "if price < 10000:\n",
    "    print(\"I will buy the product\")\n",
    "else:\n",
    "    print(\"Give me some discounts plz\")\n",
    "    gotDiscout = input('did you get the discount(yes|no):')\n",
    "    if gotDiscout == 'yes':\n",
    "        print(\"now i will buy the product\")\n",
    "    else:\n",
    "        print(\"No one will buy this crap!\")\n"
   ]
  },
  {
   "cell_type": "markdown",
   "metadata": {},
   "source": [
    "# bank balance \n",
    "1. if balance > 1000 => pay bill 200 and update balance\n",
    "2. else balance > 500 => dont pay bill and display balance"
   ]
  },
  {
   "cell_type": "code",
   "execution_count": 18,
   "metadata": {
    "tags": []
   },
   "outputs": [
    {
     "output_type": "stream",
     "name": "stdout",
     "text": "my balance is 700 :( \n"
    }
   ],
   "source": [
    "balance = int(input('enter your bank balance amt:'))\n",
    "if balance > 1000:\n",
    "    balance = balance - 200\n",
    "    print(f\"{balance} remain\")\n",
    "else:\n",
    "    if balance > 500:\n",
    "        print(f\"my balance is {balance} :( \")"
   ]
  },
  {
   "cell_type": "markdown",
   "metadata": {},
   "source": [
    "### QUESTIONS\n",
    "1. wap to check whether your name is written in allcaps of not\n",
    "2. wap to ask the weather, if its raining then stay home, if its sunny, go out, if its cold, go out with a jacket\n",
    "3. wap to update the salary of employee to + 10%, if its greater than 35000 else make the salary 25000"
   ]
  },
  {
   "cell_type": "code",
   "execution_count": null,
   "metadata": {},
   "outputs": [],
   "source": []
  }
 ]
}