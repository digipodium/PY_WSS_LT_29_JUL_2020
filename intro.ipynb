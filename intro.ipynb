{
 "metadata": {
  "language_info": {
   "codemirror_mode": {
    "name": "ipython",
    "version": 3
   },
   "file_extension": ".py",
   "mimetype": "text/x-python",
   "name": "python",
   "nbconvert_exporter": "python",
   "pygments_lexer": "ipython3",
   "version": "3.8.3-final"
  },
  "orig_nbformat": 2,
  "kernelspec": {
   "name": "python_defaultSpec_1599233625279",
   "display_name": "Python 3.8.3 64-bit"
  }
 },
 "nbformat": 4,
 "nbformat_minor": 2,
 "cells": [
  {
   "cell_type": "markdown",
   "metadata": {},
   "source": [
    "# datatypes \n",
    "python has many datatypes but we can learn basic 9 types \n",
    "- integer\n",
    "- float\n",
    "- string\n",
    "- boolean\n",
    "- Nonetype\n",
    "- list\n",
    "- tuple\n",
    "- set\n",
    "- dict\n",
    "\n",
    "the basic types allow you to write any kind of program when u get a hang of them"
   ]
  },
  {
   "cell_type": "markdown",
   "metadata": {},
   "source": [
    "### integer - any positive or negative number including 0\n",
    "10\n",
    "200\n",
    "3000\n",
    "-20\n",
    "-298328\n",
    "8123128931289\n",
    "- `int` name of datatype in python\n",
    "- `int()` name of constructor or type cast function"
   ]
  },
  {
   "cell_type": "markdown",
   "metadata": {},
   "source": [
    "## float - any real number \n",
    ".9 0.321 -1.232 3.145 3.421312313123123123123 2312313.123 1.00000000\n",
    "- `float` name\n",
    "- `float()` constructor name"
   ]
  },
  {
   "cell_type": "markdown",
   "metadata": {},
   "source": [
    "## String - anything in single, double or triple quotes is a string\n",
    "```\n",
    "'apple'         -> single line string\n",
    "\"apricot\"       -> single line string\n",
    "'''alabama'''   -> multiline string\n",
    "\"\"\"aeroplane\"\"\" -> multiline string\n",
    "```\n",
    "- `str` name\n",
    "- `str()` constructor\n",
    "- immutable"
   ]
  },
  {
   "cell_type": "markdown",
   "metadata": {},
   "source": [
    "## boolean - True and False values only\n",
    "True False \n",
    "- `bool` name\n",
    "- `bool()` constructor "
   ]
  },
  {
   "cell_type": "markdown",
   "metadata": {},
   "source": [
    "## Nonetype - datatype to tell when a variable is holding nothing\n",
    "None\n",
    "- `None` name"
   ]
  },
  {
   "cell_type": "markdown",
   "metadata": {},
   "source": [
    "## list - store multiple values in a single container\n",
    "- properties\n",
    "    - heterogenous\n",
    "    - indexed and ordered\n",
    "    - dynamic\n",
    "    - it can have duplicates\n",
    "    - represented by `[ ]` brackets\n",
    "    - `list` name\n",
    "    - `list( )` constructor\n",
    "- examples\n",
    "\n",
    "    `[1,2,3]`\n",
    "\n",
    "    `['apple','banana','apricot']`\n",
    "\n",
    "    `['raj','banker',93020,True,[15,12,5],False]`\n",
    "    \n",
    "    `[]`"
   ]
  },
  {
   "cell_type": "markdown",
   "metadata": {},
   "source": [
    "## tuple - store multiple values, cannot be changed after creation\n",
    "- properties\n",
    "    - `tuple` name\n",
    "    - `tuple( )` constructor\n",
    "    - immutable\n",
    "    - indexed and ordered\n",
    "    - heterogenous\n",
    "    - can have duplicates\n",
    "    - represented by `( )` bracket\n",
    "- examples\n",
    "\n",
    "    `1,2,3`\n",
    "\n",
    "    `(1,2,3)`\n",
    "\n",
    "    `('a','b','c')`\n",
    "\n",
    "    `(1,'a',2,'b')`\n",
    "\n",
    "    `()` -> empty tuple"
   ]
  },
  {
   "cell_type": "markdown",
   "metadata": {},
   "source": [
    "## set - store multiple values which are only unique \n",
    "- properties\n",
    "    - heterogenous\n",
    "    - unindexed and unordered\n",
    "    - dynamic\n",
    "    - can only have unique values\n",
    "    - represented by `{ }` bracket\n",
    "    - `set` name\n",
    "    - `set()` constuctor\n",
    "- examples\n",
    "\n",
    "`{1,2,3}`\n",
    "\n",
    "`{'a','c','b'}`\n",
    "\n",
    "`{'hey','this','is',10,20,30}`\n",
    "\n",
    "`set()` -> empty set"
   ]
  },
  {
   "cell_type": "markdown",
   "metadata": {},
   "source": [
    "## dictionary - store data in key value format\n",
    "- properties \n",
    "    - key : value based\n",
    "    - dynamic (mutable)\n",
    "    - keys are always immutable and unique (Strings or tuples)\n",
    "    - values can be anything\n",
    "    - represented by `{}`\n",
    "    - `dict` name\n",
    "    - `dict()` constructor \n",
    "- example\n",
    "\n",
    "    `{'raj':30,'ravi':40,'rohan':50}`\n",
    "    \n",
    "    `{\n",
    "        'a':'apple',\n",
    "        'b':'banana'\n",
    "    }\n",
    "    `"
   ]
  },
  {
   "cell_type": "markdown",
   "metadata": {},
   "source": [
    "# variables"
   ]
  },
  {
   "cell_type": "code",
   "execution_count": 25,
   "metadata": {},
   "outputs": [],
   "source": [
    "a = 10"
   ]
  },
  {
   "cell_type": "code",
   "execution_count": 26,
   "metadata": {},
   "outputs": [
    {
     "output_type": "execute_result",
     "data": {
      "text/plain": "10"
     },
     "metadata": {},
     "execution_count": 26
    }
   ],
   "source": [
    "a "
   ]
  },
  {
   "cell_type": "code",
   "execution_count": 27,
   "metadata": {},
   "outputs": [],
   "source": [
    "name= 'Zaid kamil'"
   ]
  },
  {
   "cell_type": "code",
   "execution_count": 28,
   "metadata": {},
   "outputs": [
    {
     "output_type": "execute_result",
     "data": {
      "text/plain": "'Zaid kamil'"
     },
     "metadata": {},
     "execution_count": 28
    }
   ],
   "source": [
    "name"
   ]
  },
  {
   "cell_type": "code",
   "execution_count": 29,
   "metadata": {},
   "outputs": [
    {
     "output_type": "execute_result",
     "data": {
      "text/plain": "10"
     },
     "metadata": {},
     "execution_count": 29
    }
   ],
   "source": [
    "a"
   ]
  },
  {
   "cell_type": "code",
   "execution_count": 30,
   "metadata": {},
   "outputs": [],
   "source": [
    "iq = 99.2323"
   ]
  },
  {
   "cell_type": "code",
   "execution_count": 31,
   "metadata": {},
   "outputs": [],
   "source": [
    "x= [1,2,3]"
   ]
  },
  {
   "cell_type": "code",
   "execution_count": 32,
   "metadata": {},
   "outputs": [],
   "source": [
    "y = ('a','m','e','rica')"
   ]
  },
  {
   "cell_type": "code",
   "execution_count": 33,
   "metadata": {},
   "outputs": [],
   "source": [
    "z = {'a','c','b'}"
   ]
  },
  {
   "cell_type": "code",
   "execution_count": 34,
   "metadata": {},
   "outputs": [],
   "source": [
    "marks = {'raj':30,'ravi':40,'rohan':50}"
   ]
  },
  {
   "cell_type": "code",
   "execution_count": 35,
   "metadata": {},
   "outputs": [],
   "source": [
    "total = None"
   ]
  },
  {
   "cell_type": "code",
   "execution_count": 36,
   "metadata": {},
   "outputs": [],
   "source": [
    "fav_color_2 ='yellow'"
   ]
  },
  {
   "cell_type": "code",
   "execution_count": null,
   "metadata": {},
   "outputs": [],
   "source": []
  }
 ]
}