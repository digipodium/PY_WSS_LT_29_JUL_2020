{
 "metadata": {
  "language_info": {
   "codemirror_mode": {
    "name": "ipython",
    "version": 3
   },
   "file_extension": ".py",
   "mimetype": "text/x-python",
   "name": "python",
   "nbconvert_exporter": "python",
   "pygments_lexer": "ipython3",
   "version": "3.8.6-final"
  },
  "orig_nbformat": 2,
  "kernelspec": {
   "name": "Python 3.8.6 64-bit",
   "display_name": "Python 3.8.6 64-bit",
   "metadata": {
    "interpreter": {
     "hash": "9ad268fd485861c22c359044ed3ddbe8fb481338325f6875a93294b1083849ba"
    }
   }
  }
 },
 "nbformat": 4,
 "nbformat_minor": 2,
 "cells": [
  {
   "source": [
    "# EDA\n",
    "- requirements\n",
    "    - `pip install pandas`\n",
    "    - `pip install matplotlib`\n",
    "    - `pip install seaborn`\n",
    "    - `pip install plotly`\n",
    "    - `pip install xlrd`\n",
    "\n",
    "EDA is basically done with pandas, while other 3 are for visualizing"
   ],
   "cell_type": "markdown",
   "metadata": {}
  },
  {
   "cell_type": "code",
   "execution_count": 3,
   "metadata": {},
   "outputs": [],
   "source": [
    "import pandas as pd\n",
    "import matplotlib.pyplot as plt\n",
    "import seaborn as sns\n",
    "import plotly.express as px"
   ]
  },
  {
   "cell_type": "code",
   "execution_count": 67,
   "metadata": {},
   "outputs": [],
   "source": [
    "topmovies = pd.read_excel('../top_movies_list.xlsx')"
   ]
  },
  {
   "cell_type": "code",
   "execution_count": 12,
   "metadata": {},
   "outputs": [
    {
     "output_type": "display_data",
     "data": {
      "application/vnd.plotly.v1+json": {
       "config": {
        "plotlyServerURL": "https://plot.ly"
       },
       "data": [
        {
         "hovertemplate": "<b>%{hovertext}</b><br><br>rating=%{x}<br>index=%{y}<extra></extra>",
         "hovertext": [
          "1.      The Shawshank Redemption(1994)",
          "2.      The Godfather(1972)",
          "3.      The Godfather: Part II(1974)",
          "4.      The Dark Knight(2008)",
          "5.      12 Angry Men(1957)",
          "6.      Schindler's List(1993)",
          "7.      The Lord of the Rings: The Return of the King(2003)",
          "8.      Pulp Fiction(1994)",
          "9.      Il buono, il brutto, il cattivo(1966)",
          "10.      The Lord of the Rings: The Fellowship of the Ring(2001)",
          "11.      Fight Club(1999)",
          "12.      Forrest Gump(1994)",
          "13.      Inception(2010)",
          "14.      The Lord of the Rings: The Two Towers(2002)",
          "15.      Star Wars: Episode V - The Empire Strikes Back(1980)",
          "16.      The Matrix(1999)",
          "17.      Goodfellas(1990)",
          "18.      One Flew Over the Cuckoo's Nest(1975)",
          "19.      Shichinin no samurai(1954)",
          "20.      Se7en(1995)",
          "21.      La vita è bella(1997)",
          "22.      Cidade de Deus(2002)",
          "23.      The Silence of the Lambs(1991)",
          "24.      It's a Wonderful Life(1946)",
          "25.      Star Wars(1977)",
          "26.      Saving Private Ryan(1998)",
          "27.      Sen to Chihiro no kamikakushi(2001)",
          "28.      The Green Mile(1999)",
          "29.      Interstellar(2014)",
          "30.      Gisaengchung(2019)",
          "31.      Léon(1994)",
          "32.      The Usual Suspects(1995)",
          "33.      Seppuku(1962)",
          "34.      The Lion King(1994)",
          "35.      Back to the Future(1985)",
          "36.      The Pianist(2002)",
          "37.      Terminator 2: Judgment Day(1991)",
          "38.      American History X(1998)",
          "39.      Modern Times(1936)",
          "40.      Psycho(1960)",
          "41.      Gladiator(2000)",
          "42.      City Lights(1931)",
          "43.      The Departed(2006)",
          "44.      The Intouchables(2011)",
          "45.      Whiplash(2014)",
          "46.      Hamilton(2020)",
          "47.      The Prestige(2006)",
          "48.      Hotaru no haka(1988)",
          "49.      Once Upon a Time in the West(1968)",
          "50.      Casablanca(1942)",
          "51.      Nuovo Cinema Paradiso(1988)",
          "52.      Rear Window(1954)",
          "53.      Alien(1979)",
          "54.      Apocalypse Now(1979)",
          "55.      Memento(2000)",
          "56.      The Great Dictator(1940)",
          "57.      Raiders of the Lost Ark(1981)",
          "58.      Django Unchained(2012)",
          "59.      The Lives of Others(2006)",
          "60.      Joker(2019)",
          "61.      Paths of Glory(1957)",
          "62.      WALL·E(2008)",
          "63.      The Shining(1980)",
          "64.      Avengers: Infinity War(2018)",
          "65.      Sunset Blvd.(1950)",
          "66.      Witness for the Prosecution(1957)",
          "67.      Spider-Man: Into the Spider-Verse(2018)",
          "68.      Mononoke-hime(1997)",
          "69.      Oldeuboi(2003)",
          "70.      Dr. Strangelove or: How I Learned to Stop Worrying and Love the Bomb(1964)",
          "71.      The Dark Knight Rises(2012)",
          "72.      Once Upon a Time in America(1984)",
          "73.      Aliens(1986)",
          "74.      Kimi no na wa.(2016)",
          "75.      Avengers: Endgame(2019)",
          "76.      Coco(2017)",
          "77.      American Beauty(1999)",
          "78.      Braveheart(1995)",
          "79.      3 Idiots(2009)",
          "80.      Das Boot(1981)",
          "81.      Toy Story(1995)",
          "82.      Tengoku to jigoku(1963)",
          "83.      Amadeus(1984)",
          "84.      Capharnaüm(2018)",
          "85.      Inglourious Basterds(2009)",
          "86.      Star Wars: Episode VI - Return of the Jedi(1983)",
          "87.      Taare Zameen Par(2007)",
          "88.      Reservoir Dogs(1992)",
          "89.      Good Will Hunting(1997)",
          "90.      2001: A Space Odyssey(1968)",
          "91.      Requiem for a Dream(2000)",
          "92.      Vertigo(1958)",
          "93.      M - Eine Stadt sucht einen Mörder(1931)",
          "94.      Eternal Sunshine of the Spotless Mind(2004)",
          "95.      Dangal(2016)",
          "96.      Jagten(2012)",
          "97.      Citizen Kane(1941)",
          "98.      1917(2019)",
          "99.      Full Metal Jacket(1987)",
          "100.      Ladri di biciclette(1948)",
          "101.      The Kid(1921)",
          "102.      Singin' in the Rain(1952)",
          "103.      A Clockwork Orange(1971)",
          "104.      North by Northwest(1959)",
          "105.      Snatch(2000)",
          "106.      Scarface(1983)",
          "107.      Taxi Driver(1976)",
          "108.      Ikiru(1952)",
          "109.      Lawrence of Arabia(1962)",
          "110.      Amélie(2001)",
          "111.      Toy Story 3(2010)",
          "112.      The Sting(1973)",
          "113.      Metropolis(1927)",
          "114.      Jodaeiye Nader az Simin(2011)",
          "115.      Incendies(2010)",
          "116.      Per qualche dollaro in più(1965)",
          "117.      Idi i smotri(1985)",
          "118.      The Apartment(1960)",
          "119.      Double Indemnity(1944)",
          "120.      To Kill a Mockingbird(1962)",
          "121.      Up(2009)",
          "122.      Indiana Jones and the Last Crusade(1989)",
          "123.      Heat(1995)",
          "124.      L.A. Confidential(1997)",
          "125.      Die Hard(1988)",
          "126.      Monty Python and the Holy Grail(1975)",
          "127.      Rashômon(1950)",
          "128.      Yôjinbô(1961)",
          "129.      Batman Begins(2005)",
          "130.      Green Book(2018)",
          "131.      Der Untergang(2004)",
          "132.      Bacheha-Ye aseman(1997)",
          "133.      Unforgiven(1992)",
          "134.      Ran(1985)",
          "135.      Some Like It Hot(1959)",
          "136.      Hauru no ugoku shiro(2004)",
          "137.      A Beautiful Mind(2001)",
          "138.      All About Eve(1950)",
          "139.      Casino(1995)",
          "140.      The Great Escape(1963)",
          "141.      The Wolf of Wall Street(2013)",
          "142.      Pan's Labyrinth(2006)",
          "143.      El secreto de sus ojos(2009)",
          "144.      Anand(1971)",
          "145.      Lock, Stock and Two Smoking Barrels(1998)",
          "146.      Raging Bull(1980)",
          "147.      There Will Be Blood(2007)",
          "148.      Tonari no Totoro(1988)",
          "149.      Judgment at Nuremberg(1961)",
          "150.      The Treasure of the Sierra Madre(1948)",
          "151.      Dial M for Murder(1954)",
          "152.      Three Billboards Outside Ebbing, Missouri(2017)",
          "153.      Chinatown(1974)",
          "154.      The Gold Rush(1925)",
          "155.      Babam ve Oglum(2005)",
          "156.      Shutter Island(2010)",
          "157.      No Country for Old Men(2007)",
          "158.      V for Vendetta(2005)",
          "159.      Det sjunde inseglet(1957)",
          "160.      Inside Out(2015)",
          "161.      Warrior(2011)",
          "162.      The Elephant Man(1980)",
          "163.      The Thing(1982)",
          "164.      The Sixth Sense(1999)",
          "165.      Trainspotting(1996)",
          "166.      Jurassic Park(1993)",
          "167.      Gone with the Wind(1939)",
          "168.      The Truman Show(1998)",
          "169.      Smultronstället(1957)",
          "170.      Finding Nemo(2003)",
          "171.      Blade Runner(1982)",
          "172.      Stalker(1979)",
          "173.      Kill Bill: Vol. 1(2003)",
          "174.      Vikram Vedha(2017)",
          "175.      The Bridge on the River Kwai(1957)",
          "176.      Room(2015)",
          "177.      Fargo(1996)",
          "178.      Salinui chueok(2003)",
          "179.      Tôkyô monogatari(1953)",
          "180.      The Third Man(1949)",
          "181.      Gran Torino(2008)",
          "182.      On the Waterfront(1954)",
          "183.      Relatos salvajes(2014)",
          "184.      The Deer Hunter(1978)",
          "185.      Klaus(2019)",
          "186.      In the Name of the Father(1993)",
          "187.      Mary and Max(2009)",
          "188.      Gone Girl(2014)",
          "189.      The Grand Budapest Hotel(2014)",
          "190.      Hacksaw Ridge(2016)",
          "191.      Andhadhun(2018)",
          "192.      Before Sunrise(1995)",
          "193.      Catch Me If You Can(2002)",
          "194.      The Big Lebowski(1998)",
          "195.      Persona(1966)",
          "196.      To Be or Not to Be(1942)",
          "197.      Prisoners(2013)",
          "198.      Sherlock Jr.(1924)",
          "199.      Eskiya(1996)",
          "200.      The General(1926)",
          "201.      How to Train Your Dragon(2010)",
          "202.      Ford v Ferrari(2019)",
          "203.      Mr. Smith Goes to Washington(1939)",
          "204.      12 Years a Slave(2013)",
          "205.      Barry Lyndon(1975)",
          "206.      Mad Max: Fury Road(2015)",
          "207.      Million Dollar Baby(2004)",
          "208.      Stand by Me(1986)",
          "209.      Network(1976)",
          "210.      Cool Hand Luke(1967)",
          "211.      Dead Poets Society(1989)",
          "212.      Ben-Hur(1959)",
          "213.      Hachi: A Dog's Tale(2009)",
          "214.      Harry Potter and the Deathly Hallows: Part 2(2011)",
          "215.      Platoon(1986)",
          "216.      Into the Wild(2007)",
          "217.      Logan(2017)",
          "218.      Le salaire de la peur(1953)",
          "219.      Life of Brian(1979)",
          "220.      Rush(2013)",
          "221.      Ah-ga-ssi(2016)",
          "222.      La passion de Jeanne d'Arc(1928)",
          "223.      Les quatre cents coups(1959)",
          "224.      Andrei Rublev(1966)",
          "225.      Hotel Rwanda(2004)",
          "226.      Spotlight(2015)",
          "227.      Amores perros(2000)",
          "228.      La haine(1995)",
          "229.      Du rififi chez les hommes(1955)",
          "230.      Kaze no tani no Naushika(1984)",
          "231.      Rocky(1976)",
          "232.      Gangs of Wasseypur(2012)",
          "233.      Monsters, Inc.(2001)",
          "234.      Rebecca(1940)",
          "235.      Rang De Basanti(2006)",
          "236.      Before Sunset(2004)",
          "237.      Portrait de la jeune fille en feu(2019)",
          "238.      Fa yeung nin wah(2000)",
          "239.      Paris, Texas(1984)",
          "240.      It Happened One Night(1934)",
          "241.      Drishyam(2015)",
          "242.      Contratiempo(2016)",
          "243.      The Princess Bride(1987)",
          "244.      The Help(2011)",
          "245.      The Circus(1928)",
          "246.      La battaglia di Algeri(1966)",
          "247.      The Terminator(1984)",
          "248.      Aladdin(1992)",
          "249.      Kis Uykusu(2014)",
          "250.      Shin seiki Evangelion Gekijô-ban: Air/Magokoro wo, kimi ni(1997)"
         ],
         "legendgroup": "",
         "line": {
          "color": "#636efa",
          "dash": "solid"
         },
         "mode": "lines",
         "name": "",
         "orientation": "h",
         "showlegend": false,
         "type": "scatter",
         "x": [
          9.2,
          9.1,
          9,
          9,
          8.9,
          8.9,
          8.9,
          8.8,
          8.8,
          8.8,
          8.8,
          8.8,
          8.7,
          8.7,
          8.7,
          8.6,
          8.6,
          8.6,
          8.6,
          8.6,
          8.6,
          8.6,
          8.6,
          8.6,
          8.6,
          8.5,
          8.5,
          8.5,
          8.5,
          8.5,
          8.5,
          8.5,
          8.5,
          8.5,
          8.5,
          8.5,
          8.5,
          8.5,
          8.5,
          8.5,
          8.5,
          8.5,
          8.5,
          8.5,
          8.5,
          8.5,
          8.5,
          8.5,
          8.4,
          8.4,
          8.4,
          8.4,
          8.4,
          8.4,
          8.4,
          8.4,
          8.4,
          8.4,
          8.4,
          8.4,
          8.4,
          8.4,
          8.4,
          8.4,
          8.4,
          8.4,
          8.4,
          8.4,
          8.4,
          8.3,
          8.3,
          8.3,
          8.3,
          8.3,
          8.3,
          8.3,
          8.3,
          8.3,
          8.3,
          8.3,
          8.3,
          8.3,
          8.3,
          8.3,
          8.3,
          8.3,
          8.3,
          8.3,
          8.3,
          8.3,
          8.3,
          8.3,
          8.3,
          8.3,
          8.3,
          8.3,
          8.3,
          8.3,
          8.2,
          8.2,
          8.2,
          8.2,
          8.2,
          8.2,
          8.2,
          8.2,
          8.2,
          8.2,
          8.2,
          8.2,
          8.2,
          8.2,
          8.2,
          8.2,
          8.2,
          8.2,
          8.2,
          8.2,
          8.2,
          8.2,
          8.2,
          8.2,
          8.2,
          8.2,
          8.2,
          8.2,
          8.2,
          8.2,
          8.2,
          8.2,
          8.2,
          8.2,
          8.2,
          8.2,
          8.2,
          8.2,
          8.2,
          8.2,
          8.2,
          8.2,
          8.2,
          8.2,
          8.1,
          8.1,
          8.1,
          8.1,
          8.1,
          8.1,
          8.1,
          8.1,
          8.1,
          8.1,
          8.1,
          8.1,
          8.1,
          8.1,
          8.1,
          8.1,
          8.1,
          8.1,
          8.1,
          8.1,
          8.1,
          8.1,
          8.1,
          8.1,
          8.1,
          8.1,
          8.1,
          8.1,
          8.1,
          8.1,
          8.1,
          8.1,
          8.1,
          8.1,
          8.1,
          8.1,
          8.1,
          8.1,
          8.1,
          8.1,
          8.1,
          8.1,
          8.1,
          8.1,
          8.1,
          8.1,
          8.1,
          8.1,
          8.1,
          8.1,
          8.1,
          8.1,
          8.1,
          8.1,
          8.1,
          8.1,
          8.1,
          8.1,
          8.1,
          8.1,
          8.1,
          8.1,
          8.1,
          8.1,
          8.1,
          8.1,
          8.1,
          8.1,
          8.1,
          8.1,
          8.1,
          8.1,
          8.1,
          8.1,
          8.1,
          8,
          8,
          8,
          8,
          8,
          8,
          8,
          8,
          8,
          8,
          8,
          8,
          8,
          8,
          8,
          8,
          8,
          8,
          8,
          8,
          8,
          8,
          8,
          8,
          8,
          8,
          8,
          8,
          8,
          8,
          8,
          8,
          8
         ],
         "xaxis": "x",
         "y": [
          0,
          1,
          2,
          3,
          4,
          5,
          6,
          7,
          8,
          9,
          10,
          11,
          12,
          13,
          14,
          15,
          16,
          17,
          18,
          19,
          20,
          21,
          22,
          23,
          24,
          25,
          26,
          27,
          28,
          29,
          30,
          31,
          32,
          33,
          34,
          35,
          36,
          37,
          38,
          39,
          40,
          41,
          42,
          43,
          44,
          45,
          46,
          47,
          48,
          49,
          50,
          51,
          52,
          53,
          54,
          55,
          56,
          57,
          58,
          59,
          60,
          61,
          62,
          63,
          64,
          65,
          66,
          67,
          68,
          69,
          70,
          71,
          72,
          73,
          74,
          75,
          76,
          77,
          78,
          79,
          80,
          81,
          82,
          83,
          84,
          85,
          86,
          87,
          88,
          89,
          90,
          91,
          92,
          93,
          94,
          95,
          96,
          97,
          98,
          99,
          100,
          101,
          102,
          103,
          104,
          105,
          106,
          107,
          108,
          109,
          110,
          111,
          112,
          113,
          114,
          115,
          116,
          117,
          118,
          119,
          120,
          121,
          122,
          123,
          124,
          125,
          126,
          127,
          128,
          129,
          130,
          131,
          132,
          133,
          134,
          135,
          136,
          137,
          138,
          139,
          140,
          141,
          142,
          143,
          144,
          145,
          146,
          147,
          148,
          149,
          150,
          151,
          152,
          153,
          154,
          155,
          156,
          157,
          158,
          159,
          160,
          161,
          162,
          163,
          164,
          165,
          166,
          167,
          168,
          169,
          170,
          171,
          172,
          173,
          174,
          175,
          176,
          177,
          178,
          179,
          180,
          181,
          182,
          183,
          184,
          185,
          186,
          187,
          188,
          189,
          190,
          191,
          192,
          193,
          194,
          195,
          196,
          197,
          198,
          199,
          200,
          201,
          202,
          203,
          204,
          205,
          206,
          207,
          208,
          209,
          210,
          211,
          212,
          213,
          214,
          215,
          216,
          217,
          218,
          219,
          220,
          221,
          222,
          223,
          224,
          225,
          226,
          227,
          228,
          229,
          230,
          231,
          232,
          233,
          234,
          235,
          236,
          237,
          238,
          239,
          240,
          241,
          242,
          243,
          244,
          245,
          246,
          247,
          248,
          249
         ],
         "yaxis": "y"
        }
       ],
       "layout": {
        "legend": {
         "tracegroupgap": 0
        },
        "margin": {
         "t": 60
        },
        "template": {
         "data": {
          "bar": [
           {
            "error_x": {
             "color": "#2a3f5f"
            },
            "error_y": {
             "color": "#2a3f5f"
            },
            "marker": {
             "line": {
              "color": "#E5ECF6",
              "width": 0.5
             }
            },
            "type": "bar"
           }
          ],
          "barpolar": [
           {
            "marker": {
             "line": {
              "color": "#E5ECF6",
              "width": 0.5
             }
            },
            "type": "barpolar"
           }
          ],
          "carpet": [
           {
            "aaxis": {
             "endlinecolor": "#2a3f5f",
             "gridcolor": "white",
             "linecolor": "white",
             "minorgridcolor": "white",
             "startlinecolor": "#2a3f5f"
            },
            "baxis": {
             "endlinecolor": "#2a3f5f",
             "gridcolor": "white",
             "linecolor": "white",
             "minorgridcolor": "white",
             "startlinecolor": "#2a3f5f"
            },
            "type": "carpet"
           }
          ],
          "choropleth": [
           {
            "colorbar": {
             "outlinewidth": 0,
             "ticks": ""
            },
            "type": "choropleth"
           }
          ],
          "contour": [
           {
            "colorbar": {
             "outlinewidth": 0,
             "ticks": ""
            },
            "colorscale": [
             [
              0,
              "#0d0887"
             ],
             [
              0.1111111111111111,
              "#46039f"
             ],
             [
              0.2222222222222222,
              "#7201a8"
             ],
             [
              0.3333333333333333,
              "#9c179e"
             ],
             [
              0.4444444444444444,
              "#bd3786"
             ],
             [
              0.5555555555555556,
              "#d8576b"
             ],
             [
              0.6666666666666666,
              "#ed7953"
             ],
             [
              0.7777777777777778,
              "#fb9f3a"
             ],
             [
              0.8888888888888888,
              "#fdca26"
             ],
             [
              1,
              "#f0f921"
             ]
            ],
            "type": "contour"
           }
          ],
          "contourcarpet": [
           {
            "colorbar": {
             "outlinewidth": 0,
             "ticks": ""
            },
            "type": "contourcarpet"
           }
          ],
          "heatmap": [
           {
            "colorbar": {
             "outlinewidth": 0,
             "ticks": ""
            },
            "colorscale": [
             [
              0,
              "#0d0887"
             ],
             [
              0.1111111111111111,
              "#46039f"
             ],
             [
              0.2222222222222222,
              "#7201a8"
             ],
             [
              0.3333333333333333,
              "#9c179e"
             ],
             [
              0.4444444444444444,
              "#bd3786"
             ],
             [
              0.5555555555555556,
              "#d8576b"
             ],
             [
              0.6666666666666666,
              "#ed7953"
             ],
             [
              0.7777777777777778,
              "#fb9f3a"
             ],
             [
              0.8888888888888888,
              "#fdca26"
             ],
             [
              1,
              "#f0f921"
             ]
            ],
            "type": "heatmap"
           }
          ],
          "heatmapgl": [
           {
            "colorbar": {
             "outlinewidth": 0,
             "ticks": ""
            },
            "colorscale": [
             [
              0,
              "#0d0887"
             ],
             [
              0.1111111111111111,
              "#46039f"
             ],
             [
              0.2222222222222222,
              "#7201a8"
             ],
             [
              0.3333333333333333,
              "#9c179e"
             ],
             [
              0.4444444444444444,
              "#bd3786"
             ],
             [
              0.5555555555555556,
              "#d8576b"
             ],
             [
              0.6666666666666666,
              "#ed7953"
             ],
             [
              0.7777777777777778,
              "#fb9f3a"
             ],
             [
              0.8888888888888888,
              "#fdca26"
             ],
             [
              1,
              "#f0f921"
             ]
            ],
            "type": "heatmapgl"
           }
          ],
          "histogram": [
           {
            "marker": {
             "colorbar": {
              "outlinewidth": 0,
              "ticks": ""
             }
            },
            "type": "histogram"
           }
          ],
          "histogram2d": [
           {
            "colorbar": {
             "outlinewidth": 0,
             "ticks": ""
            },
            "colorscale": [
             [
              0,
              "#0d0887"
             ],
             [
              0.1111111111111111,
              "#46039f"
             ],
             [
              0.2222222222222222,
              "#7201a8"
             ],
             [
              0.3333333333333333,
              "#9c179e"
             ],
             [
              0.4444444444444444,
              "#bd3786"
             ],
             [
              0.5555555555555556,
              "#d8576b"
             ],
             [
              0.6666666666666666,
              "#ed7953"
             ],
             [
              0.7777777777777778,
              "#fb9f3a"
             ],
             [
              0.8888888888888888,
              "#fdca26"
             ],
             [
              1,
              "#f0f921"
             ]
            ],
            "type": "histogram2d"
           }
          ],
          "histogram2dcontour": [
           {
            "colorbar": {
             "outlinewidth": 0,
             "ticks": ""
            },
            "colorscale": [
             [
              0,
              "#0d0887"
             ],
             [
              0.1111111111111111,
              "#46039f"
             ],
             [
              0.2222222222222222,
              "#7201a8"
             ],
             [
              0.3333333333333333,
              "#9c179e"
             ],
             [
              0.4444444444444444,
              "#bd3786"
             ],
             [
              0.5555555555555556,
              "#d8576b"
             ],
             [
              0.6666666666666666,
              "#ed7953"
             ],
             [
              0.7777777777777778,
              "#fb9f3a"
             ],
             [
              0.8888888888888888,
              "#fdca26"
             ],
             [
              1,
              "#f0f921"
             ]
            ],
            "type": "histogram2dcontour"
           }
          ],
          "mesh3d": [
           {
            "colorbar": {
             "outlinewidth": 0,
             "ticks": ""
            },
            "type": "mesh3d"
           }
          ],
          "parcoords": [
           {
            "line": {
             "colorbar": {
              "outlinewidth": 0,
              "ticks": ""
             }
            },
            "type": "parcoords"
           }
          ],
          "pie": [
           {
            "automargin": true,
            "type": "pie"
           }
          ],
          "scatter": [
           {
            "marker": {
             "colorbar": {
              "outlinewidth": 0,
              "ticks": ""
             }
            },
            "type": "scatter"
           }
          ],
          "scatter3d": [
           {
            "line": {
             "colorbar": {
              "outlinewidth": 0,
              "ticks": ""
             }
            },
            "marker": {
             "colorbar": {
              "outlinewidth": 0,
              "ticks": ""
             }
            },
            "type": "scatter3d"
           }
          ],
          "scattercarpet": [
           {
            "marker": {
             "colorbar": {
              "outlinewidth": 0,
              "ticks": ""
             }
            },
            "type": "scattercarpet"
           }
          ],
          "scattergeo": [
           {
            "marker": {
             "colorbar": {
              "outlinewidth": 0,
              "ticks": ""
             }
            },
            "type": "scattergeo"
           }
          ],
          "scattergl": [
           {
            "marker": {
             "colorbar": {
              "outlinewidth": 0,
              "ticks": ""
             }
            },
            "type": "scattergl"
           }
          ],
          "scattermapbox": [
           {
            "marker": {
             "colorbar": {
              "outlinewidth": 0,
              "ticks": ""
             }
            },
            "type": "scattermapbox"
           }
          ],
          "scatterpolar": [
           {
            "marker": {
             "colorbar": {
              "outlinewidth": 0,
              "ticks": ""
             }
            },
            "type": "scatterpolar"
           }
          ],
          "scatterpolargl": [
           {
            "marker": {
             "colorbar": {
              "outlinewidth": 0,
              "ticks": ""
             }
            },
            "type": "scatterpolargl"
           }
          ],
          "scatterternary": [
           {
            "marker": {
             "colorbar": {
              "outlinewidth": 0,
              "ticks": ""
             }
            },
            "type": "scatterternary"
           }
          ],
          "surface": [
           {
            "colorbar": {
             "outlinewidth": 0,
             "ticks": ""
            },
            "colorscale": [
             [
              0,
              "#0d0887"
             ],
             [
              0.1111111111111111,
              "#46039f"
             ],
             [
              0.2222222222222222,
              "#7201a8"
             ],
             [
              0.3333333333333333,
              "#9c179e"
             ],
             [
              0.4444444444444444,
              "#bd3786"
             ],
             [
              0.5555555555555556,
              "#d8576b"
             ],
             [
              0.6666666666666666,
              "#ed7953"
             ],
             [
              0.7777777777777778,
              "#fb9f3a"
             ],
             [
              0.8888888888888888,
              "#fdca26"
             ],
             [
              1,
              "#f0f921"
             ]
            ],
            "type": "surface"
           }
          ],
          "table": [
           {
            "cells": {
             "fill": {
              "color": "#EBF0F8"
             },
             "line": {
              "color": "white"
             }
            },
            "header": {
             "fill": {
              "color": "#C8D4E3"
             },
             "line": {
              "color": "white"
             }
            },
            "type": "table"
           }
          ]
         },
         "layout": {
          "annotationdefaults": {
           "arrowcolor": "#2a3f5f",
           "arrowhead": 0,
           "arrowwidth": 1
          },
          "coloraxis": {
           "colorbar": {
            "outlinewidth": 0,
            "ticks": ""
           }
          },
          "colorscale": {
           "diverging": [
            [
             0,
             "#8e0152"
            ],
            [
             0.1,
             "#c51b7d"
            ],
            [
             0.2,
             "#de77ae"
            ],
            [
             0.3,
             "#f1b6da"
            ],
            [
             0.4,
             "#fde0ef"
            ],
            [
             0.5,
             "#f7f7f7"
            ],
            [
             0.6,
             "#e6f5d0"
            ],
            [
             0.7,
             "#b8e186"
            ],
            [
             0.8,
             "#7fbc41"
            ],
            [
             0.9,
             "#4d9221"
            ],
            [
             1,
             "#276419"
            ]
           ],
           "sequential": [
            [
             0,
             "#0d0887"
            ],
            [
             0.1111111111111111,
             "#46039f"
            ],
            [
             0.2222222222222222,
             "#7201a8"
            ],
            [
             0.3333333333333333,
             "#9c179e"
            ],
            [
             0.4444444444444444,
             "#bd3786"
            ],
            [
             0.5555555555555556,
             "#d8576b"
            ],
            [
             0.6666666666666666,
             "#ed7953"
            ],
            [
             0.7777777777777778,
             "#fb9f3a"
            ],
            [
             0.8888888888888888,
             "#fdca26"
            ],
            [
             1,
             "#f0f921"
            ]
           ],
           "sequentialminus": [
            [
             0,
             "#0d0887"
            ],
            [
             0.1111111111111111,
             "#46039f"
            ],
            [
             0.2222222222222222,
             "#7201a8"
            ],
            [
             0.3333333333333333,
             "#9c179e"
            ],
            [
             0.4444444444444444,
             "#bd3786"
            ],
            [
             0.5555555555555556,
             "#d8576b"
            ],
            [
             0.6666666666666666,
             "#ed7953"
            ],
            [
             0.7777777777777778,
             "#fb9f3a"
            ],
            [
             0.8888888888888888,
             "#fdca26"
            ],
            [
             1,
             "#f0f921"
            ]
           ]
          },
          "colorway": [
           "#636efa",
           "#EF553B",
           "#00cc96",
           "#ab63fa",
           "#FFA15A",
           "#19d3f3",
           "#FF6692",
           "#B6E880",
           "#FF97FF",
           "#FECB52"
          ],
          "font": {
           "color": "#2a3f5f"
          },
          "geo": {
           "bgcolor": "white",
           "lakecolor": "white",
           "landcolor": "#E5ECF6",
           "showlakes": true,
           "showland": true,
           "subunitcolor": "white"
          },
          "hoverlabel": {
           "align": "left"
          },
          "hovermode": "closest",
          "mapbox": {
           "style": "light"
          },
          "paper_bgcolor": "white",
          "plot_bgcolor": "#E5ECF6",
          "polar": {
           "angularaxis": {
            "gridcolor": "white",
            "linecolor": "white",
            "ticks": ""
           },
           "bgcolor": "#E5ECF6",
           "radialaxis": {
            "gridcolor": "white",
            "linecolor": "white",
            "ticks": ""
           }
          },
          "scene": {
           "xaxis": {
            "backgroundcolor": "#E5ECF6",
            "gridcolor": "white",
            "gridwidth": 2,
            "linecolor": "white",
            "showbackground": true,
            "ticks": "",
            "zerolinecolor": "white"
           },
           "yaxis": {
            "backgroundcolor": "#E5ECF6",
            "gridcolor": "white",
            "gridwidth": 2,
            "linecolor": "white",
            "showbackground": true,
            "ticks": "",
            "zerolinecolor": "white"
           },
           "zaxis": {
            "backgroundcolor": "#E5ECF6",
            "gridcolor": "white",
            "gridwidth": 2,
            "linecolor": "white",
            "showbackground": true,
            "ticks": "",
            "zerolinecolor": "white"
           }
          },
          "shapedefaults": {
           "line": {
            "color": "#2a3f5f"
           }
          },
          "ternary": {
           "aaxis": {
            "gridcolor": "white",
            "linecolor": "white",
            "ticks": ""
           },
           "baxis": {
            "gridcolor": "white",
            "linecolor": "white",
            "ticks": ""
           },
           "bgcolor": "#E5ECF6",
           "caxis": {
            "gridcolor": "white",
            "linecolor": "white",
            "ticks": ""
           }
          },
          "title": {
           "x": 0.05
          },
          "xaxis": {
           "automargin": true,
           "gridcolor": "white",
           "linecolor": "white",
           "ticks": "",
           "title": {
            "standoff": 15
           },
           "zerolinecolor": "white",
           "zerolinewidth": 2
          },
          "yaxis": {
           "automargin": true,
           "gridcolor": "white",
           "linecolor": "white",
           "ticks": "",
           "title": {
            "standoff": 15
           },
           "zerolinecolor": "white",
           "zerolinewidth": 2
          }
         }
        },
        "xaxis": {
         "anchor": "y",
         "domain": [
          0,
          1
         ],
         "title": {
          "text": "rating"
         }
        },
        "yaxis": {
         "anchor": "x",
         "domain": [
          0,
          1
         ],
         "title": {
          "text": "index"
         }
        }
       }
      }
     },
     "metadata": {}
    }
   ],
   "source": [
    "px.line(topmovies,x='rating',hover_name='title')"
   ]
  },
  {
   "source": [
    "# reading data with csv"
   ],
   "cell_type": "markdown",
   "metadata": {}
  },
  {
   "source": [
    "pokemon = pd.read_csv('data/pokemon.csv',index_col='#')\n",
    "pokemon"
   ],
   "cell_type": "code",
   "metadata": {},
   "execution_count": 16,
   "outputs": [
    {
     "output_type": "execute_result",
     "data": {
      "text/plain": [
       "                      Name   Type 1  Type 2  Total  HP  Attack  Defense  \\\n",
       "#                                                                         \n",
       "1                Bulbasaur    Grass  Poison    318  45      49       49   \n",
       "2                  Ivysaur    Grass  Poison    405  60      62       63   \n",
       "3                 Venusaur    Grass  Poison    525  80      82       83   \n",
       "3    VenusaurMega Venusaur    Grass  Poison    625  80     100      123   \n",
       "4               Charmander     Fire     NaN    309  39      52       43   \n",
       "..                     ...      ...     ...    ...  ..     ...      ...   \n",
       "719                Diancie     Rock   Fairy    600  50     100      150   \n",
       "719    DiancieMega Diancie     Rock   Fairy    700  50     160      110   \n",
       "720    HoopaHoopa Confined  Psychic   Ghost    600  80     110       60   \n",
       "720     HoopaHoopa Unbound  Psychic    Dark    680  80     160       60   \n",
       "721              Volcanion     Fire   Water    600  80     110      120   \n",
       "\n",
       "     Sp. Atk  Sp. Def  Speed  Generation  Legendary  \n",
       "#                                                    \n",
       "1         65       65     45           1      False  \n",
       "2         80       80     60           1      False  \n",
       "3        100      100     80           1      False  \n",
       "3        122      120     80           1      False  \n",
       "4         60       50     65           1      False  \n",
       "..       ...      ...    ...         ...        ...  \n",
       "719      100      150     50           6       True  \n",
       "719      160      110    110           6       True  \n",
       "720      150      130     70           6       True  \n",
       "720      170      130     80           6       True  \n",
       "721      130       90     70           6       True  \n",
       "\n",
       "[800 rows x 12 columns]"
      ],
      "text/html": "<div>\n<style scoped>\n    .dataframe tbody tr th:only-of-type {\n        vertical-align: middle;\n    }\n\n    .dataframe tbody tr th {\n        vertical-align: top;\n    }\n\n    .dataframe thead th {\n        text-align: right;\n    }\n</style>\n<table border=\"1\" class=\"dataframe\">\n  <thead>\n    <tr style=\"text-align: right;\">\n      <th></th>\n      <th>Name</th>\n      <th>Type 1</th>\n      <th>Type 2</th>\n      <th>Total</th>\n      <th>HP</th>\n      <th>Attack</th>\n      <th>Defense</th>\n      <th>Sp. Atk</th>\n      <th>Sp. Def</th>\n      <th>Speed</th>\n      <th>Generation</th>\n      <th>Legendary</th>\n    </tr>\n    <tr>\n      <th>#</th>\n      <th></th>\n      <th></th>\n      <th></th>\n      <th></th>\n      <th></th>\n      <th></th>\n      <th></th>\n      <th></th>\n      <th></th>\n      <th></th>\n      <th></th>\n      <th></th>\n    </tr>\n  </thead>\n  <tbody>\n    <tr>\n      <th>1</th>\n      <td>Bulbasaur</td>\n      <td>Grass</td>\n      <td>Poison</td>\n      <td>318</td>\n      <td>45</td>\n      <td>49</td>\n      <td>49</td>\n      <td>65</td>\n      <td>65</td>\n      <td>45</td>\n      <td>1</td>\n      <td>False</td>\n    </tr>\n    <tr>\n      <th>2</th>\n      <td>Ivysaur</td>\n      <td>Grass</td>\n      <td>Poison</td>\n      <td>405</td>\n      <td>60</td>\n      <td>62</td>\n      <td>63</td>\n      <td>80</td>\n      <td>80</td>\n      <td>60</td>\n      <td>1</td>\n      <td>False</td>\n    </tr>\n    <tr>\n      <th>3</th>\n      <td>Venusaur</td>\n      <td>Grass</td>\n      <td>Poison</td>\n      <td>525</td>\n      <td>80</td>\n      <td>82</td>\n      <td>83</td>\n      <td>100</td>\n      <td>100</td>\n      <td>80</td>\n      <td>1</td>\n      <td>False</td>\n    </tr>\n    <tr>\n      <th>3</th>\n      <td>VenusaurMega Venusaur</td>\n      <td>Grass</td>\n      <td>Poison</td>\n      <td>625</td>\n      <td>80</td>\n      <td>100</td>\n      <td>123</td>\n      <td>122</td>\n      <td>120</td>\n      <td>80</td>\n      <td>1</td>\n      <td>False</td>\n    </tr>\n    <tr>\n      <th>4</th>\n      <td>Charmander</td>\n      <td>Fire</td>\n      <td>NaN</td>\n      <td>309</td>\n      <td>39</td>\n      <td>52</td>\n      <td>43</td>\n      <td>60</td>\n      <td>50</td>\n      <td>65</td>\n      <td>1</td>\n      <td>False</td>\n    </tr>\n    <tr>\n      <th>...</th>\n      <td>...</td>\n      <td>...</td>\n      <td>...</td>\n      <td>...</td>\n      <td>...</td>\n      <td>...</td>\n      <td>...</td>\n      <td>...</td>\n      <td>...</td>\n      <td>...</td>\n      <td>...</td>\n      <td>...</td>\n    </tr>\n    <tr>\n      <th>719</th>\n      <td>Diancie</td>\n      <td>Rock</td>\n      <td>Fairy</td>\n      <td>600</td>\n      <td>50</td>\n      <td>100</td>\n      <td>150</td>\n      <td>100</td>\n      <td>150</td>\n      <td>50</td>\n      <td>6</td>\n      <td>True</td>\n    </tr>\n    <tr>\n      <th>719</th>\n      <td>DiancieMega Diancie</td>\n      <td>Rock</td>\n      <td>Fairy</td>\n      <td>700</td>\n      <td>50</td>\n      <td>160</td>\n      <td>110</td>\n      <td>160</td>\n      <td>110</td>\n      <td>110</td>\n      <td>6</td>\n      <td>True</td>\n    </tr>\n    <tr>\n      <th>720</th>\n      <td>HoopaHoopa Confined</td>\n      <td>Psychic</td>\n      <td>Ghost</td>\n      <td>600</td>\n      <td>80</td>\n      <td>110</td>\n      <td>60</td>\n      <td>150</td>\n      <td>130</td>\n      <td>70</td>\n      <td>6</td>\n      <td>True</td>\n    </tr>\n    <tr>\n      <th>720</th>\n      <td>HoopaHoopa Unbound</td>\n      <td>Psychic</td>\n      <td>Dark</td>\n      <td>680</td>\n      <td>80</td>\n      <td>160</td>\n      <td>60</td>\n      <td>170</td>\n      <td>130</td>\n      <td>80</td>\n      <td>6</td>\n      <td>True</td>\n    </tr>\n    <tr>\n      <th>721</th>\n      <td>Volcanion</td>\n      <td>Fire</td>\n      <td>Water</td>\n      <td>600</td>\n      <td>80</td>\n      <td>110</td>\n      <td>120</td>\n      <td>130</td>\n      <td>90</td>\n      <td>70</td>\n      <td>6</td>\n      <td>True</td>\n    </tr>\n  </tbody>\n</table>\n<p>800 rows × 12 columns</p>\n</div>"
     },
     "metadata": {},
     "execution_count": 16
    }
   ]
  },
  {
   "cell_type": "code",
   "execution_count": 18,
   "metadata": {},
   "outputs": [
    {
     "output_type": "execute_result",
     "data": {
      "text/plain": [
       "#\n",
       "1        Grass\n",
       "2        Grass\n",
       "3        Grass\n",
       "3        Grass\n",
       "4         Fire\n",
       "        ...   \n",
       "719       Rock\n",
       "719       Rock\n",
       "720    Psychic\n",
       "720    Psychic\n",
       "721       Fire\n",
       "Name: Type 1, Length: 800, dtype: object"
      ]
     },
     "metadata": {},
     "execution_count": 18
    }
   ],
   "source": [
    "pokemon['Type 1']"
   ]
  },
  {
   "cell_type": "code",
   "execution_count": 19,
   "metadata": {},
   "outputs": [
    {
     "output_type": "execute_result",
     "data": {
      "text/plain": [
       "pandas.core.frame.DataFrame"
      ]
     },
     "metadata": {},
     "execution_count": 19
    }
   ],
   "source": [
    "type(pokemon)"
   ]
  },
  {
   "cell_type": "code",
   "execution_count": 20,
   "metadata": {},
   "outputs": [
    {
     "output_type": "stream",
     "name": "stdout",
     "text": [
      "<class 'pandas.core.frame.DataFrame'>\nInt64Index: 800 entries, 1 to 721\nData columns (total 12 columns):\n #   Column      Non-Null Count  Dtype \n---  ------      --------------  ----- \n 0   Name        800 non-null    object\n 1   Type 1      800 non-null    object\n 2   Type 2      414 non-null    object\n 3   Total       800 non-null    int64 \n 4   HP          800 non-null    int64 \n 5   Attack      800 non-null    int64 \n 6   Defense     800 non-null    int64 \n 7   Sp. Atk     800 non-null    int64 \n 8   Sp. Def     800 non-null    int64 \n 9   Speed       800 non-null    int64 \n 10  Generation  800 non-null    int64 \n 11  Legendary   800 non-null    bool  \ndtypes: bool(1), int64(8), object(3)\nmemory usage: 95.8+ KB\n"
     ]
    }
   ],
   "source": [
    "pokemon.info()"
   ]
  },
  {
   "cell_type": "code",
   "execution_count": 21,
   "metadata": {},
   "outputs": [
    {
     "output_type": "execute_result",
     "data": {
      "text/plain": [
       "         Name Type 1  Type 2      Total          HP      Attack     Defense  \\\n",
       "count     800    800     414  800.00000  800.000000  800.000000  800.000000   \n",
       "unique    800     18      18        NaN         NaN         NaN         NaN   \n",
       "top     Magby  Water  Flying        NaN         NaN         NaN         NaN   \n",
       "freq        1    112      97        NaN         NaN         NaN         NaN   \n",
       "mean      NaN    NaN     NaN  435.10250   69.258750   79.001250   73.842500   \n",
       "std       NaN    NaN     NaN  119.96304   25.534669   32.457366   31.183501   \n",
       "min       NaN    NaN     NaN  180.00000    1.000000    5.000000    5.000000   \n",
       "25%       NaN    NaN     NaN  330.00000   50.000000   55.000000   50.000000   \n",
       "50%       NaN    NaN     NaN  450.00000   65.000000   75.000000   70.000000   \n",
       "75%       NaN    NaN     NaN  515.00000   80.000000  100.000000   90.000000   \n",
       "max       NaN    NaN     NaN  780.00000  255.000000  190.000000  230.000000   \n",
       "\n",
       "           Sp. Atk     Sp. Def       Speed  Generation Legendary  \n",
       "count   800.000000  800.000000  800.000000   800.00000       800  \n",
       "unique         NaN         NaN         NaN         NaN         2  \n",
       "top            NaN         NaN         NaN         NaN     False  \n",
       "freq           NaN         NaN         NaN         NaN       735  \n",
       "mean     72.820000   71.902500   68.277500     3.32375       NaN  \n",
       "std      32.722294   27.828916   29.060474     1.66129       NaN  \n",
       "min      10.000000   20.000000    5.000000     1.00000       NaN  \n",
       "25%      49.750000   50.000000   45.000000     2.00000       NaN  \n",
       "50%      65.000000   70.000000   65.000000     3.00000       NaN  \n",
       "75%      95.000000   90.000000   90.000000     5.00000       NaN  \n",
       "max     194.000000  230.000000  180.000000     6.00000       NaN  "
      ],
      "text/html": "<div>\n<style scoped>\n    .dataframe tbody tr th:only-of-type {\n        vertical-align: middle;\n    }\n\n    .dataframe tbody tr th {\n        vertical-align: top;\n    }\n\n    .dataframe thead th {\n        text-align: right;\n    }\n</style>\n<table border=\"1\" class=\"dataframe\">\n  <thead>\n    <tr style=\"text-align: right;\">\n      <th></th>\n      <th>Name</th>\n      <th>Type 1</th>\n      <th>Type 2</th>\n      <th>Total</th>\n      <th>HP</th>\n      <th>Attack</th>\n      <th>Defense</th>\n      <th>Sp. Atk</th>\n      <th>Sp. Def</th>\n      <th>Speed</th>\n      <th>Generation</th>\n      <th>Legendary</th>\n    </tr>\n  </thead>\n  <tbody>\n    <tr>\n      <th>count</th>\n      <td>800</td>\n      <td>800</td>\n      <td>414</td>\n      <td>800.00000</td>\n      <td>800.000000</td>\n      <td>800.000000</td>\n      <td>800.000000</td>\n      <td>800.000000</td>\n      <td>800.000000</td>\n      <td>800.000000</td>\n      <td>800.00000</td>\n      <td>800</td>\n    </tr>\n    <tr>\n      <th>unique</th>\n      <td>800</td>\n      <td>18</td>\n      <td>18</td>\n      <td>NaN</td>\n      <td>NaN</td>\n      <td>NaN</td>\n      <td>NaN</td>\n      <td>NaN</td>\n      <td>NaN</td>\n      <td>NaN</td>\n      <td>NaN</td>\n      <td>2</td>\n    </tr>\n    <tr>\n      <th>top</th>\n      <td>Magby</td>\n      <td>Water</td>\n      <td>Flying</td>\n      <td>NaN</td>\n      <td>NaN</td>\n      <td>NaN</td>\n      <td>NaN</td>\n      <td>NaN</td>\n      <td>NaN</td>\n      <td>NaN</td>\n      <td>NaN</td>\n      <td>False</td>\n    </tr>\n    <tr>\n      <th>freq</th>\n      <td>1</td>\n      <td>112</td>\n      <td>97</td>\n      <td>NaN</td>\n      <td>NaN</td>\n      <td>NaN</td>\n      <td>NaN</td>\n      <td>NaN</td>\n      <td>NaN</td>\n      <td>NaN</td>\n      <td>NaN</td>\n      <td>735</td>\n    </tr>\n    <tr>\n      <th>mean</th>\n      <td>NaN</td>\n      <td>NaN</td>\n      <td>NaN</td>\n      <td>435.10250</td>\n      <td>69.258750</td>\n      <td>79.001250</td>\n      <td>73.842500</td>\n      <td>72.820000</td>\n      <td>71.902500</td>\n      <td>68.277500</td>\n      <td>3.32375</td>\n      <td>NaN</td>\n    </tr>\n    <tr>\n      <th>std</th>\n      <td>NaN</td>\n      <td>NaN</td>\n      <td>NaN</td>\n      <td>119.96304</td>\n      <td>25.534669</td>\n      <td>32.457366</td>\n      <td>31.183501</td>\n      <td>32.722294</td>\n      <td>27.828916</td>\n      <td>29.060474</td>\n      <td>1.66129</td>\n      <td>NaN</td>\n    </tr>\n    <tr>\n      <th>min</th>\n      <td>NaN</td>\n      <td>NaN</td>\n      <td>NaN</td>\n      <td>180.00000</td>\n      <td>1.000000</td>\n      <td>5.000000</td>\n      <td>5.000000</td>\n      <td>10.000000</td>\n      <td>20.000000</td>\n      <td>5.000000</td>\n      <td>1.00000</td>\n      <td>NaN</td>\n    </tr>\n    <tr>\n      <th>25%</th>\n      <td>NaN</td>\n      <td>NaN</td>\n      <td>NaN</td>\n      <td>330.00000</td>\n      <td>50.000000</td>\n      <td>55.000000</td>\n      <td>50.000000</td>\n      <td>49.750000</td>\n      <td>50.000000</td>\n      <td>45.000000</td>\n      <td>2.00000</td>\n      <td>NaN</td>\n    </tr>\n    <tr>\n      <th>50%</th>\n      <td>NaN</td>\n      <td>NaN</td>\n      <td>NaN</td>\n      <td>450.00000</td>\n      <td>65.000000</td>\n      <td>75.000000</td>\n      <td>70.000000</td>\n      <td>65.000000</td>\n      <td>70.000000</td>\n      <td>65.000000</td>\n      <td>3.00000</td>\n      <td>NaN</td>\n    </tr>\n    <tr>\n      <th>75%</th>\n      <td>NaN</td>\n      <td>NaN</td>\n      <td>NaN</td>\n      <td>515.00000</td>\n      <td>80.000000</td>\n      <td>100.000000</td>\n      <td>90.000000</td>\n      <td>95.000000</td>\n      <td>90.000000</td>\n      <td>90.000000</td>\n      <td>5.00000</td>\n      <td>NaN</td>\n    </tr>\n    <tr>\n      <th>max</th>\n      <td>NaN</td>\n      <td>NaN</td>\n      <td>NaN</td>\n      <td>780.00000</td>\n      <td>255.000000</td>\n      <td>190.000000</td>\n      <td>230.000000</td>\n      <td>194.000000</td>\n      <td>230.000000</td>\n      <td>180.000000</td>\n      <td>6.00000</td>\n      <td>NaN</td>\n    </tr>\n  </tbody>\n</table>\n</div>"
     },
     "metadata": {},
     "execution_count": 21
    }
   ],
   "source": [
    "pokemon.describe(include='all')"
   ]
  },
  {
   "cell_type": "code",
   "execution_count": 44,
   "metadata": {},
   "outputs": [],
   "source": [
    "name = '1. The Shawshank Redemption(1994)'"
   ]
  },
  {
   "cell_type": "code",
   "execution_count": 52,
   "metadata": {},
   "outputs": [
    {
     "output_type": "stream",
     "name": "stdout",
     "text": [
      "0 -> 1. The Shawshank Redemption\n1 -> 1994)\n"
     ]
    }
   ],
   "source": [
    "print('0 ->',name.split('(')[0]) # left item\n",
    "print('1 ->',name.split('(')[1]) # right item"
   ]
  },
  {
   "cell_type": "code",
   "execution_count": 53,
   "metadata": {},
   "outputs": [
    {
     "output_type": "execute_result",
     "data": {
      "text/plain": [
       "'1994'"
      ]
     },
     "metadata": {},
     "execution_count": 53
    }
   ],
   "source": [
    "year = '1994)'\n",
    "year[:-1]"
   ]
  },
  {
   "cell_type": "code",
   "execution_count": 42,
   "metadata": {},
   "outputs": [],
   "source": [
    "def clean_movie(name):\n",
    "    name = name.split('(')[0] # get the numbering & name\n",
    "    return name.split('.')[1].strip() # remove numbering from name"
   ]
  },
  {
   "cell_type": "code",
   "execution_count": 65,
   "metadata": {},
   "outputs": [],
   "source": [
    "def clean_year(name):\n",
    "    year = name.split('(')[1] # get the year only\n",
    "    return int(year[:-1]) # remove the bracket"
   ]
  },
  {
   "cell_type": "code",
   "execution_count": 68,
   "metadata": {},
   "outputs": [
    {
     "output_type": "execute_result",
     "data": {
      "text/plain": [
       "                                                 title  rating  \\\n",
       "0               1.      The Shawshank Redemption(1994)     9.2   \n",
       "1                          2.      The Godfather(1972)     9.1   \n",
       "2                 3.      The Godfather: Part II(1974)     9.0   \n",
       "3                        4.      The Dark Knight(2008)     9.0   \n",
       "4                           5.      12 Angry Men(1957)     8.9   \n",
       "..                                                 ...     ...   \n",
       "245             246.      La battaglia di Algeri(1966)     8.0   \n",
       "246                     247.      The Terminator(1984)     8.0   \n",
       "247                            248.      Aladdin(1992)     8.0   \n",
       "248                         249.      Kis Uykusu(2014)     8.0   \n",
       "249  250.      Shin seiki Evangelion Gekijô-ban: Ai...     8.0   \n",
       "\n",
       "                                                 names  year  \n",
       "0                             The Shawshank Redemption  1994  \n",
       "1                                        The Godfather  1972  \n",
       "2                               The Godfather: Part II  1974  \n",
       "3                                      The Dark Knight  2008  \n",
       "4                                         12 Angry Men  1957  \n",
       "..                                                 ...   ...  \n",
       "245                             La battaglia di Algeri  1966  \n",
       "246                                     The Terminator  1984  \n",
       "247                                            Aladdin  1992  \n",
       "248                                         Kis Uykusu  2014  \n",
       "249  Shin seiki Evangelion Gekijô-ban: Air/Magokoro...  1997  \n",
       "\n",
       "[250 rows x 4 columns]"
      ],
      "text/html": "<div>\n<style scoped>\n    .dataframe tbody tr th:only-of-type {\n        vertical-align: middle;\n    }\n\n    .dataframe tbody tr th {\n        vertical-align: top;\n    }\n\n    .dataframe thead th {\n        text-align: right;\n    }\n</style>\n<table border=\"1\" class=\"dataframe\">\n  <thead>\n    <tr style=\"text-align: right;\">\n      <th></th>\n      <th>title</th>\n      <th>rating</th>\n      <th>names</th>\n      <th>year</th>\n    </tr>\n  </thead>\n  <tbody>\n    <tr>\n      <th>0</th>\n      <td>1.      The Shawshank Redemption(1994)</td>\n      <td>9.2</td>\n      <td>The Shawshank Redemption</td>\n      <td>1994</td>\n    </tr>\n    <tr>\n      <th>1</th>\n      <td>2.      The Godfather(1972)</td>\n      <td>9.1</td>\n      <td>The Godfather</td>\n      <td>1972</td>\n    </tr>\n    <tr>\n      <th>2</th>\n      <td>3.      The Godfather: Part II(1974)</td>\n      <td>9.0</td>\n      <td>The Godfather: Part II</td>\n      <td>1974</td>\n    </tr>\n    <tr>\n      <th>3</th>\n      <td>4.      The Dark Knight(2008)</td>\n      <td>9.0</td>\n      <td>The Dark Knight</td>\n      <td>2008</td>\n    </tr>\n    <tr>\n      <th>4</th>\n      <td>5.      12 Angry Men(1957)</td>\n      <td>8.9</td>\n      <td>12 Angry Men</td>\n      <td>1957</td>\n    </tr>\n    <tr>\n      <th>...</th>\n      <td>...</td>\n      <td>...</td>\n      <td>...</td>\n      <td>...</td>\n    </tr>\n    <tr>\n      <th>245</th>\n      <td>246.      La battaglia di Algeri(1966)</td>\n      <td>8.0</td>\n      <td>La battaglia di Algeri</td>\n      <td>1966</td>\n    </tr>\n    <tr>\n      <th>246</th>\n      <td>247.      The Terminator(1984)</td>\n      <td>8.0</td>\n      <td>The Terminator</td>\n      <td>1984</td>\n    </tr>\n    <tr>\n      <th>247</th>\n      <td>248.      Aladdin(1992)</td>\n      <td>8.0</td>\n      <td>Aladdin</td>\n      <td>1992</td>\n    </tr>\n    <tr>\n      <th>248</th>\n      <td>249.      Kis Uykusu(2014)</td>\n      <td>8.0</td>\n      <td>Kis Uykusu</td>\n      <td>2014</td>\n    </tr>\n    <tr>\n      <th>249</th>\n      <td>250.      Shin seiki Evangelion Gekijô-ban: Ai...</td>\n      <td>8.0</td>\n      <td>Shin seiki Evangelion Gekijô-ban: Air/Magokoro...</td>\n      <td>1997</td>\n    </tr>\n  </tbody>\n</table>\n<p>250 rows × 4 columns</p>\n</div>"
     },
     "metadata": {},
     "execution_count": 68
    }
   ],
   "source": [
    "# this will add two column for names & year cleaned from title column\n",
    "topmovies['names'] = topmovies['title'].apply(clean_movie)\n",
    "topmovies['year'] = topmovies['title'].apply(clean_year)\n",
    "topmovies"
   ]
  },
  {
   "cell_type": "code",
   "execution_count": 69,
   "metadata": {},
   "outputs": [],
   "source": [
    "# drop the old title column\n",
    "topmovies.drop(columns=['title'],inplace=True)"
   ]
  },
  {
   "cell_type": "code",
   "execution_count": 70,
   "metadata": {},
   "outputs": [
    {
     "output_type": "execute_result",
     "data": {
      "text/plain": [
       "     rating                                              names  year\n",
       "0       9.2                           The Shawshank Redemption  1994\n",
       "1       9.1                                      The Godfather  1972\n",
       "2       9.0                             The Godfather: Part II  1974\n",
       "3       9.0                                    The Dark Knight  2008\n",
       "4       8.9                                       12 Angry Men  1957\n",
       "..      ...                                                ...   ...\n",
       "245     8.0                             La battaglia di Algeri  1966\n",
       "246     8.0                                     The Terminator  1984\n",
       "247     8.0                                            Aladdin  1992\n",
       "248     8.0                                         Kis Uykusu  2014\n",
       "249     8.0  Shin seiki Evangelion Gekijô-ban: Air/Magokoro...  1997\n",
       "\n",
       "[250 rows x 3 columns]"
      ],
      "text/html": "<div>\n<style scoped>\n    .dataframe tbody tr th:only-of-type {\n        vertical-align: middle;\n    }\n\n    .dataframe tbody tr th {\n        vertical-align: top;\n    }\n\n    .dataframe thead th {\n        text-align: right;\n    }\n</style>\n<table border=\"1\" class=\"dataframe\">\n  <thead>\n    <tr style=\"text-align: right;\">\n      <th></th>\n      <th>rating</th>\n      <th>names</th>\n      <th>year</th>\n    </tr>\n  </thead>\n  <tbody>\n    <tr>\n      <th>0</th>\n      <td>9.2</td>\n      <td>The Shawshank Redemption</td>\n      <td>1994</td>\n    </tr>\n    <tr>\n      <th>1</th>\n      <td>9.1</td>\n      <td>The Godfather</td>\n      <td>1972</td>\n    </tr>\n    <tr>\n      <th>2</th>\n      <td>9.0</td>\n      <td>The Godfather: Part II</td>\n      <td>1974</td>\n    </tr>\n    <tr>\n      <th>3</th>\n      <td>9.0</td>\n      <td>The Dark Knight</td>\n      <td>2008</td>\n    </tr>\n    <tr>\n      <th>4</th>\n      <td>8.9</td>\n      <td>12 Angry Men</td>\n      <td>1957</td>\n    </tr>\n    <tr>\n      <th>...</th>\n      <td>...</td>\n      <td>...</td>\n      <td>...</td>\n    </tr>\n    <tr>\n      <th>245</th>\n      <td>8.0</td>\n      <td>La battaglia di Algeri</td>\n      <td>1966</td>\n    </tr>\n    <tr>\n      <th>246</th>\n      <td>8.0</td>\n      <td>The Terminator</td>\n      <td>1984</td>\n    </tr>\n    <tr>\n      <th>247</th>\n      <td>8.0</td>\n      <td>Aladdin</td>\n      <td>1992</td>\n    </tr>\n    <tr>\n      <th>248</th>\n      <td>8.0</td>\n      <td>Kis Uykusu</td>\n      <td>2014</td>\n    </tr>\n    <tr>\n      <th>249</th>\n      <td>8.0</td>\n      <td>Shin seiki Evangelion Gekijô-ban: Air/Magokoro...</td>\n      <td>1997</td>\n    </tr>\n  </tbody>\n</table>\n<p>250 rows × 3 columns</p>\n</div>"
     },
     "metadata": {},
     "execution_count": 70
    }
   ],
   "source": [
    "topmovies"
   ]
  },
  {
   "cell_type": "code",
   "execution_count": 71,
   "metadata": {},
   "outputs": [
    {
     "output_type": "stream",
     "name": "stdout",
     "text": [
      "<class 'pandas.core.frame.DataFrame'>\nRangeIndex: 250 entries, 0 to 249\nData columns (total 3 columns):\n #   Column  Non-Null Count  Dtype  \n---  ------  --------------  -----  \n 0   rating  250 non-null    float64\n 1   names   250 non-null    object \n 2   year    250 non-null    int64  \ndtypes: float64(1), int64(1), object(1)\nmemory usage: 6.0+ KB\n"
     ]
    }
   ],
   "source": [
    "topmovies.info()"
   ]
  },
  {
   "cell_type": "code",
   "execution_count": 73,
   "metadata": {},
   "outputs": [],
   "source": [
    "topmovies.sort_values(by='year',inplace=True)"
   ]
  },
  {
   "cell_type": "code",
   "execution_count": 79,
   "metadata": {},
   "outputs": [
    {
     "output_type": "display_data",
     "data": {
      "text/plain": "<Figure size 1080x360 with 1 Axes>",
      "image/svg+xml": "<?xml version=\"1.0\" encoding=\"utf-8\" standalone=\"no\"?>\r\n<!DOCTYPE svg PUBLIC \"-//W3C//DTD SVG 1.1//EN\"\r\n  \"http://www.w3.org/Graphics/SVG/1.1/DTD/svg11.dtd\">\r\n<!-- Created with matplotlib (https://matplotlib.org/) -->\r\n<svg height=\"335.1425pt\" version=\"1.1\" viewBox=\"0 0 882.039185 335.1425\" width=\"882.039185pt\" xmlns=\"http://www.w3.org/2000/svg\" xmlns:xlink=\"http://www.w3.org/1999/xlink\">\r\n <metadata>\r\n  <rdf:RDF xmlns:cc=\"http://creativecommons.org/ns#\" xmlns:dc=\"http://purl.org/dc/elements/1.1/\" xmlns:rdf=\"http://www.w3.org/1999/02/22-rdf-syntax-ns#\">\r\n   <cc:Work>\r\n    <dc:type rdf:resource=\"http://purl.org/dc/dcmitype/StillImage\"/>\r\n    <dc:date>2020-11-28T20:46:57.867568</dc:date>\r\n    <dc:format>image/svg+xml</dc:format>\r\n    <dc:creator>\r\n     <cc:Agent>\r\n      <dc:title>Matplotlib v3.3.0, https://matplotlib.org/</dc:title>\r\n     </cc:Agent>\r\n    </dc:creator>\r\n   </cc:Work>\r\n  </rdf:RDF>\r\n </metadata>\r\n <defs>\r\n  <style type=\"text/css\">*{stroke-linecap:butt;stroke-linejoin:round;}</style>\r\n </defs>\r\n <g id=\"figure_1\">\r\n  <g id=\"patch_1\">\r\n   <path d=\"M 0 335.1425 \r\nL 882.039185 335.1425 \r\nL 882.039185 0 \r\nL 0 0 \r\nz\r\n\" style=\"fill:#ffffff;\"/>\r\n  </g>\r\n  <g id=\"axes_1\">\r\n   <g id=\"patch_2\">\r\n    <path d=\"M 37.791406 279 \r\nL 874.791406 279 \r\nL 874.791406 7.2 \r\nL 37.791406 7.2 \r\nz\r\n\" style=\"fill:#eaeaf2;\"/>\r\n   </g>\r\n   <g id=\"matplotlib.axis_1\">\r\n    <g id=\"xtick_1\">\r\n     <g id=\"text_1\">\r\n      <!-- 1921 -->\r\n      <g style=\"fill:#262626;\" transform=\"translate(45.617221 312.968125)rotate(-90)scale(0.11 -0.11)\">\r\n       <defs>\r\n        <path d=\"M 37.25 0 \r\nL 28.46875 0 \r\nL 28.46875 56 \r\nQ 25.296875 52.984375 20.140625 49.953125 \r\nQ 14.984375 46.921875 10.890625 45.40625 \r\nL 10.890625 53.90625 \r\nQ 18.265625 57.375 23.78125 62.296875 \r\nQ 29.296875 67.234375 31.59375 71.875 \r\nL 37.25 71.875 \r\nz\r\n\" id=\"ArialMT-49\"/>\r\n        <path d=\"M 5.46875 16.546875 \r\nL 13.921875 17.328125 \r\nQ 14.984375 11.375 18.015625 8.6875 \r\nQ 21.046875 6 25.78125 6 \r\nQ 29.828125 6 32.875 7.859375 \r\nQ 35.9375 9.71875 37.890625 12.8125 \r\nQ 39.84375 15.921875 41.15625 21.1875 \r\nQ 42.484375 26.46875 42.484375 31.9375 \r\nQ 42.484375 32.515625 42.4375 33.6875 \r\nQ 39.796875 29.5 35.234375 26.875 \r\nQ 30.671875 24.265625 25.34375 24.265625 \r\nQ 16.453125 24.265625 10.296875 30.703125 \r\nQ 4.15625 37.15625 4.15625 47.703125 \r\nQ 4.15625 58.59375 10.578125 65.234375 \r\nQ 17 71.875 26.65625 71.875 \r\nQ 33.640625 71.875 39.421875 68.109375 \r\nQ 45.21875 64.359375 48.21875 57.390625 \r\nQ 51.21875 50.4375 51.21875 37.25 \r\nQ 51.21875 23.53125 48.234375 15.40625 \r\nQ 45.265625 7.28125 39.375 3.03125 \r\nQ 33.5 -1.21875 25.59375 -1.21875 \r\nQ 17.1875 -1.21875 11.859375 3.4375 \r\nQ 6.546875 8.109375 5.46875 16.546875 \r\nz\r\nM 41.453125 48.140625 \r\nQ 41.453125 55.71875 37.421875 60.15625 \r\nQ 33.40625 64.59375 27.734375 64.59375 \r\nQ 21.875 64.59375 17.53125 59.8125 \r\nQ 13.1875 55.03125 13.1875 47.40625 \r\nQ 13.1875 40.578125 17.3125 36.296875 \r\nQ 21.4375 32.03125 27.484375 32.03125 \r\nQ 33.59375 32.03125 37.515625 36.296875 \r\nQ 41.453125 40.578125 41.453125 48.140625 \r\nz\r\n\" id=\"ArialMT-57\"/>\r\n        <path d=\"M 50.34375 8.453125 \r\nL 50.34375 0 \r\nL 3.03125 0 \r\nQ 2.9375 3.171875 4.046875 6.109375 \r\nQ 5.859375 10.9375 9.828125 15.625 \r\nQ 13.8125 20.3125 21.34375 26.46875 \r\nQ 33.015625 36.03125 37.109375 41.625 \r\nQ 41.21875 47.21875 41.21875 52.203125 \r\nQ 41.21875 57.421875 37.46875 61 \r\nQ 33.734375 64.59375 27.734375 64.59375 \r\nQ 21.390625 64.59375 17.578125 60.78125 \r\nQ 13.765625 56.984375 13.71875 50.25 \r\nL 4.6875 51.171875 \r\nQ 5.609375 61.28125 11.65625 66.578125 \r\nQ 17.71875 71.875 27.9375 71.875 \r\nQ 38.234375 71.875 44.234375 66.15625 \r\nQ 50.25 60.453125 50.25 52 \r\nQ 50.25 47.703125 48.484375 43.546875 \r\nQ 46.734375 39.40625 42.65625 34.8125 \r\nQ 38.578125 30.21875 29.109375 22.21875 \r\nQ 21.1875 15.578125 18.9375 13.203125 \r\nQ 16.703125 10.84375 15.234375 8.453125 \r\nz\r\n\" id=\"ArialMT-50\"/>\r\n       </defs>\r\n       <use xlink:href=\"#ArialMT-49\"/>\r\n       <use x=\"55.615234\" xlink:href=\"#ArialMT-57\"/>\r\n       <use x=\"111.230469\" xlink:href=\"#ArialMT-50\"/>\r\n       <use x=\"166.845703\" xlink:href=\"#ArialMT-49\"/>\r\n      </g>\r\n     </g>\r\n    </g>\r\n    <g id=\"xtick_2\">\r\n     <g id=\"text_2\">\r\n      <!-- 1924 -->\r\n      <g style=\"fill:#262626;\" transform=\"translate(55.581507 312.968125)rotate(-90)scale(0.11 -0.11)\">\r\n       <defs>\r\n        <path d=\"M 32.328125 0 \r\nL 32.328125 17.140625 \r\nL 1.265625 17.140625 \r\nL 1.265625 25.203125 \r\nL 33.9375 71.578125 \r\nL 41.109375 71.578125 \r\nL 41.109375 25.203125 \r\nL 50.78125 25.203125 \r\nL 50.78125 17.140625 \r\nL 41.109375 17.140625 \r\nL 41.109375 0 \r\nz\r\nM 32.328125 25.203125 \r\nL 32.328125 57.46875 \r\nL 9.90625 25.203125 \r\nz\r\n\" id=\"ArialMT-52\"/>\r\n       </defs>\r\n       <use xlink:href=\"#ArialMT-49\"/>\r\n       <use x=\"55.615234\" xlink:href=\"#ArialMT-57\"/>\r\n       <use x=\"111.230469\" xlink:href=\"#ArialMT-50\"/>\r\n       <use x=\"166.845703\" xlink:href=\"#ArialMT-52\"/>\r\n      </g>\r\n     </g>\r\n    </g>\r\n    <g id=\"xtick_3\">\r\n     <g id=\"text_3\">\r\n      <!-- 1925 -->\r\n      <g style=\"fill:#262626;\" transform=\"translate(65.545792 312.968125)rotate(-90)scale(0.11 -0.11)\">\r\n       <defs>\r\n        <path d=\"M 4.15625 18.75 \r\nL 13.375 19.53125 \r\nQ 14.40625 12.796875 18.140625 9.390625 \r\nQ 21.875 6 27.15625 6 \r\nQ 33.5 6 37.890625 10.78125 \r\nQ 42.28125 15.578125 42.28125 23.484375 \r\nQ 42.28125 31 38.0625 35.34375 \r\nQ 33.84375 39.703125 27 39.703125 \r\nQ 22.75 39.703125 19.328125 37.765625 \r\nQ 15.921875 35.84375 13.96875 32.765625 \r\nL 5.71875 33.84375 \r\nL 12.640625 70.609375 \r\nL 48.25 70.609375 \r\nL 48.25 62.203125 \r\nL 19.671875 62.203125 \r\nL 15.828125 42.96875 \r\nQ 22.265625 47.46875 29.34375 47.46875 \r\nQ 38.71875 47.46875 45.15625 40.96875 \r\nQ 51.609375 34.46875 51.609375 24.265625 \r\nQ 51.609375 14.546875 45.953125 7.46875 \r\nQ 39.0625 -1.21875 27.15625 -1.21875 \r\nQ 17.390625 -1.21875 11.203125 4.25 \r\nQ 5.03125 9.71875 4.15625 18.75 \r\nz\r\n\" id=\"ArialMT-53\"/>\r\n       </defs>\r\n       <use xlink:href=\"#ArialMT-49\"/>\r\n       <use x=\"55.615234\" xlink:href=\"#ArialMT-57\"/>\r\n       <use x=\"111.230469\" xlink:href=\"#ArialMT-50\"/>\r\n       <use x=\"166.845703\" xlink:href=\"#ArialMT-53\"/>\r\n      </g>\r\n     </g>\r\n    </g>\r\n    <g id=\"xtick_4\">\r\n     <g id=\"text_4\">\r\n      <!-- 1926 -->\r\n      <g style=\"fill:#262626;\" transform=\"translate(75.510078 312.968125)rotate(-90)scale(0.11 -0.11)\">\r\n       <defs>\r\n        <path d=\"M 49.75 54.046875 \r\nL 41.015625 53.375 \r\nQ 39.84375 58.546875 37.703125 60.890625 \r\nQ 34.125 64.65625 28.90625 64.65625 \r\nQ 24.703125 64.65625 21.53125 62.3125 \r\nQ 17.390625 59.28125 14.984375 53.46875 \r\nQ 12.59375 47.65625 12.5 36.921875 \r\nQ 15.671875 41.75 20.265625 44.09375 \r\nQ 24.859375 46.4375 29.890625 46.4375 \r\nQ 38.671875 46.4375 44.84375 39.96875 \r\nQ 51.03125 33.5 51.03125 23.25 \r\nQ 51.03125 16.5 48.125 10.71875 \r\nQ 45.21875 4.9375 40.140625 1.859375 \r\nQ 35.0625 -1.21875 28.609375 -1.21875 \r\nQ 17.625 -1.21875 10.6875 6.859375 \r\nQ 3.765625 14.9375 3.765625 33.5 \r\nQ 3.765625 54.25 11.421875 63.671875 \r\nQ 18.109375 71.875 29.4375 71.875 \r\nQ 37.890625 71.875 43.28125 67.140625 \r\nQ 48.6875 62.40625 49.75 54.046875 \r\nz\r\nM 13.875 23.1875 \r\nQ 13.875 18.65625 15.796875 14.5 \r\nQ 17.71875 10.359375 21.1875 8.171875 \r\nQ 24.65625 6 28.46875 6 \r\nQ 34.03125 6 38.03125 10.484375 \r\nQ 42.046875 14.984375 42.046875 22.703125 \r\nQ 42.046875 30.125 38.078125 34.390625 \r\nQ 34.125 38.671875 28.125 38.671875 \r\nQ 22.171875 38.671875 18.015625 34.390625 \r\nQ 13.875 30.125 13.875 23.1875 \r\nz\r\n\" id=\"ArialMT-54\"/>\r\n       </defs>\r\n       <use xlink:href=\"#ArialMT-49\"/>\r\n       <use x=\"55.615234\" xlink:href=\"#ArialMT-57\"/>\r\n       <use x=\"111.230469\" xlink:href=\"#ArialMT-50\"/>\r\n       <use x=\"166.845703\" xlink:href=\"#ArialMT-54\"/>\r\n      </g>\r\n     </g>\r\n    </g>\r\n    <g id=\"xtick_5\">\r\n     <g id=\"text_5\">\r\n      <!-- 1927 -->\r\n      <g style=\"fill:#262626;\" transform=\"translate(85.474364 312.968125)rotate(-90)scale(0.11 -0.11)\">\r\n       <defs>\r\n        <path d=\"M 4.734375 62.203125 \r\nL 4.734375 70.65625 \r\nL 51.078125 70.65625 \r\nL 51.078125 63.8125 \r\nQ 44.234375 56.546875 37.515625 44.484375 \r\nQ 30.8125 32.421875 27.15625 19.671875 \r\nQ 24.515625 10.6875 23.78125 0 \r\nL 14.75 0 \r\nQ 14.890625 8.453125 18.0625 20.40625 \r\nQ 21.234375 32.375 27.171875 43.484375 \r\nQ 33.109375 54.59375 39.796875 62.203125 \r\nz\r\n\" id=\"ArialMT-55\"/>\r\n       </defs>\r\n       <use xlink:href=\"#ArialMT-49\"/>\r\n       <use x=\"55.615234\" xlink:href=\"#ArialMT-57\"/>\r\n       <use x=\"111.230469\" xlink:href=\"#ArialMT-50\"/>\r\n       <use x=\"166.845703\" xlink:href=\"#ArialMT-55\"/>\r\n      </g>\r\n     </g>\r\n    </g>\r\n    <g id=\"xtick_6\">\r\n     <g id=\"text_6\">\r\n      <!-- 1928 -->\r\n      <g style=\"fill:#262626;\" transform=\"translate(95.43865 312.968125)rotate(-90)scale(0.11 -0.11)\">\r\n       <defs>\r\n        <path d=\"M 17.671875 38.8125 \r\nQ 12.203125 40.828125 9.5625 44.53125 \r\nQ 6.9375 48.25 6.9375 53.421875 \r\nQ 6.9375 61.234375 12.546875 66.546875 \r\nQ 18.171875 71.875 27.484375 71.875 \r\nQ 36.859375 71.875 42.578125 66.421875 \r\nQ 48.296875 60.984375 48.296875 53.171875 \r\nQ 48.296875 48.1875 45.671875 44.5 \r\nQ 43.0625 40.828125 37.75 38.8125 \r\nQ 44.34375 36.671875 47.78125 31.875 \r\nQ 51.21875 27.09375 51.21875 20.453125 \r\nQ 51.21875 11.28125 44.71875 5.03125 \r\nQ 38.234375 -1.21875 27.640625 -1.21875 \r\nQ 17.046875 -1.21875 10.546875 5.046875 \r\nQ 4.046875 11.328125 4.046875 20.703125 \r\nQ 4.046875 27.6875 7.59375 32.390625 \r\nQ 11.140625 37.109375 17.671875 38.8125 \r\nz\r\nM 15.921875 53.71875 \r\nQ 15.921875 48.640625 19.1875 45.40625 \r\nQ 22.46875 42.1875 27.6875 42.1875 \r\nQ 32.765625 42.1875 36.015625 45.375 \r\nQ 39.265625 48.578125 39.265625 53.21875 \r\nQ 39.265625 58.0625 35.90625 61.359375 \r\nQ 32.5625 64.65625 27.59375 64.65625 \r\nQ 22.5625 64.65625 19.234375 61.421875 \r\nQ 15.921875 58.203125 15.921875 53.71875 \r\nz\r\nM 13.09375 20.65625 \r\nQ 13.09375 16.890625 14.875 13.375 \r\nQ 16.65625 9.859375 20.171875 7.921875 \r\nQ 23.6875 6 27.734375 6 \r\nQ 34.03125 6 38.125 10.046875 \r\nQ 42.234375 14.109375 42.234375 20.359375 \r\nQ 42.234375 26.703125 38.015625 30.859375 \r\nQ 33.796875 35.015625 27.4375 35.015625 \r\nQ 21.234375 35.015625 17.15625 30.90625 \r\nQ 13.09375 26.8125 13.09375 20.65625 \r\nz\r\n\" id=\"ArialMT-56\"/>\r\n       </defs>\r\n       <use xlink:href=\"#ArialMT-49\"/>\r\n       <use x=\"55.615234\" xlink:href=\"#ArialMT-57\"/>\r\n       <use x=\"111.230469\" xlink:href=\"#ArialMT-50\"/>\r\n       <use x=\"166.845703\" xlink:href=\"#ArialMT-56\"/>\r\n      </g>\r\n     </g>\r\n    </g>\r\n    <g id=\"xtick_7\">\r\n     <g id=\"text_7\">\r\n      <!-- 1931 -->\r\n      <g style=\"fill:#262626;\" transform=\"translate(105.402935 312.968125)rotate(-90)scale(0.11 -0.11)\">\r\n       <defs>\r\n        <path d=\"M 4.203125 18.890625 \r\nL 12.984375 20.0625 \r\nQ 14.5 12.59375 18.140625 9.296875 \r\nQ 21.78125 6 27 6 \r\nQ 33.203125 6 37.46875 10.296875 \r\nQ 41.75 14.59375 41.75 20.953125 \r\nQ 41.75 27 37.796875 30.921875 \r\nQ 33.84375 34.859375 27.734375 34.859375 \r\nQ 25.25 34.859375 21.53125 33.890625 \r\nL 22.515625 41.609375 \r\nQ 23.390625 41.5 23.921875 41.5 \r\nQ 29.546875 41.5 34.03125 44.421875 \r\nQ 38.53125 47.359375 38.53125 53.46875 \r\nQ 38.53125 58.296875 35.25 61.46875 \r\nQ 31.984375 64.65625 26.8125 64.65625 \r\nQ 21.6875 64.65625 18.265625 61.421875 \r\nQ 14.84375 58.203125 13.875 51.765625 \r\nL 5.078125 53.328125 \r\nQ 6.6875 62.15625 12.390625 67.015625 \r\nQ 18.109375 71.875 26.609375 71.875 \r\nQ 32.46875 71.875 37.390625 69.359375 \r\nQ 42.328125 66.84375 44.9375 62.5 \r\nQ 47.5625 58.15625 47.5625 53.265625 \r\nQ 47.5625 48.640625 45.0625 44.828125 \r\nQ 42.578125 41.015625 37.703125 38.765625 \r\nQ 44.046875 37.3125 47.5625 32.6875 \r\nQ 51.078125 28.078125 51.078125 21.140625 \r\nQ 51.078125 11.765625 44.234375 5.25 \r\nQ 37.40625 -1.265625 26.953125 -1.265625 \r\nQ 17.53125 -1.265625 11.296875 4.34375 \r\nQ 5.078125 9.96875 4.203125 18.890625 \r\nz\r\n\" id=\"ArialMT-51\"/>\r\n       </defs>\r\n       <use xlink:href=\"#ArialMT-49\"/>\r\n       <use x=\"55.615234\" xlink:href=\"#ArialMT-57\"/>\r\n       <use x=\"111.230469\" xlink:href=\"#ArialMT-51\"/>\r\n       <use x=\"166.845703\" xlink:href=\"#ArialMT-49\"/>\r\n      </g>\r\n     </g>\r\n    </g>\r\n    <g id=\"xtick_8\">\r\n     <g id=\"text_8\">\r\n      <!-- 1934 -->\r\n      <g style=\"fill:#262626;\" transform=\"translate(115.367221 312.968125)rotate(-90)scale(0.11 -0.11)\">\r\n       <use xlink:href=\"#ArialMT-49\"/>\r\n       <use x=\"55.615234\" xlink:href=\"#ArialMT-57\"/>\r\n       <use x=\"111.230469\" xlink:href=\"#ArialMT-51\"/>\r\n       <use x=\"166.845703\" xlink:href=\"#ArialMT-52\"/>\r\n      </g>\r\n     </g>\r\n    </g>\r\n    <g id=\"xtick_9\">\r\n     <g id=\"text_9\">\r\n      <!-- 1936 -->\r\n      <g style=\"fill:#262626;\" transform=\"translate(125.331507 312.968125)rotate(-90)scale(0.11 -0.11)\">\r\n       <use xlink:href=\"#ArialMT-49\"/>\r\n       <use x=\"55.615234\" xlink:href=\"#ArialMT-57\"/>\r\n       <use x=\"111.230469\" xlink:href=\"#ArialMT-51\"/>\r\n       <use x=\"166.845703\" xlink:href=\"#ArialMT-54\"/>\r\n      </g>\r\n     </g>\r\n    </g>\r\n    <g id=\"xtick_10\">\r\n     <g id=\"text_10\">\r\n      <!-- 1939 -->\r\n      <g style=\"fill:#262626;\" transform=\"translate(135.295792 312.968125)rotate(-90)scale(0.11 -0.11)\">\r\n       <use xlink:href=\"#ArialMT-49\"/>\r\n       <use x=\"55.615234\" xlink:href=\"#ArialMT-57\"/>\r\n       <use x=\"111.230469\" xlink:href=\"#ArialMT-51\"/>\r\n       <use x=\"166.845703\" xlink:href=\"#ArialMT-57\"/>\r\n      </g>\r\n     </g>\r\n    </g>\r\n    <g id=\"xtick_11\">\r\n     <g id=\"text_11\">\r\n      <!-- 1940 -->\r\n      <g style=\"fill:#262626;\" transform=\"translate(145.260078 312.968125)rotate(-90)scale(0.11 -0.11)\">\r\n       <defs>\r\n        <path d=\"M 4.15625 35.296875 \r\nQ 4.15625 48 6.765625 55.734375 \r\nQ 9.375 63.484375 14.515625 67.671875 \r\nQ 19.671875 71.875 27.484375 71.875 \r\nQ 33.25 71.875 37.59375 69.546875 \r\nQ 41.9375 67.234375 44.765625 62.859375 \r\nQ 47.609375 58.5 49.21875 52.21875 \r\nQ 50.828125 45.953125 50.828125 35.296875 \r\nQ 50.828125 22.703125 48.234375 14.96875 \r\nQ 45.65625 7.234375 40.5 3 \r\nQ 35.359375 -1.21875 27.484375 -1.21875 \r\nQ 17.140625 -1.21875 11.234375 6.203125 \r\nQ 4.15625 15.140625 4.15625 35.296875 \r\nz\r\nM 13.1875 35.296875 \r\nQ 13.1875 17.671875 17.3125 11.828125 \r\nQ 21.4375 6 27.484375 6 \r\nQ 33.546875 6 37.671875 11.859375 \r\nQ 41.796875 17.71875 41.796875 35.296875 \r\nQ 41.796875 52.984375 37.671875 58.78125 \r\nQ 33.546875 64.59375 27.390625 64.59375 \r\nQ 21.34375 64.59375 17.71875 59.46875 \r\nQ 13.1875 52.9375 13.1875 35.296875 \r\nz\r\n\" id=\"ArialMT-48\"/>\r\n       </defs>\r\n       <use xlink:href=\"#ArialMT-49\"/>\r\n       <use x=\"55.615234\" xlink:href=\"#ArialMT-57\"/>\r\n       <use x=\"111.230469\" xlink:href=\"#ArialMT-52\"/>\r\n       <use x=\"166.845703\" xlink:href=\"#ArialMT-48\"/>\r\n      </g>\r\n     </g>\r\n    </g>\r\n    <g id=\"xtick_12\">\r\n     <g id=\"text_12\">\r\n      <!-- 1941 -->\r\n      <g style=\"fill:#262626;\" transform=\"translate(155.224364 312.968125)rotate(-90)scale(0.11 -0.11)\">\r\n       <use xlink:href=\"#ArialMT-49\"/>\r\n       <use x=\"55.615234\" xlink:href=\"#ArialMT-57\"/>\r\n       <use x=\"111.230469\" xlink:href=\"#ArialMT-52\"/>\r\n       <use x=\"166.845703\" xlink:href=\"#ArialMT-49\"/>\r\n      </g>\r\n     </g>\r\n    </g>\r\n    <g id=\"xtick_13\">\r\n     <g id=\"text_13\">\r\n      <!-- 1942 -->\r\n      <g style=\"fill:#262626;\" transform=\"translate(165.18865 312.968125)rotate(-90)scale(0.11 -0.11)\">\r\n       <use xlink:href=\"#ArialMT-49\"/>\r\n       <use x=\"55.615234\" xlink:href=\"#ArialMT-57\"/>\r\n       <use x=\"111.230469\" xlink:href=\"#ArialMT-52\"/>\r\n       <use x=\"166.845703\" xlink:href=\"#ArialMT-50\"/>\r\n      </g>\r\n     </g>\r\n    </g>\r\n    <g id=\"xtick_14\">\r\n     <g id=\"text_14\">\r\n      <!-- 1944 -->\r\n      <g style=\"fill:#262626;\" transform=\"translate(175.152935 312.968125)rotate(-90)scale(0.11 -0.11)\">\r\n       <use xlink:href=\"#ArialMT-49\"/>\r\n       <use x=\"55.615234\" xlink:href=\"#ArialMT-57\"/>\r\n       <use x=\"111.230469\" xlink:href=\"#ArialMT-52\"/>\r\n       <use x=\"166.845703\" xlink:href=\"#ArialMT-52\"/>\r\n      </g>\r\n     </g>\r\n    </g>\r\n    <g id=\"xtick_15\">\r\n     <g id=\"text_15\">\r\n      <!-- 1946 -->\r\n      <g style=\"fill:#262626;\" transform=\"translate(185.117221 312.968125)rotate(-90)scale(0.11 -0.11)\">\r\n       <use xlink:href=\"#ArialMT-49\"/>\r\n       <use x=\"55.615234\" xlink:href=\"#ArialMT-57\"/>\r\n       <use x=\"111.230469\" xlink:href=\"#ArialMT-52\"/>\r\n       <use x=\"166.845703\" xlink:href=\"#ArialMT-54\"/>\r\n      </g>\r\n     </g>\r\n    </g>\r\n    <g id=\"xtick_16\">\r\n     <g id=\"text_16\">\r\n      <!-- 1948 -->\r\n      <g style=\"fill:#262626;\" transform=\"translate(195.081507 312.968125)rotate(-90)scale(0.11 -0.11)\">\r\n       <use xlink:href=\"#ArialMT-49\"/>\r\n       <use x=\"55.615234\" xlink:href=\"#ArialMT-57\"/>\r\n       <use x=\"111.230469\" xlink:href=\"#ArialMT-52\"/>\r\n       <use x=\"166.845703\" xlink:href=\"#ArialMT-56\"/>\r\n      </g>\r\n     </g>\r\n    </g>\r\n    <g id=\"xtick_17\">\r\n     <g id=\"text_17\">\r\n      <!-- 1949 -->\r\n      <g style=\"fill:#262626;\" transform=\"translate(205.045792 312.968125)rotate(-90)scale(0.11 -0.11)\">\r\n       <use xlink:href=\"#ArialMT-49\"/>\r\n       <use x=\"55.615234\" xlink:href=\"#ArialMT-57\"/>\r\n       <use x=\"111.230469\" xlink:href=\"#ArialMT-52\"/>\r\n       <use x=\"166.845703\" xlink:href=\"#ArialMT-57\"/>\r\n      </g>\r\n     </g>\r\n    </g>\r\n    <g id=\"xtick_18\">\r\n     <g id=\"text_18\">\r\n      <!-- 1950 -->\r\n      <g style=\"fill:#262626;\" transform=\"translate(215.010078 312.968125)rotate(-90)scale(0.11 -0.11)\">\r\n       <use xlink:href=\"#ArialMT-49\"/>\r\n       <use x=\"55.615234\" xlink:href=\"#ArialMT-57\"/>\r\n       <use x=\"111.230469\" xlink:href=\"#ArialMT-53\"/>\r\n       <use x=\"166.845703\" xlink:href=\"#ArialMT-48\"/>\r\n      </g>\r\n     </g>\r\n    </g>\r\n    <g id=\"xtick_19\">\r\n     <g id=\"text_19\">\r\n      <!-- 1952 -->\r\n      <g style=\"fill:#262626;\" transform=\"translate(224.974364 312.968125)rotate(-90)scale(0.11 -0.11)\">\r\n       <use xlink:href=\"#ArialMT-49\"/>\r\n       <use x=\"55.615234\" xlink:href=\"#ArialMT-57\"/>\r\n       <use x=\"111.230469\" xlink:href=\"#ArialMT-53\"/>\r\n       <use x=\"166.845703\" xlink:href=\"#ArialMT-50\"/>\r\n      </g>\r\n     </g>\r\n    </g>\r\n    <g id=\"xtick_20\">\r\n     <g id=\"text_20\">\r\n      <!-- 1953 -->\r\n      <g style=\"fill:#262626;\" transform=\"translate(234.93865 312.968125)rotate(-90)scale(0.11 -0.11)\">\r\n       <use xlink:href=\"#ArialMT-49\"/>\r\n       <use x=\"55.615234\" xlink:href=\"#ArialMT-57\"/>\r\n       <use x=\"111.230469\" xlink:href=\"#ArialMT-53\"/>\r\n       <use x=\"166.845703\" xlink:href=\"#ArialMT-51\"/>\r\n      </g>\r\n     </g>\r\n    </g>\r\n    <g id=\"xtick_21\">\r\n     <g id=\"text_21\">\r\n      <!-- 1954 -->\r\n      <g style=\"fill:#262626;\" transform=\"translate(244.902935 312.968125)rotate(-90)scale(0.11 -0.11)\">\r\n       <use xlink:href=\"#ArialMT-49\"/>\r\n       <use x=\"55.615234\" xlink:href=\"#ArialMT-57\"/>\r\n       <use x=\"111.230469\" xlink:href=\"#ArialMT-53\"/>\r\n       <use x=\"166.845703\" xlink:href=\"#ArialMT-52\"/>\r\n      </g>\r\n     </g>\r\n    </g>\r\n    <g id=\"xtick_22\">\r\n     <g id=\"text_22\">\r\n      <!-- 1955 -->\r\n      <g style=\"fill:#262626;\" transform=\"translate(254.867221 312.968125)rotate(-90)scale(0.11 -0.11)\">\r\n       <use xlink:href=\"#ArialMT-49\"/>\r\n       <use x=\"55.615234\" xlink:href=\"#ArialMT-57\"/>\r\n       <use x=\"111.230469\" xlink:href=\"#ArialMT-53\"/>\r\n       <use x=\"166.845703\" xlink:href=\"#ArialMT-53\"/>\r\n      </g>\r\n     </g>\r\n    </g>\r\n    <g id=\"xtick_23\">\r\n     <g id=\"text_23\">\r\n      <!-- 1957 -->\r\n      <g style=\"fill:#262626;\" transform=\"translate(264.831507 312.968125)rotate(-90)scale(0.11 -0.11)\">\r\n       <use xlink:href=\"#ArialMT-49\"/>\r\n       <use x=\"55.615234\" xlink:href=\"#ArialMT-57\"/>\r\n       <use x=\"111.230469\" xlink:href=\"#ArialMT-53\"/>\r\n       <use x=\"166.845703\" xlink:href=\"#ArialMT-55\"/>\r\n      </g>\r\n     </g>\r\n    </g>\r\n    <g id=\"xtick_24\">\r\n     <g id=\"text_24\">\r\n      <!-- 1958 -->\r\n      <g style=\"fill:#262626;\" transform=\"translate(274.795792 312.968125)rotate(-90)scale(0.11 -0.11)\">\r\n       <use xlink:href=\"#ArialMT-49\"/>\r\n       <use x=\"55.615234\" xlink:href=\"#ArialMT-57\"/>\r\n       <use x=\"111.230469\" xlink:href=\"#ArialMT-53\"/>\r\n       <use x=\"166.845703\" xlink:href=\"#ArialMT-56\"/>\r\n      </g>\r\n     </g>\r\n    </g>\r\n    <g id=\"xtick_25\">\r\n     <g id=\"text_25\">\r\n      <!-- 1959 -->\r\n      <g style=\"fill:#262626;\" transform=\"translate(284.760078 312.968125)rotate(-90)scale(0.11 -0.11)\">\r\n       <use xlink:href=\"#ArialMT-49\"/>\r\n       <use x=\"55.615234\" xlink:href=\"#ArialMT-57\"/>\r\n       <use x=\"111.230469\" xlink:href=\"#ArialMT-53\"/>\r\n       <use x=\"166.845703\" xlink:href=\"#ArialMT-57\"/>\r\n      </g>\r\n     </g>\r\n    </g>\r\n    <g id=\"xtick_26\">\r\n     <g id=\"text_26\">\r\n      <!-- 1960 -->\r\n      <g style=\"fill:#262626;\" transform=\"translate(294.724364 312.968125)rotate(-90)scale(0.11 -0.11)\">\r\n       <use xlink:href=\"#ArialMT-49\"/>\r\n       <use x=\"55.615234\" xlink:href=\"#ArialMT-57\"/>\r\n       <use x=\"111.230469\" xlink:href=\"#ArialMT-54\"/>\r\n       <use x=\"166.845703\" xlink:href=\"#ArialMT-48\"/>\r\n      </g>\r\n     </g>\r\n    </g>\r\n    <g id=\"xtick_27\">\r\n     <g id=\"text_27\">\r\n      <!-- 1961 -->\r\n      <g style=\"fill:#262626;\" transform=\"translate(304.68865 312.968125)rotate(-90)scale(0.11 -0.11)\">\r\n       <use xlink:href=\"#ArialMT-49\"/>\r\n       <use x=\"55.615234\" xlink:href=\"#ArialMT-57\"/>\r\n       <use x=\"111.230469\" xlink:href=\"#ArialMT-54\"/>\r\n       <use x=\"166.845703\" xlink:href=\"#ArialMT-49\"/>\r\n      </g>\r\n     </g>\r\n    </g>\r\n    <g id=\"xtick_28\">\r\n     <g id=\"text_28\">\r\n      <!-- 1962 -->\r\n      <g style=\"fill:#262626;\" transform=\"translate(314.652935 312.968125)rotate(-90)scale(0.11 -0.11)\">\r\n       <use xlink:href=\"#ArialMT-49\"/>\r\n       <use x=\"55.615234\" xlink:href=\"#ArialMT-57\"/>\r\n       <use x=\"111.230469\" xlink:href=\"#ArialMT-54\"/>\r\n       <use x=\"166.845703\" xlink:href=\"#ArialMT-50\"/>\r\n      </g>\r\n     </g>\r\n    </g>\r\n    <g id=\"xtick_29\">\r\n     <g id=\"text_29\">\r\n      <!-- 1963 -->\r\n      <g style=\"fill:#262626;\" transform=\"translate(324.617221 312.968125)rotate(-90)scale(0.11 -0.11)\">\r\n       <use xlink:href=\"#ArialMT-49\"/>\r\n       <use x=\"55.615234\" xlink:href=\"#ArialMT-57\"/>\r\n       <use x=\"111.230469\" xlink:href=\"#ArialMT-54\"/>\r\n       <use x=\"166.845703\" xlink:href=\"#ArialMT-51\"/>\r\n      </g>\r\n     </g>\r\n    </g>\r\n    <g id=\"xtick_30\">\r\n     <g id=\"text_30\">\r\n      <!-- 1964 -->\r\n      <g style=\"fill:#262626;\" transform=\"translate(334.581507 312.968125)rotate(-90)scale(0.11 -0.11)\">\r\n       <use xlink:href=\"#ArialMT-49\"/>\r\n       <use x=\"55.615234\" xlink:href=\"#ArialMT-57\"/>\r\n       <use x=\"111.230469\" xlink:href=\"#ArialMT-54\"/>\r\n       <use x=\"166.845703\" xlink:href=\"#ArialMT-52\"/>\r\n      </g>\r\n     </g>\r\n    </g>\r\n    <g id=\"xtick_31\">\r\n     <g id=\"text_31\">\r\n      <!-- 1965 -->\r\n      <g style=\"fill:#262626;\" transform=\"translate(344.545792 312.968125)rotate(-90)scale(0.11 -0.11)\">\r\n       <use xlink:href=\"#ArialMT-49\"/>\r\n       <use x=\"55.615234\" xlink:href=\"#ArialMT-57\"/>\r\n       <use x=\"111.230469\" xlink:href=\"#ArialMT-54\"/>\r\n       <use x=\"166.845703\" xlink:href=\"#ArialMT-53\"/>\r\n      </g>\r\n     </g>\r\n    </g>\r\n    <g id=\"xtick_32\">\r\n     <g id=\"text_32\">\r\n      <!-- 1966 -->\r\n      <g style=\"fill:#262626;\" transform=\"translate(354.510078 312.968125)rotate(-90)scale(0.11 -0.11)\">\r\n       <use xlink:href=\"#ArialMT-49\"/>\r\n       <use x=\"55.615234\" xlink:href=\"#ArialMT-57\"/>\r\n       <use x=\"111.230469\" xlink:href=\"#ArialMT-54\"/>\r\n       <use x=\"166.845703\" xlink:href=\"#ArialMT-54\"/>\r\n      </g>\r\n     </g>\r\n    </g>\r\n    <g id=\"xtick_33\">\r\n     <g id=\"text_33\">\r\n      <!-- 1967 -->\r\n      <g style=\"fill:#262626;\" transform=\"translate(364.474364 312.968125)rotate(-90)scale(0.11 -0.11)\">\r\n       <use xlink:href=\"#ArialMT-49\"/>\r\n       <use x=\"55.615234\" xlink:href=\"#ArialMT-57\"/>\r\n       <use x=\"111.230469\" xlink:href=\"#ArialMT-54\"/>\r\n       <use x=\"166.845703\" xlink:href=\"#ArialMT-55\"/>\r\n      </g>\r\n     </g>\r\n    </g>\r\n    <g id=\"xtick_34\">\r\n     <g id=\"text_34\">\r\n      <!-- 1968 -->\r\n      <g style=\"fill:#262626;\" transform=\"translate(374.43865 312.968125)rotate(-90)scale(0.11 -0.11)\">\r\n       <use xlink:href=\"#ArialMT-49\"/>\r\n       <use x=\"55.615234\" xlink:href=\"#ArialMT-57\"/>\r\n       <use x=\"111.230469\" xlink:href=\"#ArialMT-54\"/>\r\n       <use x=\"166.845703\" xlink:href=\"#ArialMT-56\"/>\r\n      </g>\r\n     </g>\r\n    </g>\r\n    <g id=\"xtick_35\">\r\n     <g id=\"text_35\">\r\n      <!-- 1971 -->\r\n      <g style=\"fill:#262626;\" transform=\"translate(384.402935 312.968125)rotate(-90)scale(0.11 -0.11)\">\r\n       <use xlink:href=\"#ArialMT-49\"/>\r\n       <use x=\"55.615234\" xlink:href=\"#ArialMT-57\"/>\r\n       <use x=\"111.230469\" xlink:href=\"#ArialMT-55\"/>\r\n       <use x=\"166.845703\" xlink:href=\"#ArialMT-49\"/>\r\n      </g>\r\n     </g>\r\n    </g>\r\n    <g id=\"xtick_36\">\r\n     <g id=\"text_36\">\r\n      <!-- 1972 -->\r\n      <g style=\"fill:#262626;\" transform=\"translate(394.367221 312.968125)rotate(-90)scale(0.11 -0.11)\">\r\n       <use xlink:href=\"#ArialMT-49\"/>\r\n       <use x=\"55.615234\" xlink:href=\"#ArialMT-57\"/>\r\n       <use x=\"111.230469\" xlink:href=\"#ArialMT-55\"/>\r\n       <use x=\"166.845703\" xlink:href=\"#ArialMT-50\"/>\r\n      </g>\r\n     </g>\r\n    </g>\r\n    <g id=\"xtick_37\">\r\n     <g id=\"text_37\">\r\n      <!-- 1973 -->\r\n      <g style=\"fill:#262626;\" transform=\"translate(404.331507 312.968125)rotate(-90)scale(0.11 -0.11)\">\r\n       <use xlink:href=\"#ArialMT-49\"/>\r\n       <use x=\"55.615234\" xlink:href=\"#ArialMT-57\"/>\r\n       <use x=\"111.230469\" xlink:href=\"#ArialMT-55\"/>\r\n       <use x=\"166.845703\" xlink:href=\"#ArialMT-51\"/>\r\n      </g>\r\n     </g>\r\n    </g>\r\n    <g id=\"xtick_38\">\r\n     <g id=\"text_38\">\r\n      <!-- 1974 -->\r\n      <g style=\"fill:#262626;\" transform=\"translate(414.295792 312.968125)rotate(-90)scale(0.11 -0.11)\">\r\n       <use xlink:href=\"#ArialMT-49\"/>\r\n       <use x=\"55.615234\" xlink:href=\"#ArialMT-57\"/>\r\n       <use x=\"111.230469\" xlink:href=\"#ArialMT-55\"/>\r\n       <use x=\"166.845703\" xlink:href=\"#ArialMT-52\"/>\r\n      </g>\r\n     </g>\r\n    </g>\r\n    <g id=\"xtick_39\">\r\n     <g id=\"text_39\">\r\n      <!-- 1975 -->\r\n      <g style=\"fill:#262626;\" transform=\"translate(424.260078 312.968125)rotate(-90)scale(0.11 -0.11)\">\r\n       <use xlink:href=\"#ArialMT-49\"/>\r\n       <use x=\"55.615234\" xlink:href=\"#ArialMT-57\"/>\r\n       <use x=\"111.230469\" xlink:href=\"#ArialMT-55\"/>\r\n       <use x=\"166.845703\" xlink:href=\"#ArialMT-53\"/>\r\n      </g>\r\n     </g>\r\n    </g>\r\n    <g id=\"xtick_40\">\r\n     <g id=\"text_40\">\r\n      <!-- 1976 -->\r\n      <g style=\"fill:#262626;\" transform=\"translate(434.224364 312.968125)rotate(-90)scale(0.11 -0.11)\">\r\n       <use xlink:href=\"#ArialMT-49\"/>\r\n       <use x=\"55.615234\" xlink:href=\"#ArialMT-57\"/>\r\n       <use x=\"111.230469\" xlink:href=\"#ArialMT-55\"/>\r\n       <use x=\"166.845703\" xlink:href=\"#ArialMT-54\"/>\r\n      </g>\r\n     </g>\r\n    </g>\r\n    <g id=\"xtick_41\">\r\n     <g id=\"text_41\">\r\n      <!-- 1977 -->\r\n      <g style=\"fill:#262626;\" transform=\"translate(444.18865 312.968125)rotate(-90)scale(0.11 -0.11)\">\r\n       <use xlink:href=\"#ArialMT-49\"/>\r\n       <use x=\"55.615234\" xlink:href=\"#ArialMT-57\"/>\r\n       <use x=\"111.230469\" xlink:href=\"#ArialMT-55\"/>\r\n       <use x=\"166.845703\" xlink:href=\"#ArialMT-55\"/>\r\n      </g>\r\n     </g>\r\n    </g>\r\n    <g id=\"xtick_42\">\r\n     <g id=\"text_42\">\r\n      <!-- 1978 -->\r\n      <g style=\"fill:#262626;\" transform=\"translate(454.152935 312.968125)rotate(-90)scale(0.11 -0.11)\">\r\n       <use xlink:href=\"#ArialMT-49\"/>\r\n       <use x=\"55.615234\" xlink:href=\"#ArialMT-57\"/>\r\n       <use x=\"111.230469\" xlink:href=\"#ArialMT-55\"/>\r\n       <use x=\"166.845703\" xlink:href=\"#ArialMT-56\"/>\r\n      </g>\r\n     </g>\r\n    </g>\r\n    <g id=\"xtick_43\">\r\n     <g id=\"text_43\">\r\n      <!-- 1979 -->\r\n      <g style=\"fill:#262626;\" transform=\"translate(464.117221 312.968125)rotate(-90)scale(0.11 -0.11)\">\r\n       <use xlink:href=\"#ArialMT-49\"/>\r\n       <use x=\"55.615234\" xlink:href=\"#ArialMT-57\"/>\r\n       <use x=\"111.230469\" xlink:href=\"#ArialMT-55\"/>\r\n       <use x=\"166.845703\" xlink:href=\"#ArialMT-57\"/>\r\n      </g>\r\n     </g>\r\n    </g>\r\n    <g id=\"xtick_44\">\r\n     <g id=\"text_44\">\r\n      <!-- 1980 -->\r\n      <g style=\"fill:#262626;\" transform=\"translate(474.081507 312.968125)rotate(-90)scale(0.11 -0.11)\">\r\n       <use xlink:href=\"#ArialMT-49\"/>\r\n       <use x=\"55.615234\" xlink:href=\"#ArialMT-57\"/>\r\n       <use x=\"111.230469\" xlink:href=\"#ArialMT-56\"/>\r\n       <use x=\"166.845703\" xlink:href=\"#ArialMT-48\"/>\r\n      </g>\r\n     </g>\r\n    </g>\r\n    <g id=\"xtick_45\">\r\n     <g id=\"text_45\">\r\n      <!-- 1981 -->\r\n      <g style=\"fill:#262626;\" transform=\"translate(484.045792 312.968125)rotate(-90)scale(0.11 -0.11)\">\r\n       <use xlink:href=\"#ArialMT-49\"/>\r\n       <use x=\"55.615234\" xlink:href=\"#ArialMT-57\"/>\r\n       <use x=\"111.230469\" xlink:href=\"#ArialMT-56\"/>\r\n       <use x=\"166.845703\" xlink:href=\"#ArialMT-49\"/>\r\n      </g>\r\n     </g>\r\n    </g>\r\n    <g id=\"xtick_46\">\r\n     <g id=\"text_46\">\r\n      <!-- 1982 -->\r\n      <g style=\"fill:#262626;\" transform=\"translate(494.010078 312.968125)rotate(-90)scale(0.11 -0.11)\">\r\n       <use xlink:href=\"#ArialMT-49\"/>\r\n       <use x=\"55.615234\" xlink:href=\"#ArialMT-57\"/>\r\n       <use x=\"111.230469\" xlink:href=\"#ArialMT-56\"/>\r\n       <use x=\"166.845703\" xlink:href=\"#ArialMT-50\"/>\r\n      </g>\r\n     </g>\r\n    </g>\r\n    <g id=\"xtick_47\">\r\n     <g id=\"text_47\">\r\n      <!-- 1983 -->\r\n      <g style=\"fill:#262626;\" transform=\"translate(503.974364 312.968125)rotate(-90)scale(0.11 -0.11)\">\r\n       <use xlink:href=\"#ArialMT-49\"/>\r\n       <use x=\"55.615234\" xlink:href=\"#ArialMT-57\"/>\r\n       <use x=\"111.230469\" xlink:href=\"#ArialMT-56\"/>\r\n       <use x=\"166.845703\" xlink:href=\"#ArialMT-51\"/>\r\n      </g>\r\n     </g>\r\n    </g>\r\n    <g id=\"xtick_48\">\r\n     <g id=\"text_48\">\r\n      <!-- 1984 -->\r\n      <g style=\"fill:#262626;\" transform=\"translate(513.93865 312.968125)rotate(-90)scale(0.11 -0.11)\">\r\n       <use xlink:href=\"#ArialMT-49\"/>\r\n       <use x=\"55.615234\" xlink:href=\"#ArialMT-57\"/>\r\n       <use x=\"111.230469\" xlink:href=\"#ArialMT-56\"/>\r\n       <use x=\"166.845703\" xlink:href=\"#ArialMT-52\"/>\r\n      </g>\r\n     </g>\r\n    </g>\r\n    <g id=\"xtick_49\">\r\n     <g id=\"text_49\">\r\n      <!-- 1985 -->\r\n      <g style=\"fill:#262626;\" transform=\"translate(523.902935 312.968125)rotate(-90)scale(0.11 -0.11)\">\r\n       <use xlink:href=\"#ArialMT-49\"/>\r\n       <use x=\"55.615234\" xlink:href=\"#ArialMT-57\"/>\r\n       <use x=\"111.230469\" xlink:href=\"#ArialMT-56\"/>\r\n       <use x=\"166.845703\" xlink:href=\"#ArialMT-53\"/>\r\n      </g>\r\n     </g>\r\n    </g>\r\n    <g id=\"xtick_50\">\r\n     <g id=\"text_50\">\r\n      <!-- 1986 -->\r\n      <g style=\"fill:#262626;\" transform=\"translate(533.867221 312.968125)rotate(-90)scale(0.11 -0.11)\">\r\n       <use xlink:href=\"#ArialMT-49\"/>\r\n       <use x=\"55.615234\" xlink:href=\"#ArialMT-57\"/>\r\n       <use x=\"111.230469\" xlink:href=\"#ArialMT-56\"/>\r\n       <use x=\"166.845703\" xlink:href=\"#ArialMT-54\"/>\r\n      </g>\r\n     </g>\r\n    </g>\r\n    <g id=\"xtick_51\">\r\n     <g id=\"text_51\">\r\n      <!-- 1987 -->\r\n      <g style=\"fill:#262626;\" transform=\"translate(543.831507 312.968125)rotate(-90)scale(0.11 -0.11)\">\r\n       <use xlink:href=\"#ArialMT-49\"/>\r\n       <use x=\"55.615234\" xlink:href=\"#ArialMT-57\"/>\r\n       <use x=\"111.230469\" xlink:href=\"#ArialMT-56\"/>\r\n       <use x=\"166.845703\" xlink:href=\"#ArialMT-55\"/>\r\n      </g>\r\n     </g>\r\n    </g>\r\n    <g id=\"xtick_52\">\r\n     <g id=\"text_52\">\r\n      <!-- 1988 -->\r\n      <g style=\"fill:#262626;\" transform=\"translate(553.795792 312.968125)rotate(-90)scale(0.11 -0.11)\">\r\n       <use xlink:href=\"#ArialMT-49\"/>\r\n       <use x=\"55.615234\" xlink:href=\"#ArialMT-57\"/>\r\n       <use x=\"111.230469\" xlink:href=\"#ArialMT-56\"/>\r\n       <use x=\"166.845703\" xlink:href=\"#ArialMT-56\"/>\r\n      </g>\r\n     </g>\r\n    </g>\r\n    <g id=\"xtick_53\">\r\n     <g id=\"text_53\">\r\n      <!-- 1989 -->\r\n      <g style=\"fill:#262626;\" transform=\"translate(563.760078 312.968125)rotate(-90)scale(0.11 -0.11)\">\r\n       <use xlink:href=\"#ArialMT-49\"/>\r\n       <use x=\"55.615234\" xlink:href=\"#ArialMT-57\"/>\r\n       <use x=\"111.230469\" xlink:href=\"#ArialMT-56\"/>\r\n       <use x=\"166.845703\" xlink:href=\"#ArialMT-57\"/>\r\n      </g>\r\n     </g>\r\n    </g>\r\n    <g id=\"xtick_54\">\r\n     <g id=\"text_54\">\r\n      <!-- 1990 -->\r\n      <g style=\"fill:#262626;\" transform=\"translate(573.724364 312.968125)rotate(-90)scale(0.11 -0.11)\">\r\n       <use xlink:href=\"#ArialMT-49\"/>\r\n       <use x=\"55.615234\" xlink:href=\"#ArialMT-57\"/>\r\n       <use x=\"111.230469\" xlink:href=\"#ArialMT-57\"/>\r\n       <use x=\"166.845703\" xlink:href=\"#ArialMT-48\"/>\r\n      </g>\r\n     </g>\r\n    </g>\r\n    <g id=\"xtick_55\">\r\n     <g id=\"text_55\">\r\n      <!-- 1991 -->\r\n      <g style=\"fill:#262626;\" transform=\"translate(583.68865 312.968125)rotate(-90)scale(0.11 -0.11)\">\r\n       <use xlink:href=\"#ArialMT-49\"/>\r\n       <use x=\"55.615234\" xlink:href=\"#ArialMT-57\"/>\r\n       <use x=\"111.230469\" xlink:href=\"#ArialMT-57\"/>\r\n       <use x=\"166.845703\" xlink:href=\"#ArialMT-49\"/>\r\n      </g>\r\n     </g>\r\n    </g>\r\n    <g id=\"xtick_56\">\r\n     <g id=\"text_56\">\r\n      <!-- 1992 -->\r\n      <g style=\"fill:#262626;\" transform=\"translate(593.652935 312.968125)rotate(-90)scale(0.11 -0.11)\">\r\n       <use xlink:href=\"#ArialMT-49\"/>\r\n       <use x=\"55.615234\" xlink:href=\"#ArialMT-57\"/>\r\n       <use x=\"111.230469\" xlink:href=\"#ArialMT-57\"/>\r\n       <use x=\"166.845703\" xlink:href=\"#ArialMT-50\"/>\r\n      </g>\r\n     </g>\r\n    </g>\r\n    <g id=\"xtick_57\">\r\n     <g id=\"text_57\">\r\n      <!-- 1993 -->\r\n      <g style=\"fill:#262626;\" transform=\"translate(603.617221 312.968125)rotate(-90)scale(0.11 -0.11)\">\r\n       <use xlink:href=\"#ArialMT-49\"/>\r\n       <use x=\"55.615234\" xlink:href=\"#ArialMT-57\"/>\r\n       <use x=\"111.230469\" xlink:href=\"#ArialMT-57\"/>\r\n       <use x=\"166.845703\" xlink:href=\"#ArialMT-51\"/>\r\n      </g>\r\n     </g>\r\n    </g>\r\n    <g id=\"xtick_58\">\r\n     <g id=\"text_58\">\r\n      <!-- 1994 -->\r\n      <g style=\"fill:#262626;\" transform=\"translate(613.581507 312.968125)rotate(-90)scale(0.11 -0.11)\">\r\n       <use xlink:href=\"#ArialMT-49\"/>\r\n       <use x=\"55.615234\" xlink:href=\"#ArialMT-57\"/>\r\n       <use x=\"111.230469\" xlink:href=\"#ArialMT-57\"/>\r\n       <use x=\"166.845703\" xlink:href=\"#ArialMT-52\"/>\r\n      </g>\r\n     </g>\r\n    </g>\r\n    <g id=\"xtick_59\">\r\n     <g id=\"text_59\">\r\n      <!-- 1995 -->\r\n      <g style=\"fill:#262626;\" transform=\"translate(623.545792 312.968125)rotate(-90)scale(0.11 -0.11)\">\r\n       <use xlink:href=\"#ArialMT-49\"/>\r\n       <use x=\"55.615234\" xlink:href=\"#ArialMT-57\"/>\r\n       <use x=\"111.230469\" xlink:href=\"#ArialMT-57\"/>\r\n       <use x=\"166.845703\" xlink:href=\"#ArialMT-53\"/>\r\n      </g>\r\n     </g>\r\n    </g>\r\n    <g id=\"xtick_60\">\r\n     <g id=\"text_60\">\r\n      <!-- 1996 -->\r\n      <g style=\"fill:#262626;\" transform=\"translate(633.510078 312.968125)rotate(-90)scale(0.11 -0.11)\">\r\n       <use xlink:href=\"#ArialMT-49\"/>\r\n       <use x=\"55.615234\" xlink:href=\"#ArialMT-57\"/>\r\n       <use x=\"111.230469\" xlink:href=\"#ArialMT-57\"/>\r\n       <use x=\"166.845703\" xlink:href=\"#ArialMT-54\"/>\r\n      </g>\r\n     </g>\r\n    </g>\r\n    <g id=\"xtick_61\">\r\n     <g id=\"text_61\">\r\n      <!-- 1997 -->\r\n      <g style=\"fill:#262626;\" transform=\"translate(643.474364 312.968125)rotate(-90)scale(0.11 -0.11)\">\r\n       <use xlink:href=\"#ArialMT-49\"/>\r\n       <use x=\"55.615234\" xlink:href=\"#ArialMT-57\"/>\r\n       <use x=\"111.230469\" xlink:href=\"#ArialMT-57\"/>\r\n       <use x=\"166.845703\" xlink:href=\"#ArialMT-55\"/>\r\n      </g>\r\n     </g>\r\n    </g>\r\n    <g id=\"xtick_62\">\r\n     <g id=\"text_62\">\r\n      <!-- 1998 -->\r\n      <g style=\"fill:#262626;\" transform=\"translate(653.43865 312.968125)rotate(-90)scale(0.11 -0.11)\">\r\n       <use xlink:href=\"#ArialMT-49\"/>\r\n       <use x=\"55.615234\" xlink:href=\"#ArialMT-57\"/>\r\n       <use x=\"111.230469\" xlink:href=\"#ArialMT-57\"/>\r\n       <use x=\"166.845703\" xlink:href=\"#ArialMT-56\"/>\r\n      </g>\r\n     </g>\r\n    </g>\r\n    <g id=\"xtick_63\">\r\n     <g id=\"text_63\">\r\n      <!-- 1999 -->\r\n      <g style=\"fill:#262626;\" transform=\"translate(663.402935 312.968125)rotate(-90)scale(0.11 -0.11)\">\r\n       <use xlink:href=\"#ArialMT-49\"/>\r\n       <use x=\"55.615234\" xlink:href=\"#ArialMT-57\"/>\r\n       <use x=\"111.230469\" xlink:href=\"#ArialMT-57\"/>\r\n       <use x=\"166.845703\" xlink:href=\"#ArialMT-57\"/>\r\n      </g>\r\n     </g>\r\n    </g>\r\n    <g id=\"xtick_64\">\r\n     <g id=\"text_64\">\r\n      <!-- 2000 -->\r\n      <g style=\"fill:#262626;\" transform=\"translate(673.367221 312.968125)rotate(-90)scale(0.11 -0.11)\">\r\n       <use xlink:href=\"#ArialMT-50\"/>\r\n       <use x=\"55.615234\" xlink:href=\"#ArialMT-48\"/>\r\n       <use x=\"111.230469\" xlink:href=\"#ArialMT-48\"/>\r\n       <use x=\"166.845703\" xlink:href=\"#ArialMT-48\"/>\r\n      </g>\r\n     </g>\r\n    </g>\r\n    <g id=\"xtick_65\">\r\n     <g id=\"text_65\">\r\n      <!-- 2001 -->\r\n      <g style=\"fill:#262626;\" transform=\"translate(683.331507 312.968125)rotate(-90)scale(0.11 -0.11)\">\r\n       <use xlink:href=\"#ArialMT-50\"/>\r\n       <use x=\"55.615234\" xlink:href=\"#ArialMT-48\"/>\r\n       <use x=\"111.230469\" xlink:href=\"#ArialMT-48\"/>\r\n       <use x=\"166.845703\" xlink:href=\"#ArialMT-49\"/>\r\n      </g>\r\n     </g>\r\n    </g>\r\n    <g id=\"xtick_66\">\r\n     <g id=\"text_66\">\r\n      <!-- 2002 -->\r\n      <g style=\"fill:#262626;\" transform=\"translate(693.295792 312.968125)rotate(-90)scale(0.11 -0.11)\">\r\n       <use xlink:href=\"#ArialMT-50\"/>\r\n       <use x=\"55.615234\" xlink:href=\"#ArialMT-48\"/>\r\n       <use x=\"111.230469\" xlink:href=\"#ArialMT-48\"/>\r\n       <use x=\"166.845703\" xlink:href=\"#ArialMT-50\"/>\r\n      </g>\r\n     </g>\r\n    </g>\r\n    <g id=\"xtick_67\">\r\n     <g id=\"text_67\">\r\n      <!-- 2003 -->\r\n      <g style=\"fill:#262626;\" transform=\"translate(703.260078 312.968125)rotate(-90)scale(0.11 -0.11)\">\r\n       <use xlink:href=\"#ArialMT-50\"/>\r\n       <use x=\"55.615234\" xlink:href=\"#ArialMT-48\"/>\r\n       <use x=\"111.230469\" xlink:href=\"#ArialMT-48\"/>\r\n       <use x=\"166.845703\" xlink:href=\"#ArialMT-51\"/>\r\n      </g>\r\n     </g>\r\n    </g>\r\n    <g id=\"xtick_68\">\r\n     <g id=\"text_68\">\r\n      <!-- 2004 -->\r\n      <g style=\"fill:#262626;\" transform=\"translate(713.224364 312.968125)rotate(-90)scale(0.11 -0.11)\">\r\n       <use xlink:href=\"#ArialMT-50\"/>\r\n       <use x=\"55.615234\" xlink:href=\"#ArialMT-48\"/>\r\n       <use x=\"111.230469\" xlink:href=\"#ArialMT-48\"/>\r\n       <use x=\"166.845703\" xlink:href=\"#ArialMT-52\"/>\r\n      </g>\r\n     </g>\r\n    </g>\r\n    <g id=\"xtick_69\">\r\n     <g id=\"text_69\">\r\n      <!-- 2005 -->\r\n      <g style=\"fill:#262626;\" transform=\"translate(723.18865 312.968125)rotate(-90)scale(0.11 -0.11)\">\r\n       <use xlink:href=\"#ArialMT-50\"/>\r\n       <use x=\"55.615234\" xlink:href=\"#ArialMT-48\"/>\r\n       <use x=\"111.230469\" xlink:href=\"#ArialMT-48\"/>\r\n       <use x=\"166.845703\" xlink:href=\"#ArialMT-53\"/>\r\n      </g>\r\n     </g>\r\n    </g>\r\n    <g id=\"xtick_70\">\r\n     <g id=\"text_70\">\r\n      <!-- 2006 -->\r\n      <g style=\"fill:#262626;\" transform=\"translate(733.152935 312.968125)rotate(-90)scale(0.11 -0.11)\">\r\n       <use xlink:href=\"#ArialMT-50\"/>\r\n       <use x=\"55.615234\" xlink:href=\"#ArialMT-48\"/>\r\n       <use x=\"111.230469\" xlink:href=\"#ArialMT-48\"/>\r\n       <use x=\"166.845703\" xlink:href=\"#ArialMT-54\"/>\r\n      </g>\r\n     </g>\r\n    </g>\r\n    <g id=\"xtick_71\">\r\n     <g id=\"text_71\">\r\n      <!-- 2007 -->\r\n      <g style=\"fill:#262626;\" transform=\"translate(743.117221 312.968125)rotate(-90)scale(0.11 -0.11)\">\r\n       <use xlink:href=\"#ArialMT-50\"/>\r\n       <use x=\"55.615234\" xlink:href=\"#ArialMT-48\"/>\r\n       <use x=\"111.230469\" xlink:href=\"#ArialMT-48\"/>\r\n       <use x=\"166.845703\" xlink:href=\"#ArialMT-55\"/>\r\n      </g>\r\n     </g>\r\n    </g>\r\n    <g id=\"xtick_72\">\r\n     <g id=\"text_72\">\r\n      <!-- 2008 -->\r\n      <g style=\"fill:#262626;\" transform=\"translate(753.081507 312.968125)rotate(-90)scale(0.11 -0.11)\">\r\n       <use xlink:href=\"#ArialMT-50\"/>\r\n       <use x=\"55.615234\" xlink:href=\"#ArialMT-48\"/>\r\n       <use x=\"111.230469\" xlink:href=\"#ArialMT-48\"/>\r\n       <use x=\"166.845703\" xlink:href=\"#ArialMT-56\"/>\r\n      </g>\r\n     </g>\r\n    </g>\r\n    <g id=\"xtick_73\">\r\n     <g id=\"text_73\">\r\n      <!-- 2009 -->\r\n      <g style=\"fill:#262626;\" transform=\"translate(763.045792 312.968125)rotate(-90)scale(0.11 -0.11)\">\r\n       <use xlink:href=\"#ArialMT-50\"/>\r\n       <use x=\"55.615234\" xlink:href=\"#ArialMT-48\"/>\r\n       <use x=\"111.230469\" xlink:href=\"#ArialMT-48\"/>\r\n       <use x=\"166.845703\" xlink:href=\"#ArialMT-57\"/>\r\n      </g>\r\n     </g>\r\n    </g>\r\n    <g id=\"xtick_74\">\r\n     <g id=\"text_74\">\r\n      <!-- 2010 -->\r\n      <g style=\"fill:#262626;\" transform=\"translate(773.010078 312.968125)rotate(-90)scale(0.11 -0.11)\">\r\n       <use xlink:href=\"#ArialMT-50\"/>\r\n       <use x=\"55.615234\" xlink:href=\"#ArialMT-48\"/>\r\n       <use x=\"111.230469\" xlink:href=\"#ArialMT-49\"/>\r\n       <use x=\"166.845703\" xlink:href=\"#ArialMT-48\"/>\r\n      </g>\r\n     </g>\r\n    </g>\r\n    <g id=\"xtick_75\">\r\n     <g id=\"text_75\">\r\n      <!-- 2011 -->\r\n      <g style=\"fill:#262626;\" transform=\"translate(782.974364 312.156875)rotate(-90)scale(0.11 -0.11)\">\r\n       <use xlink:href=\"#ArialMT-50\"/>\r\n       <use x=\"55.615234\" xlink:href=\"#ArialMT-48\"/>\r\n       <use x=\"111.230469\" xlink:href=\"#ArialMT-49\"/>\r\n       <use x=\"159.470703\" xlink:href=\"#ArialMT-49\"/>\r\n      </g>\r\n     </g>\r\n    </g>\r\n    <g id=\"xtick_76\">\r\n     <g id=\"text_76\">\r\n      <!-- 2012 -->\r\n      <g style=\"fill:#262626;\" transform=\"translate(792.93865 312.968125)rotate(-90)scale(0.11 -0.11)\">\r\n       <use xlink:href=\"#ArialMT-50\"/>\r\n       <use x=\"55.615234\" xlink:href=\"#ArialMT-48\"/>\r\n       <use x=\"111.230469\" xlink:href=\"#ArialMT-49\"/>\r\n       <use x=\"166.845703\" xlink:href=\"#ArialMT-50\"/>\r\n      </g>\r\n     </g>\r\n    </g>\r\n    <g id=\"xtick_77\">\r\n     <g id=\"text_77\">\r\n      <!-- 2013 -->\r\n      <g style=\"fill:#262626;\" transform=\"translate(802.902935 312.968125)rotate(-90)scale(0.11 -0.11)\">\r\n       <use xlink:href=\"#ArialMT-50\"/>\r\n       <use x=\"55.615234\" xlink:href=\"#ArialMT-48\"/>\r\n       <use x=\"111.230469\" xlink:href=\"#ArialMT-49\"/>\r\n       <use x=\"166.845703\" xlink:href=\"#ArialMT-51\"/>\r\n      </g>\r\n     </g>\r\n    </g>\r\n    <g id=\"xtick_78\">\r\n     <g id=\"text_78\">\r\n      <!-- 2014 -->\r\n      <g style=\"fill:#262626;\" transform=\"translate(812.867221 312.968125)rotate(-90)scale(0.11 -0.11)\">\r\n       <use xlink:href=\"#ArialMT-50\"/>\r\n       <use x=\"55.615234\" xlink:href=\"#ArialMT-48\"/>\r\n       <use x=\"111.230469\" xlink:href=\"#ArialMT-49\"/>\r\n       <use x=\"166.845703\" xlink:href=\"#ArialMT-52\"/>\r\n      </g>\r\n     </g>\r\n    </g>\r\n    <g id=\"xtick_79\">\r\n     <g id=\"text_79\">\r\n      <!-- 2015 -->\r\n      <g style=\"fill:#262626;\" transform=\"translate(822.831507 312.968125)rotate(-90)scale(0.11 -0.11)\">\r\n       <use xlink:href=\"#ArialMT-50\"/>\r\n       <use x=\"55.615234\" xlink:href=\"#ArialMT-48\"/>\r\n       <use x=\"111.230469\" xlink:href=\"#ArialMT-49\"/>\r\n       <use x=\"166.845703\" xlink:href=\"#ArialMT-53\"/>\r\n      </g>\r\n     </g>\r\n    </g>\r\n    <g id=\"xtick_80\">\r\n     <g id=\"text_80\">\r\n      <!-- 2016 -->\r\n      <g style=\"fill:#262626;\" transform=\"translate(832.795792 312.968125)rotate(-90)scale(0.11 -0.11)\">\r\n       <use xlink:href=\"#ArialMT-50\"/>\r\n       <use x=\"55.615234\" xlink:href=\"#ArialMT-48\"/>\r\n       <use x=\"111.230469\" xlink:href=\"#ArialMT-49\"/>\r\n       <use x=\"166.845703\" xlink:href=\"#ArialMT-54\"/>\r\n      </g>\r\n     </g>\r\n    </g>\r\n    <g id=\"xtick_81\">\r\n     <g id=\"text_81\">\r\n      <!-- 2017 -->\r\n      <g style=\"fill:#262626;\" transform=\"translate(842.760078 312.968125)rotate(-90)scale(0.11 -0.11)\">\r\n       <use xlink:href=\"#ArialMT-50\"/>\r\n       <use x=\"55.615234\" xlink:href=\"#ArialMT-48\"/>\r\n       <use x=\"111.230469\" xlink:href=\"#ArialMT-49\"/>\r\n       <use x=\"166.845703\" xlink:href=\"#ArialMT-55\"/>\r\n      </g>\r\n     </g>\r\n    </g>\r\n    <g id=\"xtick_82\">\r\n     <g id=\"text_82\">\r\n      <!-- 2018 -->\r\n      <g style=\"fill:#262626;\" transform=\"translate(852.724364 312.968125)rotate(-90)scale(0.11 -0.11)\">\r\n       <use xlink:href=\"#ArialMT-50\"/>\r\n       <use x=\"55.615234\" xlink:href=\"#ArialMT-48\"/>\r\n       <use x=\"111.230469\" xlink:href=\"#ArialMT-49\"/>\r\n       <use x=\"166.845703\" xlink:href=\"#ArialMT-56\"/>\r\n      </g>\r\n     </g>\r\n    </g>\r\n    <g id=\"xtick_83\">\r\n     <g id=\"text_83\">\r\n      <!-- 2019 -->\r\n      <g style=\"fill:#262626;\" transform=\"translate(862.68865 312.968125)rotate(-90)scale(0.11 -0.11)\">\r\n       <use xlink:href=\"#ArialMT-50\"/>\r\n       <use x=\"55.615234\" xlink:href=\"#ArialMT-48\"/>\r\n       <use x=\"111.230469\" xlink:href=\"#ArialMT-49\"/>\r\n       <use x=\"166.845703\" xlink:href=\"#ArialMT-57\"/>\r\n      </g>\r\n     </g>\r\n    </g>\r\n    <g id=\"xtick_84\">\r\n     <g id=\"text_84\">\r\n      <!-- 2020 -->\r\n      <g style=\"fill:#262626;\" transform=\"translate(872.652935 312.968125)rotate(-90)scale(0.11 -0.11)\">\r\n       <use xlink:href=\"#ArialMT-50\"/>\r\n       <use x=\"55.615234\" xlink:href=\"#ArialMT-48\"/>\r\n       <use x=\"111.230469\" xlink:href=\"#ArialMT-50\"/>\r\n       <use x=\"166.845703\" xlink:href=\"#ArialMT-48\"/>\r\n      </g>\r\n     </g>\r\n    </g>\r\n    <g id=\"text_85\">\r\n     <!-- year -->\r\n     <g style=\"fill:#262626;\" transform=\"translate(444.620469 325.416875)scale(0.12 -0.12)\">\r\n      <defs>\r\n       <path d=\"M 6.203125 -19.96875 \r\nL 5.21875 -11.71875 \r\nQ 8.109375 -12.5 10.25 -12.5 \r\nQ 13.1875 -12.5 14.9375 -11.515625 \r\nQ 16.703125 -10.546875 17.828125 -8.796875 \r\nQ 18.65625 -7.46875 20.515625 -2.25 \r\nQ 20.75 -1.515625 21.296875 -0.09375 \r\nL 1.609375 51.859375 \r\nL 11.078125 51.859375 \r\nL 21.875 21.828125 \r\nQ 23.96875 16.109375 25.640625 9.8125 \r\nQ 27.15625 15.875 29.25 21.625 \r\nL 40.328125 51.859375 \r\nL 49.125 51.859375 \r\nL 29.390625 -0.875 \r\nQ 26.21875 -9.421875 24.46875 -12.640625 \r\nQ 22.125 -17 19.09375 -19.015625 \r\nQ 16.0625 -21.046875 11.859375 -21.046875 \r\nQ 9.328125 -21.046875 6.203125 -19.96875 \r\nz\r\n\" id=\"ArialMT-121\"/>\r\n       <path d=\"M 42.09375 16.703125 \r\nL 51.171875 15.578125 \r\nQ 49.03125 7.625 43.21875 3.21875 \r\nQ 37.40625 -1.171875 28.375 -1.171875 \r\nQ 17 -1.171875 10.328125 5.828125 \r\nQ 3.65625 12.84375 3.65625 25.484375 \r\nQ 3.65625 38.578125 10.390625 45.796875 \r\nQ 17.140625 53.03125 27.875 53.03125 \r\nQ 38.28125 53.03125 44.875 45.953125 \r\nQ 51.46875 38.875 51.46875 26.03125 \r\nQ 51.46875 25.25 51.421875 23.6875 \r\nL 12.75 23.6875 \r\nQ 13.234375 15.140625 17.578125 10.59375 \r\nQ 21.921875 6.0625 28.421875 6.0625 \r\nQ 33.25 6.0625 36.671875 8.59375 \r\nQ 40.09375 11.140625 42.09375 16.703125 \r\nz\r\nM 13.234375 30.90625 \r\nL 42.1875 30.90625 \r\nQ 41.609375 37.453125 38.875 40.71875 \r\nQ 34.671875 45.796875 27.984375 45.796875 \r\nQ 21.921875 45.796875 17.796875 41.75 \r\nQ 13.671875 37.703125 13.234375 30.90625 \r\nz\r\n\" id=\"ArialMT-101\"/>\r\n       <path d=\"M 40.4375 6.390625 \r\nQ 35.546875 2.25 31.03125 0.53125 \r\nQ 26.515625 -1.171875 21.34375 -1.171875 \r\nQ 12.796875 -1.171875 8.203125 3 \r\nQ 3.609375 7.171875 3.609375 13.671875 \r\nQ 3.609375 17.484375 5.34375 20.625 \r\nQ 7.078125 23.78125 9.890625 25.6875 \r\nQ 12.703125 27.59375 16.21875 28.5625 \r\nQ 18.796875 29.25 24.03125 29.890625 \r\nQ 34.671875 31.15625 39.703125 32.90625 \r\nQ 39.75 34.71875 39.75 35.203125 \r\nQ 39.75 40.578125 37.25 42.78125 \r\nQ 33.890625 45.75 27.25 45.75 \r\nQ 21.046875 45.75 18.09375 43.578125 \r\nQ 15.140625 41.40625 13.71875 35.890625 \r\nL 5.125 37.0625 \r\nQ 6.296875 42.578125 8.984375 45.96875 \r\nQ 11.671875 49.359375 16.75 51.1875 \r\nQ 21.828125 53.03125 28.515625 53.03125 \r\nQ 35.15625 53.03125 39.296875 51.46875 \r\nQ 43.453125 49.90625 45.40625 47.53125 \r\nQ 47.359375 45.171875 48.140625 41.546875 \r\nQ 48.578125 39.3125 48.578125 33.453125 \r\nL 48.578125 21.734375 \r\nQ 48.578125 9.46875 49.140625 6.21875 \r\nQ 49.703125 2.984375 51.375 0 \r\nL 42.1875 0 \r\nQ 40.828125 2.734375 40.4375 6.390625 \r\nz\r\nM 39.703125 26.03125 \r\nQ 34.90625 24.078125 25.34375 22.703125 \r\nQ 19.921875 21.921875 17.671875 20.9375 \r\nQ 15.4375 19.96875 14.203125 18.09375 \r\nQ 12.984375 16.21875 12.984375 13.921875 \r\nQ 12.984375 10.40625 15.640625 8.0625 \r\nQ 18.3125 5.71875 23.4375 5.71875 \r\nQ 28.515625 5.71875 32.46875 7.9375 \r\nQ 36.421875 10.15625 38.28125 14.015625 \r\nQ 39.703125 17 39.703125 22.796875 \r\nz\r\n\" id=\"ArialMT-97\"/>\r\n       <path d=\"M 6.5 0 \r\nL 6.5 51.859375 \r\nL 14.40625 51.859375 \r\nL 14.40625 44 \r\nQ 17.4375 49.515625 20 51.265625 \r\nQ 22.5625 53.03125 25.640625 53.03125 \r\nQ 30.078125 53.03125 34.671875 50.203125 \r\nL 31.640625 42.046875 \r\nQ 28.421875 43.953125 25.203125 43.953125 \r\nQ 22.3125 43.953125 20.015625 42.21875 \r\nQ 17.71875 40.484375 16.75 37.40625 \r\nQ 15.28125 32.71875 15.28125 27.15625 \r\nL 15.28125 0 \r\nz\r\n\" id=\"ArialMT-114\"/>\r\n      </defs>\r\n      <use xlink:href=\"#ArialMT-121\"/>\r\n      <use x=\"50\" xlink:href=\"#ArialMT-101\"/>\r\n      <use x=\"105.615234\" xlink:href=\"#ArialMT-97\"/>\r\n      <use x=\"161.230469\" xlink:href=\"#ArialMT-114\"/>\r\n     </g>\r\n    </g>\r\n   </g>\r\n   <g id=\"matplotlib.axis_2\">\r\n    <g id=\"ytick_1\">\r\n     <g id=\"line2d_1\">\r\n      <path clip-path=\"url(#p65c196ac25)\" d=\"M 37.791406 279 \r\nL 874.791406 279 \r\n\" style=\"fill:none;stroke:#ffffff;stroke-linecap:round;\"/>\r\n     </g>\r\n     <g id=\"text_86\">\r\n      <!-- 0 -->\r\n      <g style=\"fill:#262626;\" transform=\"translate(22.174375 282.936797)scale(0.11 -0.11)\">\r\n       <use xlink:href=\"#ArialMT-48\"/>\r\n      </g>\r\n     </g>\r\n    </g>\r\n    <g id=\"ytick_2\">\r\n     <g id=\"line2d_2\">\r\n      <path clip-path=\"url(#p65c196ac25)\" d=\"M 37.791406 246.642857 \r\nL 874.791406 246.642857 \r\n\" style=\"fill:none;stroke:#ffffff;stroke-linecap:round;\"/>\r\n     </g>\r\n     <g id=\"text_87\">\r\n      <!-- 1 -->\r\n      <g style=\"fill:#262626;\" transform=\"translate(22.174375 250.579654)scale(0.11 -0.11)\">\r\n       <use xlink:href=\"#ArialMT-49\"/>\r\n      </g>\r\n     </g>\r\n    </g>\r\n    <g id=\"ytick_3\">\r\n     <g id=\"line2d_3\">\r\n      <path clip-path=\"url(#p65c196ac25)\" d=\"M 37.791406 214.285714 \r\nL 874.791406 214.285714 \r\n\" style=\"fill:none;stroke:#ffffff;stroke-linecap:round;\"/>\r\n     </g>\r\n     <g id=\"text_88\">\r\n      <!-- 2 -->\r\n      <g style=\"fill:#262626;\" transform=\"translate(22.174375 218.222511)scale(0.11 -0.11)\">\r\n       <use xlink:href=\"#ArialMT-50\"/>\r\n      </g>\r\n     </g>\r\n    </g>\r\n    <g id=\"ytick_4\">\r\n     <g id=\"line2d_4\">\r\n      <path clip-path=\"url(#p65c196ac25)\" d=\"M 37.791406 181.928571 \r\nL 874.791406 181.928571 \r\n\" style=\"fill:none;stroke:#ffffff;stroke-linecap:round;\"/>\r\n     </g>\r\n     <g id=\"text_89\">\r\n      <!-- 3 -->\r\n      <g style=\"fill:#262626;\" transform=\"translate(22.174375 185.865368)scale(0.11 -0.11)\">\r\n       <use xlink:href=\"#ArialMT-51\"/>\r\n      </g>\r\n     </g>\r\n    </g>\r\n    <g id=\"ytick_5\">\r\n     <g id=\"line2d_5\">\r\n      <path clip-path=\"url(#p65c196ac25)\" d=\"M 37.791406 149.571429 \r\nL 874.791406 149.571429 \r\n\" style=\"fill:none;stroke:#ffffff;stroke-linecap:round;\"/>\r\n     </g>\r\n     <g id=\"text_90\">\r\n      <!-- 4 -->\r\n      <g style=\"fill:#262626;\" transform=\"translate(22.174375 153.508225)scale(0.11 -0.11)\">\r\n       <use xlink:href=\"#ArialMT-52\"/>\r\n      </g>\r\n     </g>\r\n    </g>\r\n    <g id=\"ytick_6\">\r\n     <g id=\"line2d_6\">\r\n      <path clip-path=\"url(#p65c196ac25)\" d=\"M 37.791406 117.214286 \r\nL 874.791406 117.214286 \r\n\" style=\"fill:none;stroke:#ffffff;stroke-linecap:round;\"/>\r\n     </g>\r\n     <g id=\"text_91\">\r\n      <!-- 5 -->\r\n      <g style=\"fill:#262626;\" transform=\"translate(22.174375 121.151083)scale(0.11 -0.11)\">\r\n       <use xlink:href=\"#ArialMT-53\"/>\r\n      </g>\r\n     </g>\r\n    </g>\r\n    <g id=\"ytick_7\">\r\n     <g id=\"line2d_7\">\r\n      <path clip-path=\"url(#p65c196ac25)\" d=\"M 37.791406 84.857143 \r\nL 874.791406 84.857143 \r\n\" style=\"fill:none;stroke:#ffffff;stroke-linecap:round;\"/>\r\n     </g>\r\n     <g id=\"text_92\">\r\n      <!-- 6 -->\r\n      <g style=\"fill:#262626;\" transform=\"translate(22.174375 88.79394)scale(0.11 -0.11)\">\r\n       <use xlink:href=\"#ArialMT-54\"/>\r\n      </g>\r\n     </g>\r\n    </g>\r\n    <g id=\"ytick_8\">\r\n     <g id=\"line2d_8\">\r\n      <path clip-path=\"url(#p65c196ac25)\" d=\"M 37.791406 52.5 \r\nL 874.791406 52.5 \r\n\" style=\"fill:none;stroke:#ffffff;stroke-linecap:round;\"/>\r\n     </g>\r\n     <g id=\"text_93\">\r\n      <!-- 7 -->\r\n      <g style=\"fill:#262626;\" transform=\"translate(22.174375 56.436797)scale(0.11 -0.11)\">\r\n       <use xlink:href=\"#ArialMT-55\"/>\r\n      </g>\r\n     </g>\r\n    </g>\r\n    <g id=\"ytick_9\">\r\n     <g id=\"line2d_9\">\r\n      <path clip-path=\"url(#p65c196ac25)\" d=\"M 37.791406 20.142857 \r\nL 874.791406 20.142857 \r\n\" style=\"fill:none;stroke:#ffffff;stroke-linecap:round;\"/>\r\n     </g>\r\n     <g id=\"text_94\">\r\n      <!-- 8 -->\r\n      <g style=\"fill:#262626;\" transform=\"translate(22.174375 24.079654)scale(0.11 -0.11)\">\r\n       <use xlink:href=\"#ArialMT-56\"/>\r\n      </g>\r\n     </g>\r\n    </g>\r\n    <g id=\"text_95\">\r\n     <!-- count -->\r\n     <g style=\"fill:#262626;\" transform=\"translate(15.789375 157.776562)rotate(-90)scale(0.12 -0.12)\">\r\n      <defs>\r\n       <path d=\"M 40.4375 19 \r\nL 49.078125 17.875 \r\nQ 47.65625 8.9375 41.8125 3.875 \r\nQ 35.984375 -1.171875 27.484375 -1.171875 \r\nQ 16.84375 -1.171875 10.375 5.78125 \r\nQ 3.90625 12.75 3.90625 25.734375 \r\nQ 3.90625 34.125 6.6875 40.421875 \r\nQ 9.46875 46.734375 15.15625 49.875 \r\nQ 20.84375 53.03125 27.546875 53.03125 \r\nQ 35.984375 53.03125 41.359375 48.75 \r\nQ 46.734375 44.484375 48.25 36.625 \r\nL 39.703125 35.296875 \r\nQ 38.484375 40.53125 35.375 43.15625 \r\nQ 32.28125 45.796875 27.875 45.796875 \r\nQ 21.234375 45.796875 17.078125 41.03125 \r\nQ 12.9375 36.28125 12.9375 25.984375 \r\nQ 12.9375 15.53125 16.9375 10.796875 \r\nQ 20.953125 6.0625 27.390625 6.0625 \r\nQ 32.5625 6.0625 36.03125 9.234375 \r\nQ 39.5 12.40625 40.4375 19 \r\nz\r\n\" id=\"ArialMT-99\"/>\r\n       <path d=\"M 3.328125 25.921875 \r\nQ 3.328125 40.328125 11.328125 47.265625 \r\nQ 18.015625 53.03125 27.640625 53.03125 \r\nQ 38.328125 53.03125 45.109375 46.015625 \r\nQ 51.90625 39.015625 51.90625 26.65625 \r\nQ 51.90625 16.65625 48.90625 10.90625 \r\nQ 45.90625 5.171875 40.15625 2 \r\nQ 34.421875 -1.171875 27.640625 -1.171875 \r\nQ 16.75 -1.171875 10.03125 5.8125 \r\nQ 3.328125 12.796875 3.328125 25.921875 \r\nz\r\nM 12.359375 25.921875 \r\nQ 12.359375 15.96875 16.703125 11.015625 \r\nQ 21.046875 6.0625 27.640625 6.0625 \r\nQ 34.1875 6.0625 38.53125 11.03125 \r\nQ 42.875 16.015625 42.875 26.21875 \r\nQ 42.875 35.84375 38.5 40.796875 \r\nQ 34.125 45.75 27.640625 45.75 \r\nQ 21.046875 45.75 16.703125 40.8125 \r\nQ 12.359375 35.890625 12.359375 25.921875 \r\nz\r\n\" id=\"ArialMT-111\"/>\r\n       <path d=\"M 40.578125 0 \r\nL 40.578125 7.625 \r\nQ 34.515625 -1.171875 24.125 -1.171875 \r\nQ 19.53125 -1.171875 15.546875 0.578125 \r\nQ 11.578125 2.34375 9.640625 5 \r\nQ 7.71875 7.671875 6.9375 11.53125 \r\nQ 6.390625 14.109375 6.390625 19.734375 \r\nL 6.390625 51.859375 \r\nL 15.1875 51.859375 \r\nL 15.1875 23.09375 \r\nQ 15.1875 16.21875 15.71875 13.8125 \r\nQ 16.546875 10.359375 19.234375 8.375 \r\nQ 21.921875 6.390625 25.875 6.390625 \r\nQ 29.828125 6.390625 33.296875 8.421875 \r\nQ 36.765625 10.453125 38.203125 13.9375 \r\nQ 39.65625 17.4375 39.65625 24.078125 \r\nL 39.65625 51.859375 \r\nL 48.4375 51.859375 \r\nL 48.4375 0 \r\nz\r\n\" id=\"ArialMT-117\"/>\r\n       <path d=\"M 6.59375 0 \r\nL 6.59375 51.859375 \r\nL 14.5 51.859375 \r\nL 14.5 44.484375 \r\nQ 20.21875 53.03125 31 53.03125 \r\nQ 35.6875 53.03125 39.625 51.34375 \r\nQ 43.5625 49.65625 45.515625 46.921875 \r\nQ 47.46875 44.1875 48.25 40.4375 \r\nQ 48.734375 37.984375 48.734375 31.890625 \r\nL 48.734375 0 \r\nL 39.9375 0 \r\nL 39.9375 31.546875 \r\nQ 39.9375 36.921875 38.90625 39.578125 \r\nQ 37.890625 42.234375 35.28125 43.8125 \r\nQ 32.671875 45.40625 29.15625 45.40625 \r\nQ 23.53125 45.40625 19.453125 41.84375 \r\nQ 15.375 38.28125 15.375 28.328125 \r\nL 15.375 0 \r\nz\r\n\" id=\"ArialMT-110\"/>\r\n       <path d=\"M 25.78125 7.859375 \r\nL 27.046875 0.09375 \r\nQ 23.34375 -0.6875 20.40625 -0.6875 \r\nQ 15.625 -0.6875 12.984375 0.828125 \r\nQ 10.359375 2.34375 9.28125 4.8125 \r\nQ 8.203125 7.28125 8.203125 15.1875 \r\nL 8.203125 45.015625 \r\nL 1.765625 45.015625 \r\nL 1.765625 51.859375 \r\nL 8.203125 51.859375 \r\nL 8.203125 64.703125 \r\nL 16.9375 69.96875 \r\nL 16.9375 51.859375 \r\nL 25.78125 51.859375 \r\nL 25.78125 45.015625 \r\nL 16.9375 45.015625 \r\nL 16.9375 14.703125 \r\nQ 16.9375 10.9375 17.40625 9.859375 \r\nQ 17.875 8.796875 18.921875 8.15625 \r\nQ 19.96875 7.515625 21.921875 7.515625 \r\nQ 23.390625 7.515625 25.78125 7.859375 \r\nz\r\n\" id=\"ArialMT-116\"/>\r\n      </defs>\r\n      <use xlink:href=\"#ArialMT-99\"/>\r\n      <use x=\"50\" xlink:href=\"#ArialMT-111\"/>\r\n      <use x=\"105.615234\" xlink:href=\"#ArialMT-117\"/>\r\n      <use x=\"161.230469\" xlink:href=\"#ArialMT-110\"/>\r\n      <use x=\"216.845703\" xlink:href=\"#ArialMT-116\"/>\r\n     </g>\r\n    </g>\r\n   </g>\r\n   <g id=\"patch_3\">\r\n    <path clip-path=\"url(#p65c196ac25)\" d=\"M 38.787835 279 \r\nL 46.759263 279 \r\nL 46.759263 246.642857 \r\nL 38.787835 246.642857 \r\nz\r\n\" style=\"fill:#ea96a3;stroke:#ffffff;stroke-linejoin:miter;\"/>\r\n   </g>\r\n   <g id=\"patch_4\">\r\n    <path clip-path=\"url(#p65c196ac25)\" d=\"M 48.752121 279 \r\nL 56.723549 279 \r\nL 56.723549 246.642857 \r\nL 48.752121 246.642857 \r\nz\r\n\" style=\"fill:#ea979e;stroke:#ffffff;stroke-linejoin:miter;\"/>\r\n   </g>\r\n   <g id=\"patch_5\">\r\n    <path clip-path=\"url(#p65c196ac25)\" d=\"M 58.716406 279 \r\nL 66.687835 279 \r\nL 66.687835 246.642857 \r\nL 58.716406 246.642857 \r\nz\r\n\" style=\"fill:#ea9797;stroke:#ffffff;stroke-linejoin:miter;\"/>\r\n   </g>\r\n   <g id=\"patch_6\">\r\n    <path clip-path=\"url(#p65c196ac25)\" d=\"M 68.680692 279 \r\nL 76.652121 279 \r\nL 76.652121 246.642857 \r\nL 68.680692 246.642857 \r\nz\r\n\" style=\"fill:#e9978f;stroke:#ffffff;stroke-linejoin:miter;\"/>\r\n   </g>\r\n   <g id=\"patch_7\">\r\n    <path clip-path=\"url(#p65c196ac25)\" d=\"M 78.644978 279 \r\nL 86.616406 279 \r\nL 86.616406 246.642857 \r\nL 78.644978 246.642857 \r\nz\r\n\" style=\"fill:#e89685;stroke:#ffffff;stroke-linejoin:miter;\"/>\r\n   </g>\r\n   <g id=\"patch_8\">\r\n    <path clip-path=\"url(#p65c196ac25)\" d=\"M 88.609263 279 \r\nL 96.580692 279 \r\nL 96.580692 214.285714 \r\nL 88.609263 214.285714 \r\nz\r\n\" style=\"fill:#e69579;stroke:#ffffff;stroke-linejoin:miter;\"/>\r\n   </g>\r\n   <g id=\"patch_9\">\r\n    <path clip-path=\"url(#p65c196ac25)\" d=\"M 98.573549 279 \r\nL 106.544978 279 \r\nL 106.544978 214.285714 \r\nL 98.573549 214.285714 \r\nz\r\n\" style=\"fill:#e4946a;stroke:#ffffff;stroke-linejoin:miter;\"/>\r\n   </g>\r\n   <g id=\"patch_10\">\r\n    <path clip-path=\"url(#p65c196ac25)\" d=\"M 108.537835 279 \r\nL 116.509263 279 \r\nL 116.509263 246.642857 \r\nL 108.537835 246.642857 \r\nz\r\n\" style=\"fill:#e19153;stroke:#ffffff;stroke-linejoin:miter;\"/>\r\n   </g>\r\n   <g id=\"patch_11\">\r\n    <path clip-path=\"url(#p65c196ac25)\" d=\"M 118.502121 279 \r\nL 126.473549 279 \r\nL 126.473549 246.642857 \r\nL 118.502121 246.642857 \r\nz\r\n\" style=\"fill:#da934e;stroke:#ffffff;stroke-linejoin:miter;\"/>\r\n   </g>\r\n   <g id=\"patch_12\">\r\n    <path clip-path=\"url(#p65c196ac25)\" d=\"M 128.466406 279 \r\nL 136.437835 279 \r\nL 136.437835 214.285714 \r\nL 128.466406 214.285714 \r\nz\r\n\" style=\"fill:#d3954d;stroke:#ffffff;stroke-linejoin:miter;\"/>\r\n   </g>\r\n   <g id=\"patch_13\">\r\n    <path clip-path=\"url(#p65c196ac25)\" d=\"M 138.430692 279 \r\nL 146.402121 279 \r\nL 146.402121 214.285714 \r\nL 138.430692 214.285714 \r\nz\r\n\" style=\"fill:#cd974c;stroke:#ffffff;stroke-linejoin:miter;\"/>\r\n   </g>\r\n   <g id=\"patch_14\">\r\n    <path clip-path=\"url(#p65c196ac25)\" d=\"M 148.394978 279 \r\nL 156.366406 279 \r\nL 156.366406 246.642857 \r\nL 148.394978 246.642857 \r\nz\r\n\" style=\"fill:#c8984b;stroke:#ffffff;stroke-linejoin:miter;\"/>\r\n   </g>\r\n   <g id=\"patch_15\">\r\n    <path clip-path=\"url(#p65c196ac25)\" d=\"M 158.359263 279 \r\nL 166.330692 279 \r\nL 166.330692 214.285714 \r\nL 158.359263 214.285714 \r\nz\r\n\" style=\"fill:#c29a4b;stroke:#ffffff;stroke-linejoin:miter;\"/>\r\n   </g>\r\n   <g id=\"patch_16\">\r\n    <path clip-path=\"url(#p65c196ac25)\" d=\"M 168.323549 279 \r\nL 176.294978 279 \r\nL 176.294978 246.642857 \r\nL 168.323549 246.642857 \r\nz\r\n\" style=\"fill:#bd9b4a;stroke:#ffffff;stroke-linejoin:miter;\"/>\r\n   </g>\r\n   <g id=\"patch_17\">\r\n    <path clip-path=\"url(#p65c196ac25)\" d=\"M 178.287835 279 \r\nL 186.259263 279 \r\nL 186.259263 246.642857 \r\nL 178.287835 246.642857 \r\nz\r\n\" style=\"fill:#b89c49;stroke:#ffffff;stroke-linejoin:miter;\"/>\r\n   </g>\r\n   <g id=\"patch_18\">\r\n    <path clip-path=\"url(#p65c196ac25)\" d=\"M 188.252121 279 \r\nL 196.223549 279 \r\nL 196.223549 214.285714 \r\nL 188.252121 214.285714 \r\nz\r\n\" style=\"fill:#b49d48;stroke:#ffffff;stroke-linejoin:miter;\"/>\r\n   </g>\r\n   <g id=\"patch_19\">\r\n    <path clip-path=\"url(#p65c196ac25)\" d=\"M 198.216406 279 \r\nL 206.187835 279 \r\nL 206.187835 246.642857 \r\nL 198.216406 246.642857 \r\nz\r\n\" style=\"fill:#af9d48;stroke:#ffffff;stroke-linejoin:miter;\"/>\r\n   </g>\r\n   <g id=\"patch_20\">\r\n    <path clip-path=\"url(#p65c196ac25)\" d=\"M 208.180692 279 \r\nL 216.152121 279 \r\nL 216.152121 181.928571 \r\nL 208.180692 181.928571 \r\nz\r\n\" style=\"fill:#aa9e47;stroke:#ffffff;stroke-linejoin:miter;\"/>\r\n   </g>\r\n   <g id=\"patch_21\">\r\n    <path clip-path=\"url(#p65c196ac25)\" d=\"M 218.144978 279 \r\nL 226.116406 279 \r\nL 226.116406 214.285714 \r\nL 218.144978 214.285714 \r\nz\r\n\" style=\"fill:#a69f46;stroke:#ffffff;stroke-linejoin:miter;\"/>\r\n   </g>\r\n   <g id=\"patch_22\">\r\n    <path clip-path=\"url(#p65c196ac25)\" d=\"M 228.109263 279 \r\nL 236.080692 279 \r\nL 236.080692 214.285714 \r\nL 228.109263 214.285714 \r\nz\r\n\" style=\"fill:#a19f46;stroke:#ffffff;stroke-linejoin:miter;\"/>\r\n   </g>\r\n   <g id=\"patch_23\">\r\n    <path clip-path=\"url(#p65c196ac25)\" d=\"M 238.073549 279 \r\nL 246.044978 279 \r\nL 246.044978 149.571429 \r\nL 238.073549 149.571429 \r\nz\r\n\" style=\"fill:#9ca145;stroke:#ffffff;stroke-linejoin:miter;\"/>\r\n   </g>\r\n   <g id=\"patch_24\">\r\n    <path clip-path=\"url(#p65c196ac25)\" d=\"M 248.037835 279 \r\nL 256.009263 279 \r\nL 256.009263 246.642857 \r\nL 248.037835 246.642857 \r\nz\r\n\" style=\"fill:#98a246;stroke:#ffffff;stroke-linejoin:miter;\"/>\r\n   </g>\r\n   <g id=\"patch_25\">\r\n    <path clip-path=\"url(#p65c196ac25)\" d=\"M 258.002121 279 \r\nL 265.973549 279 \r\nL 265.973549 84.857143 \r\nL 258.002121 84.857143 \r\nz\r\n\" style=\"fill:#93a446;stroke:#ffffff;stroke-linejoin:miter;\"/>\r\n   </g>\r\n   <g id=\"patch_26\">\r\n    <path clip-path=\"url(#p65c196ac25)\" d=\"M 267.966406 279 \r\nL 275.937835 279 \r\nL 275.937835 246.642857 \r\nL 267.966406 246.642857 \r\nz\r\n\" style=\"fill:#8ea546;stroke:#ffffff;stroke-linejoin:miter;\"/>\r\n   </g>\r\n   <g id=\"patch_27\">\r\n    <path clip-path=\"url(#p65c196ac25)\" d=\"M 277.930692 279 \r\nL 285.902121 279 \r\nL 285.902121 149.571429 \r\nL 277.930692 149.571429 \r\nz\r\n\" style=\"fill:#88a746;stroke:#ffffff;stroke-linejoin:miter;\"/>\r\n   </g>\r\n   <g id=\"patch_28\">\r\n    <path clip-path=\"url(#p65c196ac25)\" d=\"M 287.894978 279 \r\nL 295.866406 279 \r\nL 295.866406 214.285714 \r\nL 287.894978 214.285714 \r\nz\r\n\" style=\"fill:#81a846;stroke:#ffffff;stroke-linejoin:miter;\"/>\r\n   </g>\r\n   <g id=\"patch_29\">\r\n    <path clip-path=\"url(#p65c196ac25)\" d=\"M 297.859263 279 \r\nL 305.830692 279 \r\nL 305.830692 214.285714 \r\nL 297.859263 214.285714 \r\nz\r\n\" style=\"fill:#78aa47;stroke:#ffffff;stroke-linejoin:miter;\"/>\r\n   </g>\r\n   <g id=\"patch_30\">\r\n    <path clip-path=\"url(#p65c196ac25)\" d=\"M 307.823549 279 \r\nL 315.794978 279 \r\nL 315.794978 181.928571 \r\nL 307.823549 181.928571 \r\nz\r\n\" style=\"fill:#6eac47;stroke:#ffffff;stroke-linejoin:miter;\"/>\r\n   </g>\r\n   <g id=\"patch_31\">\r\n    <path clip-path=\"url(#p65c196ac25)\" d=\"M 317.787835 279 \r\nL 325.759263 279 \r\nL 325.759263 214.285714 \r\nL 317.787835 214.285714 \r\nz\r\n\" style=\"fill:#60ae47;stroke:#ffffff;stroke-linejoin:miter;\"/>\r\n   </g>\r\n   <g id=\"patch_32\">\r\n    <path clip-path=\"url(#p65c196ac25)\" d=\"M 327.752121 279 \r\nL 335.723549 279 \r\nL 335.723549 246.642857 \r\nL 327.752121 246.642857 \r\nz\r\n\" style=\"fill:#49b147;stroke:#ffffff;stroke-linejoin:miter;\"/>\r\n   </g>\r\n   <g id=\"patch_33\">\r\n    <path clip-path=\"url(#p65c196ac25)\" d=\"M 337.716406 279 \r\nL 345.687835 279 \r\nL 345.687835 246.642857 \r\nL 337.716406 246.642857 \r\nz\r\n\" style=\"fill:#48b05e;stroke:#ffffff;stroke-linejoin:miter;\"/>\r\n   </g>\r\n   <g id=\"patch_34\">\r\n    <path clip-path=\"url(#p65c196ac25)\" d=\"M 347.680692 279 \r\nL 355.652121 279 \r\nL 355.652121 149.571429 \r\nL 347.680692 149.571429 \r\nz\r\n\" style=\"fill:#48af6d;stroke:#ffffff;stroke-linejoin:miter;\"/>\r\n   </g>\r\n   <g id=\"patch_35\">\r\n    <path clip-path=\"url(#p65c196ac25)\" d=\"M 357.644978 279 \r\nL 365.616406 279 \r\nL 365.616406 246.642857 \r\nL 357.644978 246.642857 \r\nz\r\n\" style=\"fill:#49af77;stroke:#ffffff;stroke-linejoin:miter;\"/>\r\n   </g>\r\n   <g id=\"patch_36\">\r\n    <path clip-path=\"url(#p65c196ac25)\" d=\"M 367.609263 279 \r\nL 375.580692 279 \r\nL 375.580692 214.285714 \r\nL 367.609263 214.285714 \r\nz\r\n\" style=\"fill:#49ae7f;stroke:#ffffff;stroke-linejoin:miter;\"/>\r\n   </g>\r\n   <g id=\"patch_37\">\r\n    <path clip-path=\"url(#p65c196ac25)\" d=\"M 377.573549 279 \r\nL 385.544978 279 \r\nL 385.544978 214.285714 \r\nL 377.573549 214.285714 \r\nz\r\n\" style=\"fill:#49ae85;stroke:#ffffff;stroke-linejoin:miter;\"/>\r\n   </g>\r\n   <g id=\"patch_38\">\r\n    <path clip-path=\"url(#p65c196ac25)\" d=\"M 387.537835 279 \r\nL 395.509263 279 \r\nL 395.509263 246.642857 \r\nL 387.537835 246.642857 \r\nz\r\n\" style=\"fill:#4aae8a;stroke:#ffffff;stroke-linejoin:miter;\"/>\r\n   </g>\r\n   <g id=\"patch_39\">\r\n    <path clip-path=\"url(#p65c196ac25)\" d=\"M 397.502121 279 \r\nL 405.473549 279 \r\nL 405.473549 246.642857 \r\nL 397.502121 246.642857 \r\nz\r\n\" style=\"fill:#4aad8f;stroke:#ffffff;stroke-linejoin:miter;\"/>\r\n   </g>\r\n   <g id=\"patch_40\">\r\n    <path clip-path=\"url(#p65c196ac25)\" d=\"M 407.466406 279 \r\nL 415.437835 279 \r\nL 415.437835 214.285714 \r\nL 407.466406 214.285714 \r\nz\r\n\" style=\"fill:#4aad93;stroke:#ffffff;stroke-linejoin:miter;\"/>\r\n   </g>\r\n   <g id=\"patch_41\">\r\n    <path clip-path=\"url(#p65c196ac25)\" d=\"M 417.430692 279 \r\nL 425.402121 279 \r\nL 425.402121 181.928571 \r\nL 417.430692 181.928571 \r\nz\r\n\" style=\"fill:#4aac97;stroke:#ffffff;stroke-linejoin:miter;\"/>\r\n   </g>\r\n   <g id=\"patch_42\">\r\n    <path clip-path=\"url(#p65c196ac25)\" d=\"M 427.394978 279 \r\nL 435.366406 279 \r\nL 435.366406 181.928571 \r\nL 427.394978 181.928571 \r\nz\r\n\" style=\"fill:#4aac9b;stroke:#ffffff;stroke-linejoin:miter;\"/>\r\n   </g>\r\n   <g id=\"patch_43\">\r\n    <path clip-path=\"url(#p65c196ac25)\" d=\"M 437.359263 279 \r\nL 445.330692 279 \r\nL 445.330692 246.642857 \r\nL 437.359263 246.642857 \r\nz\r\n\" style=\"fill:#4bac9e;stroke:#ffffff;stroke-linejoin:miter;\"/>\r\n   </g>\r\n   <g id=\"patch_44\">\r\n    <path clip-path=\"url(#p65c196ac25)\" d=\"M 447.323549 279 \r\nL 455.294978 279 \r\nL 455.294978 246.642857 \r\nL 447.323549 246.642857 \r\nz\r\n\" style=\"fill:#4baba1;stroke:#ffffff;stroke-linejoin:miter;\"/>\r\n   </g>\r\n   <g id=\"patch_45\">\r\n    <path clip-path=\"url(#p65c196ac25)\" d=\"M 457.287835 279 \r\nL 465.259263 279 \r\nL 465.259263 149.571429 \r\nL 457.287835 149.571429 \r\nz\r\n\" style=\"fill:#4baba4;stroke:#ffffff;stroke-linejoin:miter;\"/>\r\n   </g>\r\n   <g id=\"patch_46\">\r\n    <path clip-path=\"url(#p65c196ac25)\" d=\"M 467.252121 279 \r\nL 475.223549 279 \r\nL 475.223549 149.571429 \r\nL 467.252121 149.571429 \r\nz\r\n\" style=\"fill:#4baba7;stroke:#ffffff;stroke-linejoin:miter;\"/>\r\n   </g>\r\n   <g id=\"patch_47\">\r\n    <path clip-path=\"url(#p65c196ac25)\" d=\"M 477.216406 279 \r\nL 485.187835 279 \r\nL 485.187835 214.285714 \r\nL 477.216406 214.285714 \r\nz\r\n\" style=\"fill:#4babaa;stroke:#ffffff;stroke-linejoin:miter;\"/>\r\n   </g>\r\n   <g id=\"patch_48\">\r\n    <path clip-path=\"url(#p65c196ac25)\" d=\"M 487.180692 279 \r\nL 495.152121 279 \r\nL 495.152121 214.285714 \r\nL 487.180692 214.285714 \r\nz\r\n\" style=\"fill:#4cabae;stroke:#ffffff;stroke-linejoin:miter;\"/>\r\n   </g>\r\n   <g id=\"patch_49\">\r\n    <path clip-path=\"url(#p65c196ac25)\" d=\"M 497.144978 279 \r\nL 505.116406 279 \r\nL 505.116406 214.285714 \r\nL 497.144978 214.285714 \r\nz\r\n\" style=\"fill:#4dabb1;stroke:#ffffff;stroke-linejoin:miter;\"/>\r\n   </g>\r\n   <g id=\"patch_50\">\r\n    <path clip-path=\"url(#p65c196ac25)\" d=\"M 507.109263 279 \r\nL 515.080692 279 \r\nL 515.080692 117.214286 \r\nL 507.109263 117.214286 \r\nz\r\n\" style=\"fill:#4eabb5;stroke:#ffffff;stroke-linejoin:miter;\"/>\r\n   </g>\r\n   <g id=\"patch_51\">\r\n    <path clip-path=\"url(#p65c196ac25)\" d=\"M 517.073549 279 \r\nL 525.044978 279 \r\nL 525.044978 181.928571 \r\nL 517.073549 181.928571 \r\nz\r\n\" style=\"fill:#4eabb8;stroke:#ffffff;stroke-linejoin:miter;\"/>\r\n   </g>\r\n   <g id=\"patch_52\">\r\n    <path clip-path=\"url(#p65c196ac25)\" d=\"M 527.037835 279 \r\nL 535.009263 279 \r\nL 535.009263 181.928571 \r\nL 527.037835 181.928571 \r\nz\r\n\" style=\"fill:#4fabbc;stroke:#ffffff;stroke-linejoin:miter;\"/>\r\n   </g>\r\n   <g id=\"patch_53\">\r\n    <path clip-path=\"url(#p65c196ac25)\" d=\"M 537.002121 279 \r\nL 544.973549 279 \r\nL 544.973549 214.285714 \r\nL 537.002121 214.285714 \r\nz\r\n\" style=\"fill:#50acc1;stroke:#ffffff;stroke-linejoin:miter;\"/>\r\n   </g>\r\n   <g id=\"patch_54\">\r\n    <path clip-path=\"url(#p65c196ac25)\" d=\"M 546.966406 279 \r\nL 554.937835 279 \r\nL 554.937835 149.571429 \r\nL 546.966406 149.571429 \r\nz\r\n\" style=\"fill:#51acc5;stroke:#ffffff;stroke-linejoin:miter;\"/>\r\n   </g>\r\n   <g id=\"patch_55\">\r\n    <path clip-path=\"url(#p65c196ac25)\" d=\"M 556.930692 279 \r\nL 564.902121 279 \r\nL 564.902121 214.285714 \r\nL 556.930692 214.285714 \r\nz\r\n\" style=\"fill:#52acca;stroke:#ffffff;stroke-linejoin:miter;\"/>\r\n   </g>\r\n   <g id=\"patch_56\">\r\n    <path clip-path=\"url(#p65c196ac25)\" d=\"M 566.894978 279 \r\nL 574.866406 279 \r\nL 574.866406 246.642857 \r\nL 566.894978 246.642857 \r\nz\r\n\" style=\"fill:#54acd0;stroke:#ffffff;stroke-linejoin:miter;\"/>\r\n   </g>\r\n   <g id=\"patch_57\">\r\n    <path clip-path=\"url(#p65c196ac25)\" d=\"M 576.859263 279 \r\nL 584.830692 279 \r\nL 584.830692 214.285714 \r\nL 576.859263 214.285714 \r\nz\r\n\" style=\"fill:#55acd7;stroke:#ffffff;stroke-linejoin:miter;\"/>\r\n   </g>\r\n   <g id=\"patch_58\">\r\n    <path clip-path=\"url(#p65c196ac25)\" d=\"M 586.823549 279 \r\nL 594.794978 279 \r\nL 594.794978 181.928571 \r\nL 586.823549 181.928571 \r\nz\r\n\" style=\"fill:#57adde;stroke:#ffffff;stroke-linejoin:miter;\"/>\r\n   </g>\r\n   <g id=\"patch_59\">\r\n    <path clip-path=\"url(#p65c196ac25)\" d=\"M 596.787835 279 \r\nL 604.759263 279 \r\nL 604.759263 181.928571 \r\nL 596.787835 181.928571 \r\nz\r\n\" style=\"fill:#6daee2;stroke:#ffffff;stroke-linejoin:miter;\"/>\r\n   </g>\r\n   <g id=\"patch_60\">\r\n    <path clip-path=\"url(#p65c196ac25)\" d=\"M 606.752121 279 \r\nL 614.723549 279 \r\nL 614.723549 117.214286 \r\nL 606.752121 117.214286 \r\nz\r\n\" style=\"fill:#7eaee5;stroke:#ffffff;stroke-linejoin:miter;\"/>\r\n   </g>\r\n   <g id=\"patch_61\">\r\n    <path clip-path=\"url(#p65c196ac25)\" d=\"M 616.716406 279 \r\nL 624.687835 279 \r\nL 624.687835 20.142857 \r\nL 616.716406 20.142857 \r\nz\r\n\" style=\"fill:#8baee7;stroke:#ffffff;stroke-linejoin:miter;\"/>\r\n   </g>\r\n   <g id=\"patch_62\">\r\n    <path clip-path=\"url(#p65c196ac25)\" d=\"M 626.680692 279 \r\nL 634.652121 279 \r\nL 634.652121 181.928571 \r\nL 626.680692 181.928571 \r\nz\r\n\" style=\"fill:#96ade8;stroke:#ffffff;stroke-linejoin:miter;\"/>\r\n   </g>\r\n   <g id=\"patch_63\">\r\n    <path clip-path=\"url(#p65c196ac25)\" d=\"M 636.644978 279 \r\nL 644.616406 279 \r\nL 644.616406 84.857143 \r\nL 636.644978 84.857143 \r\nz\r\n\" style=\"fill:#a0adea;stroke:#ffffff;stroke-linejoin:miter;\"/>\r\n   </g>\r\n   <g id=\"patch_64\">\r\n    <path clip-path=\"url(#p65c196ac25)\" d=\"M 646.609263 279 \r\nL 654.580692 279 \r\nL 654.580692 117.214286 \r\nL 646.609263 117.214286 \r\nz\r\n\" style=\"fill:#a9aceb;stroke:#ffffff;stroke-linejoin:miter;\"/>\r\n   </g>\r\n   <g id=\"patch_65\">\r\n    <path clip-path=\"url(#p65c196ac25)\" d=\"M 656.573549 279 \r\nL 664.544978 279 \r\nL 664.544978 117.214286 \r\nL 656.573549 117.214286 \r\nz\r\n\" style=\"fill:#b0aaeb;stroke:#ffffff;stroke-linejoin:miter;\"/>\r\n   </g>\r\n   <g id=\"patch_66\">\r\n    <path clip-path=\"url(#p65c196ac25)\" d=\"M 666.537835 279 \r\nL 674.509263 279 \r\nL 674.509263 84.857143 \r\nL 666.537835 84.857143 \r\nz\r\n\" style=\"fill:#b6a8eb;stroke:#ffffff;stroke-linejoin:miter;\"/>\r\n   </g>\r\n   <g id=\"patch_67\">\r\n    <path clip-path=\"url(#p65c196ac25)\" d=\"M 676.502121 279 \r\nL 684.473549 279 \r\nL 684.473549 117.214286 \r\nL 676.502121 117.214286 \r\nz\r\n\" style=\"fill:#bca5ea;stroke:#ffffff;stroke-linejoin:miter;\"/>\r\n   </g>\r\n   <g id=\"patch_68\">\r\n    <path clip-path=\"url(#p65c196ac25)\" d=\"M 686.466406 279 \r\nL 694.437835 279 \r\nL 694.437835 149.571429 \r\nL 686.466406 149.571429 \r\nz\r\n\" style=\"fill:#c2a2ea;stroke:#ffffff;stroke-linejoin:miter;\"/>\r\n   </g>\r\n   <g id=\"patch_69\">\r\n    <path clip-path=\"url(#p65c196ac25)\" d=\"M 696.430692 279 \r\nL 704.402121 279 \r\nL 704.402121 117.214286 \r\nL 696.430692 117.214286 \r\nz\r\n\" style=\"fill:#c79fe9;stroke:#ffffff;stroke-linejoin:miter;\"/>\r\n   </g>\r\n   <g id=\"patch_70\">\r\n    <path clip-path=\"url(#p65c196ac25)\" d=\"M 706.394978 279 \r\nL 714.366406 279 \r\nL 714.366406 84.857143 \r\nL 706.394978 84.857143 \r\nz\r\n\" style=\"fill:#cd9ce9;stroke:#ffffff;stroke-linejoin:miter;\"/>\r\n   </g>\r\n   <g id=\"patch_71\">\r\n    <path clip-path=\"url(#p65c196ac25)\" d=\"M 716.359263 279 \r\nL 724.330692 279 \r\nL 724.330692 181.928571 \r\nL 716.359263 181.928571 \r\nz\r\n\" style=\"fill:#d398e8;stroke:#ffffff;stroke-linejoin:miter;\"/>\r\n   </g>\r\n   <g id=\"patch_72\">\r\n    <path clip-path=\"url(#p65c196ac25)\" d=\"M 726.323549 279 \r\nL 734.294978 279 \r\nL 734.294978 117.214286 \r\nL 726.323549 117.214286 \r\nz\r\n\" style=\"fill:#d994e8;stroke:#ffffff;stroke-linejoin:miter;\"/>\r\n   </g>\r\n   <g id=\"patch_73\">\r\n    <path clip-path=\"url(#p65c196ac25)\" d=\"M 736.287835 279 \r\nL 744.259263 279 \r\nL 744.259263 149.571429 \r\nL 736.287835 149.571429 \r\nz\r\n\" style=\"fill:#df8fe7;stroke:#ffffff;stroke-linejoin:miter;\"/>\r\n   </g>\r\n   <g id=\"patch_74\">\r\n    <path clip-path=\"url(#p65c196ac25)\" d=\"M 746.252121 279 \r\nL 754.223549 279 \r\nL 754.223549 181.928571 \r\nL 746.252121 181.928571 \r\nz\r\n\" style=\"fill:#e589e6;stroke:#ffffff;stroke-linejoin:miter;\"/>\r\n   </g>\r\n   <g id=\"patch_75\">\r\n    <path clip-path=\"url(#p65c196ac25)\" d=\"M 756.216406 279 \r\nL 764.187835 279 \r\nL 764.187835 84.857143 \r\nL 756.216406 84.857143 \r\nz\r\n\" style=\"fill:#e78ae0;stroke:#ffffff;stroke-linejoin:miter;\"/>\r\n   </g>\r\n   <g id=\"patch_76\">\r\n    <path clip-path=\"url(#p65c196ac25)\" d=\"M 766.180692 279 \r\nL 774.152121 279 \r\nL 774.152121 117.214286 \r\nL 766.180692 117.214286 \r\nz\r\n\" style=\"fill:#e78bda;stroke:#ffffff;stroke-linejoin:miter;\"/>\r\n   </g>\r\n   <g id=\"patch_77\">\r\n    <path clip-path=\"url(#p65c196ac25)\" d=\"M 776.144978 279 \r\nL 784.116406 279 \r\nL 784.116406 117.214286 \r\nL 776.144978 117.214286 \r\nz\r\n\" style=\"fill:#e78dd5;stroke:#ffffff;stroke-linejoin:miter;\"/>\r\n   </g>\r\n   <g id=\"patch_78\">\r\n    <path clip-path=\"url(#p65c196ac25)\" d=\"M 786.109263 279 \r\nL 794.080692 279 \r\nL 794.080692 149.571429 \r\nL 786.109263 149.571429 \r\nz\r\n\" style=\"fill:#e88ecf;stroke:#ffffff;stroke-linejoin:miter;\"/>\r\n   </g>\r\n   <g id=\"patch_79\">\r\n    <path clip-path=\"url(#p65c196ac25)\" d=\"M 796.073549 279 \r\nL 804.044978 279 \r\nL 804.044978 149.571429 \r\nL 796.073549 149.571429 \r\nz\r\n\" style=\"fill:#e88fca;stroke:#ffffff;stroke-linejoin:miter;\"/>\r\n   </g>\r\n   <g id=\"patch_80\">\r\n    <path clip-path=\"url(#p65c196ac25)\" d=\"M 806.037835 279 \r\nL 814.009263 279 \r\nL 814.009263 84.857143 \r\nL 806.037835 84.857143 \r\nz\r\n\" style=\"fill:#e890c6;stroke:#ffffff;stroke-linejoin:miter;\"/>\r\n   </g>\r\n   <g id=\"patch_81\">\r\n    <path clip-path=\"url(#p65c196ac25)\" d=\"M 816.002121 279 \r\nL 823.973549 279 \r\nL 823.973549 117.214286 \r\nL 816.002121 117.214286 \r\nz\r\n\" style=\"fill:#e891c1;stroke:#ffffff;stroke-linejoin:miter;\"/>\r\n   </g>\r\n   <g id=\"patch_82\">\r\n    <path clip-path=\"url(#p65c196ac25)\" d=\"M 825.966406 279 \r\nL 833.937835 279 \r\nL 833.937835 117.214286 \r\nL 825.966406 117.214286 \r\nz\r\n\" style=\"fill:#e992bc;stroke:#ffffff;stroke-linejoin:miter;\"/>\r\n   </g>\r\n   <g id=\"patch_83\">\r\n    <path clip-path=\"url(#p65c196ac25)\" d=\"M 835.930692 279 \r\nL 843.902121 279 \r\nL 843.902121 149.571429 \r\nL 835.930692 149.571429 \r\nz\r\n\" style=\"fill:#e993b8;stroke:#ffffff;stroke-linejoin:miter;\"/>\r\n   </g>\r\n   <g id=\"patch_84\">\r\n    <path clip-path=\"url(#p65c196ac25)\" d=\"M 845.894978 279 \r\nL 853.866406 279 \r\nL 853.866406 117.214286 \r\nL 845.894978 117.214286 \r\nz\r\n\" style=\"fill:#e993b3;stroke:#ffffff;stroke-linejoin:miter;\"/>\r\n   </g>\r\n   <g id=\"patch_85\">\r\n    <path clip-path=\"url(#p65c196ac25)\" d=\"M 855.859263 279 \r\nL 863.830692 279 \r\nL 863.830692 52.5 \r\nL 855.859263 52.5 \r\nz\r\n\" style=\"fill:#e994af;stroke:#ffffff;stroke-linejoin:miter;\"/>\r\n   </g>\r\n   <g id=\"patch_86\">\r\n    <path clip-path=\"url(#p65c196ac25)\" d=\"M 865.823549 279 \r\nL 873.794978 279 \r\nL 873.794978 246.642857 \r\nL 865.823549 246.642857 \r\nz\r\n\" style=\"fill:#e995aa;stroke:#ffffff;stroke-linejoin:miter;\"/>\r\n   </g>\r\n   <g id=\"patch_87\">\r\n    <path d=\"M 37.791406 279 \r\nL 37.791406 7.2 \r\n\" style=\"fill:none;stroke:#ffffff;stroke-linecap:square;stroke-linejoin:miter;stroke-width:1.25;\"/>\r\n   </g>\r\n   <g id=\"patch_88\">\r\n    <path d=\"M 874.791406 279 \r\nL 874.791406 7.2 \r\n\" style=\"fill:none;stroke:#ffffff;stroke-linecap:square;stroke-linejoin:miter;stroke-width:1.25;\"/>\r\n   </g>\r\n   <g id=\"patch_89\">\r\n    <path d=\"M 37.791406 279 \r\nL 874.791406 279 \r\n\" style=\"fill:none;stroke:#ffffff;stroke-linecap:square;stroke-linejoin:miter;stroke-width:1.25;\"/>\r\n   </g>\r\n   <g id=\"patch_90\">\r\n    <path d=\"M 37.791406 7.2 \r\nL 874.791406 7.2 \r\n\" style=\"fill:none;stroke:#ffffff;stroke-linecap:square;stroke-linejoin:miter;stroke-width:1.25;\"/>\r\n   </g>\r\n  </g>\r\n </g>\r\n <defs>\r\n  <clipPath id=\"p65c196ac25\">\r\n   <rect height=\"271.8\" width=\"837\" x=\"37.791406\" y=\"7.2\"/>\r\n  </clipPath>\r\n </defs>\r\n</svg>\r\n",
      "image/png": "[encoded data removed]"
     },
     "metadata": {}
    }
   ],
   "source": [
    "sns.set(rc={'figure.figsize':(15,5)})\n",
    "ax = sns.countplot('year',data=topmovies)\n",
    "plt.xticks(rotation=90)\n",
    "plt.show()"
   ]
  },
  {
   "cell_type": "code",
   "execution_count": 81,
   "metadata": {},
   "outputs": [
    {
     "output_type": "display_data",
     "data": {
      "application/vnd.plotly.v1+json": {
       "config": {
        "plotlyServerURL": "https://plot.ly"
       },
       "data": [
        {
         "hovertemplate": "<b>%{hovertext}</b><br><br>year=%{x}<br>rating=%{marker.color}<extra></extra>",
         "hovertext": [
          "The Kid",
          "Sherlock Jr",
          "The Gold Rush",
          "The General",
          "Metropolis",
          "La passion de Jeanne d'Arc",
          "The Circus",
          "City Lights",
          "M - Eine Stadt sucht einen Mörder",
          "It Happened One Night",
          "Modern Times",
          "Gone with the Wind",
          "Mr",
          "The Great Dictator",
          "Rebecca",
          "Citizen Kane",
          "To Be or Not to Be",
          "Casablanca",
          "Double Indemnity",
          "It's a Wonderful Life",
          "The Treasure of the Sierra Madre",
          "Ladri di biciclette",
          "The Third Man",
          "All About Eve",
          "Rashômon",
          "Sunset Blvd",
          "Singin' in the Rain",
          "Ikiru",
          "Tôkyô monogatari",
          "Le salaire de la peur",
          "On the Waterfront",
          "Rear Window",
          "Dial M for Murder",
          "Shichinin no samurai",
          "Du rififi chez les hommes",
          "Smultronstället",
          "Witness for the Prosecution",
          "The Bridge on the River Kwai",
          "12 Angry Men",
          "Paths of Glory",
          "Det sjunde inseglet",
          "Vertigo",
          "North by Northwest",
          "Ben-Hur",
          "Some Like It Hot",
          "Les quatre cents coups",
          "Psycho",
          "The Apartment",
          "Yôjinbô",
          "Judgment at Nuremberg",
          "Lawrence of Arabia",
          "To Kill a Mockingbird",
          "Seppuku",
          "The Great Escape",
          "Tengoku to jigoku",
          "Dr",
          "Per qualche dollaro in più",
          "La battaglia di Algeri",
          "Andrei Rublev",
          "Persona",
          "Il buono, il brutto, il cattivo",
          "Cool Hand Luke",
          "Once Upon a Time in the West",
          "2001: A Space Odyssey",
          "A Clockwork Orange",
          "Anand",
          "The Godfather",
          "The Sting",
          "Chinatown",
          "The Godfather: Part II",
          "Monty Python and the Holy Grail",
          "One Flew Over the Cuckoo's Nest",
          "Barry Lyndon",
          "Network",
          "Taxi Driver",
          "Rocky",
          "Star Wars",
          "The Deer Hunter",
          "Apocalypse Now",
          "Life of Brian",
          "Stalker",
          "Alien",
          "Star Wars: Episode V - The Empire Strikes Back",
          "The Elephant Man",
          "The Shining",
          "Raging Bull",
          "Raiders of the Lost Ark",
          "Das Boot",
          "The Thing",
          "Blade Runner",
          "Scarface",
          "Star Wars: Episode VI - Return of the Jedi",
          "Kaze no tani no Naushika",
          "Amadeus",
          "Paris, Texas",
          "The Terminator",
          "Once Upon a Time in America",
          "Idi i smotri",
          "Back to the Future",
          "Ran",
          "Stand by Me",
          "Platoon",
          "Aliens",
          "Full Metal Jacket",
          "The Princess Bride",
          "Hotaru no haka",
          "Die Hard",
          "Nuovo Cinema Paradiso",
          "Tonari no Totoro",
          "Dead Poets Society",
          "Indiana Jones and the Last Crusade",
          "Goodfellas",
          "The Silence of the Lambs",
          "Terminator 2: Judgment Day",
          "Unforgiven",
          "Aladdin",
          "Reservoir Dogs",
          "Schindler's List",
          "In the Name of the Father",
          "Jurassic Park",
          "The Shawshank Redemption",
          "The Lion King",
          "Pulp Fiction",
          "Forrest Gump",
          "Léon",
          "The Usual Suspects",
          "Casino",
          "La haine",
          "Before Sunrise",
          "Se7en",
          "Toy Story",
          "Heat",
          "Braveheart",
          "Eskiya",
          "Trainspotting",
          "Fargo",
          "Mononoke-hime",
          "Good Will Hunting",
          "Shin seiki Evangelion Gekijô-ban: Air/Magokoro wo, kimi ni",
          "Bacheha-Ye aseman",
          "La vita è bella",
          "L",
          "Saving Private Ryan",
          "American History X",
          "The Big Lebowski",
          "Lock, Stock and Two Smoking Barrels",
          "The Truman Show",
          "The Matrix",
          "Fight Club",
          "The Sixth Sense",
          "The Green Mile",
          "American Beauty",
          "Gladiator",
          "Amores perros",
          "Fa yeung nin wah",
          "Memento",
          "Snatch",
          "Requiem for a Dream",
          "Sen to Chihiro no kamikakushi",
          "The Lord of the Rings: The Fellowship of the Ring",
          "Amélie",
          "A Beautiful Mind",
          "Monsters, Inc",
          "The Lord of the Rings: The Two Towers",
          "Catch Me If You Can",
          "Cidade de Deus",
          "The Pianist",
          "Salinui chueok",
          "Oldeuboi",
          "The Lord of the Rings: The Return of the King",
          "Kill Bill: Vol",
          "Finding Nemo",
          "Hauru no ugoku shiro",
          "Eternal Sunshine of the Spotless Mind",
          "Hotel Rwanda",
          "Der Untergang",
          "Before Sunset",
          "Million Dollar Baby",
          "Batman Begins",
          "Babam ve Oglum",
          "V for Vendetta",
          "The Prestige",
          "Pan's Labyrinth",
          "The Departed",
          "Rang De Basanti",
          "The Lives of Others",
          "Into the Wild",
          "There Will Be Blood",
          "No Country for Old Men",
          "Taare Zameen Par",
          "The Dark Knight",
          "Gran Torino",
          "WALL·E",
          "Hachi: A Dog's Tale",
          "Mary and Max",
          "Up",
          "Inglourious Basterds",
          "3 Idiots",
          "El secreto de sus ojos",
          "Shutter Island",
          "Incendies",
          "Inception",
          "Toy Story 3",
          "How to Train Your Dragon",
          "Jodaeiye Nader az Simin",
          "The Help",
          "Warrior",
          "Harry Potter and the Deathly Hallows: Part 2",
          "The Intouchables",
          "Gangs of Wasseypur",
          "Django Unchained",
          "The Dark Knight Rises",
          "Jagten",
          "Rush",
          "12 Years a Slave",
          "Prisoners",
          "The Wolf of Wall Street",
          "Interstellar",
          "The Grand Budapest Hotel",
          "Gone Girl",
          "Whiplash",
          "Relatos salvajes",
          "Kis Uykusu",
          "Room",
          "Drishyam",
          "Inside Out",
          "Spotlight",
          "Mad Max: Fury Road",
          "Contratiempo",
          "Dangal",
          "Kimi no na wa",
          "Hacksaw Ridge",
          "Ah-ga-ssi",
          "Vikram Vedha",
          "Three Billboards Outside Ebbing, Missouri",
          "Logan",
          "Coco",
          "Andhadhun",
          "Avengers: Infinity War",
          "Green Book",
          "Capharnaüm",
          "Spider-Man: Into the Spider-Verse",
          "1917",
          "Klaus",
          "Portrait de la jeune fille en feu",
          "Avengers: Endgame",
          "Joker",
          "Ford v Ferrari",
          "Gisaengchung",
          "Hamilton"
         ],
         "legendgroup": "",
         "marker": {
          "color": [
           8.2,
           8.1,
           8.1,
           8.1,
           8.2,
           8,
           8,
           8.5,
           8.3,
           8,
           8.5,
           8.1,
           8.1,
           8.4,
           8,
           8.3,
           8.1,
           8.4,
           8.2,
           8.6,
           8.1,
           8.2,
           8.1,
           8.2,
           8.2,
           8.4,
           8.2,
           8.2,
           8.1,
           8,
           8.1,
           8.4,
           8.1,
           8.6,
           8,
           8.1,
           8.4,
           8.1,
           8.9,
           8.4,
           8.1,
           8.3,
           8.2,
           8.1,
           8.2,
           8,
           8.5,
           8.2,
           8.2,
           8.1,
           8.2,
           8.2,
           8.5,
           8.2,
           8.3,
           8.3,
           8.2,
           8,
           8,
           8.1,
           8.8,
           8.1,
           8.4,
           8.3,
           8.2,
           8.1,
           9.1,
           8.2,
           8.1,
           9,
           8.2,
           8.6,
           8.1,
           8.1,
           8.2,
           8,
           8.6,
           8.1,
           8.4,
           8,
           8.1,
           8.4,
           8.7,
           8.1,
           8.4,
           8.1,
           8.4,
           8.3,
           8.1,
           8.1,
           8.2,
           8.3,
           8,
           8.3,
           8,
           8,
           8.3,
           8.2,
           8.5,
           8.2,
           8.1,
           8.1,
           8.3,
           8.2,
           8,
           8.5,
           8.2,
           8.4,
           8.1,
           8.1,
           8.2,
           8.6,
           8.6,
           8.5,
           8.2,
           8,
           8.3,
           8.9,
           8.1,
           8.1,
           9.2,
           8.5,
           8.8,
           8.8,
           8.5,
           8.5,
           8.2,
           8,
           8.1,
           8.6,
           8.3,
           8.2,
           8.3,
           8.1,
           8.1,
           8.1,
           8.4,
           8.3,
           8,
           8.2,
           8.6,
           8.2,
           8.5,
           8.5,
           8.1,
           8.1,
           8.1,
           8.6,
           8.8,
           8.1,
           8.5,
           8.3,
           8.5,
           8,
           8,
           8.4,
           8.2,
           8.3,
           8.5,
           8.8,
           8.2,
           8.2,
           8,
           8.7,
           8.1,
           8.6,
           8.5,
           8.1,
           8.4,
           8.9,
           8.1,
           8.1,
           8.2,
           8.3,
           8,
           8.2,
           8,
           8.1,
           8.2,
           8.1,
           8.1,
           8.5,
           8.2,
           8.5,
           8,
           8.4,
           8.1,
           8.1,
           8.1,
           8.3,
           9,
           8.1,
           8.4,
           8.1,
           8.1,
           8.2,
           8.3,
           8.3,
           8.1,
           8.1,
           8.2,
           8.7,
           8.2,
           8.1,
           8.2,
           8,
           8.1,
           8.1,
           8.5,
           8,
           8.4,
           8.3,
           8.3,
           8,
           8.1,
           8.1,
           8.2,
           8.5,
           8.1,
           8.1,
           8.5,
           8.1,
           8,
           8.1,
           8,
           8.1,
           8,
           8.1,
           8,
           8.3,
           8.3,
           8.1,
           8,
           8.1,
           8.1,
           8.1,
           8.3,
           8.1,
           8.4,
           8.2,
           8.3,
           8.4,
           8.3,
           8.1,
           8,
           8.3,
           8.4,
           8.1,
           8.5,
           8.5
          ],
          "coloraxis": "coloraxis",
          "symbol": "circle"
         },
         "mode": "markers",
         "name": "",
         "orientation": "v",
         "showlegend": false,
         "type": "scatter",
         "x": [
          1921,
          1924,
          1925,
          1926,
          1927,
          1928,
          1928,
          1931,
          1931,
          1934,
          1936,
          1939,
          1939,
          1940,
          1940,
          1941,
          1942,
          1942,
          1944,
          1946,
          1948,
          1948,
          1949,
          1950,
          1950,
          1950,
          1952,
          1952,
          1953,
          1953,
          1954,
          1954,
          1954,
          1954,
          1955,
          1957,
          1957,
          1957,
          1957,
          1957,
          1957,
          1958,
          1959,
          1959,
          1959,
          1959,
          1960,
          1960,
          1961,
          1961,
          1962,
          1962,
          1962,
          1963,
          1963,
          1964,
          1965,
          1966,
          1966,
          1966,
          1966,
          1967,
          1968,
          1968,
          1971,
          1971,
          1972,
          1973,
          1974,
          1974,
          1975,
          1975,
          1975,
          1976,
          1976,
          1976,
          1977,
          1978,
          1979,
          1979,
          1979,
          1979,
          1980,
          1980,
          1980,
          1980,
          1981,
          1981,
          1982,
          1982,
          1983,
          1983,
          1984,
          1984,
          1984,
          1984,
          1984,
          1985,
          1985,
          1985,
          1986,
          1986,
          1986,
          1987,
          1987,
          1988,
          1988,
          1988,
          1988,
          1989,
          1989,
          1990,
          1991,
          1991,
          1992,
          1992,
          1992,
          1993,
          1993,
          1993,
          1994,
          1994,
          1994,
          1994,
          1994,
          1995,
          1995,
          1995,
          1995,
          1995,
          1995,
          1995,
          1995,
          1996,
          1996,
          1996,
          1997,
          1997,
          1997,
          1997,
          1997,
          1997,
          1998,
          1998,
          1998,
          1998,
          1998,
          1999,
          1999,
          1999,
          1999,
          1999,
          2000,
          2000,
          2000,
          2000,
          2000,
          2000,
          2001,
          2001,
          2001,
          2001,
          2001,
          2002,
          2002,
          2002,
          2002,
          2003,
          2003,
          2003,
          2003,
          2003,
          2004,
          2004,
          2004,
          2004,
          2004,
          2004,
          2005,
          2005,
          2005,
          2006,
          2006,
          2006,
          2006,
          2006,
          2007,
          2007,
          2007,
          2007,
          2008,
          2008,
          2008,
          2009,
          2009,
          2009,
          2009,
          2009,
          2009,
          2010,
          2010,
          2010,
          2010,
          2010,
          2011,
          2011,
          2011,
          2011,
          2011,
          2012,
          2012,
          2012,
          2012,
          2013,
          2013,
          2013,
          2013,
          2014,
          2014,
          2014,
          2014,
          2014,
          2014,
          2015,
          2015,
          2015,
          2015,
          2015,
          2016,
          2016,
          2016,
          2016,
          2016,
          2017,
          2017,
          2017,
          2017,
          2018,
          2018,
          2018,
          2018,
          2018,
          2019,
          2019,
          2019,
          2019,
          2019,
          2019,
          2019,
          2020
         ],
         "xaxis": "x",
         "y": [
          8.2,
          8.1,
          8.1,
          8.1,
          8.2,
          8,
          8,
          8.5,
          8.3,
          8,
          8.5,
          8.1,
          8.1,
          8.4,
          8,
          8.3,
          8.1,
          8.4,
          8.2,
          8.6,
          8.1,
          8.2,
          8.1,
          8.2,
          8.2,
          8.4,
          8.2,
          8.2,
          8.1,
          8,
          8.1,
          8.4,
          8.1,
          8.6,
          8,
          8.1,
          8.4,
          8.1,
          8.9,
          8.4,
          8.1,
          8.3,
          8.2,
          8.1,
          8.2,
          8,
          8.5,
          8.2,
          8.2,
          8.1,
          8.2,
          8.2,
          8.5,
          8.2,
          8.3,
          8.3,
          8.2,
          8,
          8,
          8.1,
          8.8,
          8.1,
          8.4,
          8.3,
          8.2,
          8.1,
          9.1,
          8.2,
          8.1,
          9,
          8.2,
          8.6,
          8.1,
          8.1,
          8.2,
          8,
          8.6,
          8.1,
          8.4,
          8,
          8.1,
          8.4,
          8.7,
          8.1,
          8.4,
          8.1,
          8.4,
          8.3,
          8.1,
          8.1,
          8.2,
          8.3,
          8,
          8.3,
          8,
          8,
          8.3,
          8.2,
          8.5,
          8.2,
          8.1,
          8.1,
          8.3,
          8.2,
          8,
          8.5,
          8.2,
          8.4,
          8.1,
          8.1,
          8.2,
          8.6,
          8.6,
          8.5,
          8.2,
          8,
          8.3,
          8.9,
          8.1,
          8.1,
          9.2,
          8.5,
          8.8,
          8.8,
          8.5,
          8.5,
          8.2,
          8,
          8.1,
          8.6,
          8.3,
          8.2,
          8.3,
          8.1,
          8.1,
          8.1,
          8.4,
          8.3,
          8,
          8.2,
          8.6,
          8.2,
          8.5,
          8.5,
          8.1,
          8.1,
          8.1,
          8.6,
          8.8,
          8.1,
          8.5,
          8.3,
          8.5,
          8,
          8,
          8.4,
          8.2,
          8.3,
          8.5,
          8.8,
          8.2,
          8.2,
          8,
          8.7,
          8.1,
          8.6,
          8.5,
          8.1,
          8.4,
          8.9,
          8.1,
          8.1,
          8.2,
          8.3,
          8,
          8.2,
          8,
          8.1,
          8.2,
          8.1,
          8.1,
          8.5,
          8.2,
          8.5,
          8,
          8.4,
          8.1,
          8.1,
          8.1,
          8.3,
          9,
          8.1,
          8.4,
          8.1,
          8.1,
          8.2,
          8.3,
          8.3,
          8.1,
          8.1,
          8.2,
          8.7,
          8.2,
          8.1,
          8.2,
          8,
          8.1,
          8.1,
          8.5,
          8,
          8.4,
          8.3,
          8.3,
          8,
          8.1,
          8.1,
          8.2,
          8.5,
          8.1,
          8.1,
          8.5,
          8.1,
          8,
          8.1,
          8,
          8.1,
          8,
          8.1,
          8,
          8.3,
          8.3,
          8.1,
          8,
          8.1,
          8.1,
          8.1,
          8.3,
          8.1,
          8.4,
          8.2,
          8.3,
          8.4,
          8.3,
          8.1,
          8,
          8.3,
          8.4,
          8.1,
          8.5,
          8.5
         ],
         "yaxis": "y"
        }
       ],
       "layout": {
        "coloraxis": {
         "colorbar": {
          "title": {
           "text": "rating"
          }
         },
         "colorscale": [
          [
           0,
           "#0d0887"
          ],
          [
           0.1111111111111111,
           "#46039f"
          ],
          [
           0.2222222222222222,
           "#7201a8"
          ],
          [
           0.3333333333333333,
           "#9c179e"
          ],
          [
           0.4444444444444444,
           "#bd3786"
          ],
          [
           0.5555555555555556,
           "#d8576b"
          ],
          [
           0.6666666666666666,
           "#ed7953"
          ],
          [
           0.7777777777777778,
           "#fb9f3a"
          ],
          [
           0.8888888888888888,
           "#fdca26"
          ],
          [
           1,
           "#f0f921"
          ]
         ]
        },
        "legend": {
         "tracegroupgap": 0
        },
        "margin": {
         "t": 60
        },
        "template": {
         "data": {
          "bar": [
           {
            "error_x": {
             "color": "#2a3f5f"
            },
            "error_y": {
             "color": "#2a3f5f"
            },
            "marker": {
             "line": {
              "color": "#E5ECF6",
              "width": 0.5
             }
            },
            "type": "bar"
           }
          ],
          "barpolar": [
           {
            "marker": {
             "line": {
              "color": "#E5ECF6",
              "width": 0.5
             }
            },
            "type": "barpolar"
           }
          ],
          "carpet": [
           {
            "aaxis": {
             "endlinecolor": "#2a3f5f",
             "gridcolor": "white",
             "linecolor": "white",
             "minorgridcolor": "white",
             "startlinecolor": "#2a3f5f"
            },
            "baxis": {
             "endlinecolor": "#2a3f5f",
             "gridcolor": "white",
             "linecolor": "white",
             "minorgridcolor": "white",
             "startlinecolor": "#2a3f5f"
            },
            "type": "carpet"
           }
          ],
          "choropleth": [
           {
            "colorbar": {
             "outlinewidth": 0,
             "ticks": ""
            },
            "type": "choropleth"
           }
          ],
          "contour": [
           {
            "colorbar": {
             "outlinewidth": 0,
             "ticks": ""
            },
            "colorscale": [
             [
              0,
              "#0d0887"
             ],
             [
              0.1111111111111111,
              "#46039f"
             ],
             [
              0.2222222222222222,
              "#7201a8"
             ],
             [
              0.3333333333333333,
              "#9c179e"
             ],
             [
              0.4444444444444444,
              "#bd3786"
             ],
             [
              0.5555555555555556,
              "#d8576b"
             ],
             [
              0.6666666666666666,
              "#ed7953"
             ],
             [
              0.7777777777777778,
              "#fb9f3a"
             ],
             [
              0.8888888888888888,
              "#fdca26"
             ],
             [
              1,
              "#f0f921"
             ]
            ],
            "type": "contour"
           }
          ],
          "contourcarpet": [
           {
            "colorbar": {
             "outlinewidth": 0,
             "ticks": ""
            },
            "type": "contourcarpet"
           }
          ],
          "heatmap": [
           {
            "colorbar": {
             "outlinewidth": 0,
             "ticks": ""
            },
            "colorscale": [
             [
              0,
              "#0d0887"
             ],
             [
              0.1111111111111111,
              "#46039f"
             ],
             [
              0.2222222222222222,
              "#7201a8"
             ],
             [
              0.3333333333333333,
              "#9c179e"
             ],
             [
              0.4444444444444444,
              "#bd3786"
             ],
             [
              0.5555555555555556,
              "#d8576b"
             ],
             [
              0.6666666666666666,
              "#ed7953"
             ],
             [
              0.7777777777777778,
              "#fb9f3a"
             ],
             [
              0.8888888888888888,
              "#fdca26"
             ],
             [
              1,
              "#f0f921"
             ]
            ],
            "type": "heatmap"
           }
          ],
          "heatmapgl": [
           {
            "colorbar": {
             "outlinewidth": 0,
             "ticks": ""
            },
            "colorscale": [
             [
              0,
              "#0d0887"
             ],
             [
              0.1111111111111111,
              "#46039f"
             ],
             [
              0.2222222222222222,
              "#7201a8"
             ],
             [
              0.3333333333333333,
              "#9c179e"
             ],
             [
              0.4444444444444444,
              "#bd3786"
             ],
             [
              0.5555555555555556,
              "#d8576b"
             ],
             [
              0.6666666666666666,
              "#ed7953"
             ],
             [
              0.7777777777777778,
              "#fb9f3a"
             ],
             [
              0.8888888888888888,
              "#fdca26"
             ],
             [
              1,
              "#f0f921"
             ]
            ],
            "type": "heatmapgl"
           }
          ],
          "histogram": [
           {
            "marker": {
             "colorbar": {
              "outlinewidth": 0,
              "ticks": ""
             }
            },
            "type": "histogram"
           }
          ],
          "histogram2d": [
           {
            "colorbar": {
             "outlinewidth": 0,
             "ticks": ""
            },
            "colorscale": [
             [
              0,
              "#0d0887"
             ],
             [
              0.1111111111111111,
              "#46039f"
             ],
             [
              0.2222222222222222,
              "#7201a8"
             ],
             [
              0.3333333333333333,
              "#9c179e"
             ],
             [
              0.4444444444444444,
              "#bd3786"
             ],
             [
              0.5555555555555556,
              "#d8576b"
             ],
             [
              0.6666666666666666,
              "#ed7953"
             ],
             [
              0.7777777777777778,
              "#fb9f3a"
             ],
             [
              0.8888888888888888,
              "#fdca26"
             ],
             [
              1,
              "#f0f921"
             ]
            ],
            "type": "histogram2d"
           }
          ],
          "histogram2dcontour": [
           {
            "colorbar": {
             "outlinewidth": 0,
             "ticks": ""
            },
            "colorscale": [
             [
              0,
              "#0d0887"
             ],
             [
              0.1111111111111111,
              "#46039f"
             ],
             [
              0.2222222222222222,
              "#7201a8"
             ],
             [
              0.3333333333333333,
              "#9c179e"
             ],
             [
              0.4444444444444444,
              "#bd3786"
             ],
             [
              0.5555555555555556,
              "#d8576b"
             ],
             [
              0.6666666666666666,
              "#ed7953"
             ],
             [
              0.7777777777777778,
              "#fb9f3a"
             ],
             [
              0.8888888888888888,
              "#fdca26"
             ],
             [
              1,
              "#f0f921"
             ]
            ],
            "type": "histogram2dcontour"
           }
          ],
          "mesh3d": [
           {
            "colorbar": {
             "outlinewidth": 0,
             "ticks": ""
            },
            "type": "mesh3d"
           }
          ],
          "parcoords": [
           {
            "line": {
             "colorbar": {
              "outlinewidth": 0,
              "ticks": ""
             }
            },
            "type": "parcoords"
           }
          ],
          "pie": [
           {
            "automargin": true,
            "type": "pie"
           }
          ],
          "scatter": [
           {
            "marker": {
             "colorbar": {
              "outlinewidth": 0,
              "ticks": ""
             }
            },
            "type": "scatter"
           }
          ],
          "scatter3d": [
           {
            "line": {
             "colorbar": {
              "outlinewidth": 0,
              "ticks": ""
             }
            },
            "marker": {
             "colorbar": {
              "outlinewidth": 0,
              "ticks": ""
             }
            },
            "type": "scatter3d"
           }
          ],
          "scattercarpet": [
           {
            "marker": {
             "colorbar": {
              "outlinewidth": 0,
              "ticks": ""
             }
            },
            "type": "scattercarpet"
           }
          ],
          "scattergeo": [
           {
            "marker": {
             "colorbar": {
              "outlinewidth": 0,
              "ticks": ""
             }
            },
            "type": "scattergeo"
           }
          ],
          "scattergl": [
           {
            "marker": {
             "colorbar": {
              "outlinewidth": 0,
              "ticks": ""
             }
            },
            "type": "scattergl"
           }
          ],
          "scattermapbox": [
           {
            "marker": {
             "colorbar": {
              "outlinewidth": 0,
              "ticks": ""
             }
            },
            "type": "scattermapbox"
           }
          ],
          "scatterpolar": [
           {
            "marker": {
             "colorbar": {
              "outlinewidth": 0,
              "ticks": ""
             }
            },
            "type": "scatterpolar"
           }
          ],
          "scatterpolargl": [
           {
            "marker": {
             "colorbar": {
              "outlinewidth": 0,
              "ticks": ""
             }
            },
            "type": "scatterpolargl"
           }
          ],
          "scatterternary": [
           {
            "marker": {
             "colorbar": {
              "outlinewidth": 0,
              "ticks": ""
             }
            },
            "type": "scatterternary"
           }
          ],
          "surface": [
           {
            "colorbar": {
             "outlinewidth": 0,
             "ticks": ""
            },
            "colorscale": [
             [
              0,
              "#0d0887"
             ],
             [
              0.1111111111111111,
              "#46039f"
             ],
             [
              0.2222222222222222,
              "#7201a8"
             ],
             [
              0.3333333333333333,
              "#9c179e"
             ],
             [
              0.4444444444444444,
              "#bd3786"
             ],
             [
              0.5555555555555556,
              "#d8576b"
             ],
             [
              0.6666666666666666,
              "#ed7953"
             ],
             [
              0.7777777777777778,
              "#fb9f3a"
             ],
             [
              0.8888888888888888,
              "#fdca26"
             ],
             [
              1,
              "#f0f921"
             ]
            ],
            "type": "surface"
           }
          ],
          "table": [
           {
            "cells": {
             "fill": {
              "color": "#EBF0F8"
             },
             "line": {
              "color": "white"
             }
            },
            "header": {
             "fill": {
              "color": "#C8D4E3"
             },
             "line": {
              "color": "white"
             }
            },
            "type": "table"
           }
          ]
         },
         "layout": {
          "annotationdefaults": {
           "arrowcolor": "#2a3f5f",
           "arrowhead": 0,
           "arrowwidth": 1
          },
          "coloraxis": {
           "colorbar": {
            "outlinewidth": 0,
            "ticks": ""
           }
          },
          "colorscale": {
           "diverging": [
            [
             0,
             "#8e0152"
            ],
            [
             0.1,
             "#c51b7d"
            ],
            [
             0.2,
             "#de77ae"
            ],
            [
             0.3,
             "#f1b6da"
            ],
            [
             0.4,
             "#fde0ef"
            ],
            [
             0.5,
             "#f7f7f7"
            ],
            [
             0.6,
             "#e6f5d0"
            ],
            [
             0.7,
             "#b8e186"
            ],
            [
             0.8,
             "#7fbc41"
            ],
            [
             0.9,
             "#4d9221"
            ],
            [
             1,
             "#276419"
            ]
           ],
           "sequential": [
            [
             0,
             "#0d0887"
            ],
            [
             0.1111111111111111,
             "#46039f"
            ],
            [
             0.2222222222222222,
             "#7201a8"
            ],
            [
             0.3333333333333333,
             "#9c179e"
            ],
            [
             0.4444444444444444,
             "#bd3786"
            ],
            [
             0.5555555555555556,
             "#d8576b"
            ],
            [
             0.6666666666666666,
             "#ed7953"
            ],
            [
             0.7777777777777778,
             "#fb9f3a"
            ],
            [
             0.8888888888888888,
             "#fdca26"
            ],
            [
             1,
             "#f0f921"
            ]
           ],
           "sequentialminus": [
            [
             0,
             "#0d0887"
            ],
            [
             0.1111111111111111,
             "#46039f"
            ],
            [
             0.2222222222222222,
             "#7201a8"
            ],
            [
             0.3333333333333333,
             "#9c179e"
            ],
            [
             0.4444444444444444,
             "#bd3786"
            ],
            [
             0.5555555555555556,
             "#d8576b"
            ],
            [
             0.6666666666666666,
             "#ed7953"
            ],
            [
             0.7777777777777778,
             "#fb9f3a"
            ],
            [
             0.8888888888888888,
             "#fdca26"
            ],
            [
             1,
             "#f0f921"
            ]
           ]
          },
          "colorway": [
           "#636efa",
           "#EF553B",
           "#00cc96",
           "#ab63fa",
           "#FFA15A",
           "#19d3f3",
           "#FF6692",
           "#B6E880",
           "#FF97FF",
           "#FECB52"
          ],
          "font": {
           "color": "#2a3f5f"
          },
          "geo": {
           "bgcolor": "white",
           "lakecolor": "white",
           "landcolor": "#E5ECF6",
           "showlakes": true,
           "showland": true,
           "subunitcolor": "white"
          },
          "hoverlabel": {
           "align": "left"
          },
          "hovermode": "closest",
          "mapbox": {
           "style": "light"
          },
          "paper_bgcolor": "white",
          "plot_bgcolor": "#E5ECF6",
          "polar": {
           "angularaxis": {
            "gridcolor": "white",
            "linecolor": "white",
            "ticks": ""
           },
           "bgcolor": "#E5ECF6",
           "radialaxis": {
            "gridcolor": "white",
            "linecolor": "white",
            "ticks": ""
           }
          },
          "scene": {
           "xaxis": {
            "backgroundcolor": "#E5ECF6",
            "gridcolor": "white",
            "gridwidth": 2,
            "linecolor": "white",
            "showbackground": true,
            "ticks": "",
            "zerolinecolor": "white"
           },
           "yaxis": {
            "backgroundcolor": "#E5ECF6",
            "gridcolor": "white",
            "gridwidth": 2,
            "linecolor": "white",
            "showbackground": true,
            "ticks": "",
            "zerolinecolor": "white"
           },
           "zaxis": {
            "backgroundcolor": "#E5ECF6",
            "gridcolor": "white",
            "gridwidth": 2,
            "linecolor": "white",
            "showbackground": true,
            "ticks": "",
            "zerolinecolor": "white"
           }
          },
          "shapedefaults": {
           "line": {
            "color": "#2a3f5f"
           }
          },
          "ternary": {
           "aaxis": {
            "gridcolor": "white",
            "linecolor": "white",
            "ticks": ""
           },
           "baxis": {
            "gridcolor": "white",
            "linecolor": "white",
            "ticks": ""
           },
           "bgcolor": "#E5ECF6",
           "caxis": {
            "gridcolor": "white",
            "linecolor": "white",
            "ticks": ""
           }
          },
          "title": {
           "x": 0.05
          },
          "xaxis": {
           "automargin": true,
           "gridcolor": "white",
           "linecolor": "white",
           "ticks": "",
           "title": {
            "standoff": 15
           },
           "zerolinecolor": "white",
           "zerolinewidth": 2
          },
          "yaxis": {
           "automargin": true,
           "gridcolor": "white",
           "linecolor": "white",
           "ticks": "",
           "title": {
            "standoff": 15
           },
           "zerolinecolor": "white",
           "zerolinewidth": 2
          }
         }
        },
        "xaxis": {
         "anchor": "y",
         "domain": [
          0,
          1
         ],
         "title": {
          "text": "year"
         }
        },
        "yaxis": {
         "anchor": "x",
         "domain": [
          0,
          1
         ],
         "title": {
          "text": "rating"
         }
        }
       }
      }
     },
     "metadata": {}
    }
   ],
   "source": [
    "px.scatter(topmovies,x='year',y='rating',hover_name='names',color='rating')"
   ]
  },
  {
   "cell_type": "code",
   "execution_count": null,
   "metadata": {},
   "outputs": [],
   "source": []
  }
 ]
}