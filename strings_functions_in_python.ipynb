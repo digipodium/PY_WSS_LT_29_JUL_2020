{
 "metadata": {
  "language_info": {
   "codemirror_mode": {
    "name": "ipython",
    "version": 3
   },
   "file_extension": ".py",
   "mimetype": "text/x-python",
   "name": "python",
   "nbconvert_exporter": "python",
   "pygments_lexer": "ipython3",
   "version": "3.8.3-final"
  },
  "orig_nbformat": 2,
  "kernelspec": {
   "name": "python_defaultSpec_1598455051783",
   "display_name": "Python 3.8.3 64-bit"
  }
 },
 "nbformat": 4,
 "nbformat_minor": 2,
 "cells": [
  {
   "cell_type": "markdown",
   "metadata": {},
   "source": [
    "# string functions"
   ]
  },
  {
   "cell_type": "markdown",
   "metadata": {},
   "source": [
    "formatting functions\n",
    "- upper\n",
    "- lower\n",
    "- title\n",
    "- swapcase\n",
    "- capotalize\n",
    "- ljust\n",
    "- rjust\n",
    "- center"
   ]
  },
  {
   "cell_type": "code",
   "execution_count": 1,
   "metadata": {},
   "outputs": [],
   "source": [
    "msg = \"Journey before destination\""
   ]
  },
  {
   "cell_type": "code",
   "execution_count": 3,
   "metadata": {},
   "outputs": [],
   "source": [
    "msg_u = msg.upper()"
   ]
  },
  {
   "cell_type": "code",
   "execution_count": 4,
   "metadata": {},
   "outputs": [],
   "source": [
    "msg_l = msg.lower()"
   ]
  },
  {
   "cell_type": "code",
   "execution_count": 6,
   "metadata": {},
   "outputs": [],
   "source": [
    "msg_t = msg_u.title()"
   ]
  },
  {
   "cell_type": "code",
   "execution_count": 9,
   "metadata": {},
   "outputs": [],
   "source": [
    "msg_tg = msg_t.swapcase()"
   ]
  },
  {
   "cell_type": "code",
   "execution_count": 12,
   "metadata": {},
   "outputs": [],
   "source": [
    "msg_c = msg_u.capitalize()"
   ]
  },
  {
   "cell_type": "code",
   "execution_count": 13,
   "metadata": {},
   "outputs": [],
   "source": [
    "hero = 'ori'"
   ]
  },
  {
   "cell_type": "code",
   "execution_count": 15,
   "metadata": {},
   "outputs": [
    {
     "output_type": "execute_result",
     "data": {
      "text/plain": "'                                                                                                      ori'"
     },
     "metadata": {},
     "execution_count": 15
    }
   ],
   "source": [
    "hero.rjust(105)"
   ]
  },
  {
   "cell_type": "code",
   "execution_count": 20,
   "metadata": {
    "tags": []
   },
   "outputs": [],
   "source": [
    "x = 'once'\n",
    "y = 'upon'\n",
    "z = 'a time'"
   ]
  },
  {
   "cell_type": "code",
   "execution_count": 24,
   "metadata": {
    "tags": []
   },
   "outputs": [
    {
     "output_type": "stream",
     "name": "stdout",
     "text": "\n   once\nupon   \n a time\n"
    }
   ],
   "source": [
    "print()\n",
    "print(x.rjust(7))\n",
    "print(y.ljust(7))\n",
    "print(z.rjust(7)) "
   ]
  },
  {
   "cell_type": "code",
   "execution_count": 35,
   "metadata": {
    "tags": []
   },
   "outputs": [
    {
     "output_type": "stream",
     "name": "stdout",
     "text": "\n         *\n        **\n       ***\n      ****\n     *****\n    ******\n   *******\n  ********\n *********\n"
    }
   ],
   "source": [
    "print() # vscode bug - remove in actaul code\n",
    "for i in range(1,10):\n",
    "    print(('*' * i).rjust(10))"
   ]
  },
  {
   "cell_type": "code",
   "execution_count": 38,
   "metadata": {},
   "outputs": [
    {
     "output_type": "execute_result",
     "data": {
      "text/plain": "'                       ori                        '"
     },
     "metadata": {},
     "execution_count": 38
    }
   ],
   "source": [
    "hero.center(50)"
   ]
  },
  {
   "cell_type": "code",
   "execution_count": 39,
   "metadata": {
    "tags": []
   },
   "outputs": [
    {
     "output_type": "stream",
     "name": "stdout",
     "text": "\n    *     \n    **    \n   ***    \n   ****   \n  *****   \n  ******  \n *******  \n ******** \n********* \n"
    }
   ],
   "source": [
    "print() # vscode bug - remove in actaul code\n",
    "for i in range(1,10):\n",
    "    print(('*' * i).center(10))"
   ]
  },
  {
   "cell_type": "markdown",
   "metadata": {},
   "source": [
    "# validation functions\n",
    "- isnumeric\n",
    "- isalpha\n",
    "- isalphanum\n",
    "- isspace\n",
    "- isupper\n",
    "- islower\n",
    "\n",
    "return True or False, thus used with if/else\n"
   ]
  },
  {
   "cell_type": "code",
   "execution_count": 42,
   "metadata": {},
   "outputs": [
    {
     "output_type": "execute_result",
     "data": {
      "text/plain": "False"
     },
     "metadata": {},
     "execution_count": 42
    }
   ],
   "source": [
    "hero.isupper()"
   ]
  },
  {
   "cell_type": "code",
   "execution_count": 43,
   "metadata": {},
   "outputs": [
    {
     "output_type": "execute_result",
     "data": {
      "text/plain": "True"
     },
     "metadata": {},
     "execution_count": 43
    }
   ],
   "source": [
    "hero.islower()"
   ]
  },
  {
   "cell_type": "code",
   "execution_count": 45,
   "metadata": {},
   "outputs": [
    {
     "output_type": "execute_result",
     "data": {
      "text/plain": "False"
     },
     "metadata": {},
     "execution_count": 45
    }
   ],
   "source": [
    "msg.islower()"
   ]
  },
  {
   "cell_type": "code",
   "execution_count": 46,
   "metadata": {},
   "outputs": [
    {
     "output_type": "execute_result",
     "data": {
      "text/plain": "True"
     },
     "metadata": {},
     "execution_count": 46
    }
   ],
   "source": [
    "msg_l.islower()"
   ]
  },
  {
   "cell_type": "code",
   "execution_count": 51,
   "metadata": {
    "tags": []
   },
   "outputs": [
    {
     "output_type": "error",
     "ename": "ValueError",
     "evalue": "invalid literal for int() with base 10: '123s'",
     "traceback": [
      "\u001b[1;31m---------------------------------------------------------------------------\u001b[0m",
      "\u001b[1;31mValueError\u001b[0m                                Traceback (most recent call last)",
      "\u001b[1;32m<ipython-input-51-5601dee20ab3>\u001b[0m in \u001b[0;36m<module>\u001b[1;34m\u001b[0m\n\u001b[1;32m----> 1\u001b[1;33m \u001b[0mx\u001b[0m \u001b[1;33m=\u001b[0m\u001b[0mint\u001b[0m\u001b[1;33m(\u001b[0m\u001b[0minput\u001b[0m\u001b[1;33m(\u001b[0m\u001b[1;34m'enter a number'\u001b[0m\u001b[1;33m)\u001b[0m\u001b[1;33m)\u001b[0m\u001b[1;33m\u001b[0m\u001b[1;33m\u001b[0m\u001b[0m\n\u001b[0m\u001b[0;32m      2\u001b[0m \u001b[0mr\u001b[0m \u001b[1;33m=\u001b[0m \u001b[0mx\u001b[0m \u001b[1;33m*\u001b[0m \u001b[0mx\u001b[0m \u001b[1;33m-\u001b[0m \u001b[1;36m50\u001b[0m\u001b[1;33m\u001b[0m\u001b[1;33m\u001b[0m\u001b[0m\n\u001b[0;32m      3\u001b[0m \u001b[0mprint\u001b[0m\u001b[1;33m(\u001b[0m\u001b[0mr\u001b[0m\u001b[1;33m)\u001b[0m\u001b[1;33m\u001b[0m\u001b[1;33m\u001b[0m\u001b[0m\n\u001b[0;32m      4\u001b[0m \u001b[1;31m# solving this code\u001b[0m\u001b[1;33m\u001b[0m\u001b[1;33m\u001b[0m\u001b[1;33m\u001b[0m\u001b[0m\n",
      "\u001b[1;31mValueError\u001b[0m: invalid literal for int() with base 10: '123s'"
     ]
    }
   ],
   "source": [
    "x =int(input('enter a number'))\n",
    "r = x * x - 50\n",
    "print(r)\n",
    "# solving this code"
   ]
  },
  {
   "cell_type": "code",
   "execution_count": 54,
   "metadata": {
    "tags": []
   },
   "outputs": [
    {
     "output_type": "stream",
     "name": "stdout",
     "text": "wrong input\n"
    }
   ],
   "source": [
    "x = input(\"enter a number\")\n",
    "if x.isnumeric():\n",
    "    x = int(x)\n",
    "    r = x * x - 50\n",
    "    print(r)\n",
    "else:\n",
    "    print(\"wrong input\")"
   ]
  },
  {
   "cell_type": "code",
   "execution_count": 58,
   "metadata": {
    "tags": []
   },
   "outputs": [
    {
     "output_type": "stream",
     "name": "stdout",
     "text": "invalid name\n"
    }
   ],
   "source": [
    "fname = input('enter your first name')\n",
    "if fname.isalpha():\n",
    "    print('welcome',fname)\n",
    "else:\n",
    "    print('invalid name')"
   ]
  },
  {
   "cell_type": "markdown",
   "metadata": {},
   "source": [
    "# important functions\n",
    "- count\n",
    "- find & index\n",
    "- replace\n",
    "- split\n",
    "- strip\n",
    "- join"
   ]
  },
  {
   "cell_type": "code",
   "execution_count": 15,
   "metadata": {},
   "outputs": [],
   "source": [
    "x = \"i was going to work, when i saw a puppy. I stopped and i played with it. After that i went back to work\""
   ]
  },
  {
   "cell_type": "code",
   "execution_count": 5,
   "metadata": {},
   "outputs": [
    {
     "output_type": "execute_result",
     "data": {
      "text/plain": "3"
     },
     "metadata": {},
     "execution_count": 5
    }
   ],
   "source": [
    "x.count('i')"
   ]
  },
  {
   "cell_type": "code",
   "execution_count": 7,
   "metadata": {},
   "outputs": [
    {
     "output_type": "execute_result",
     "data": {
      "text/plain": "4"
     },
     "metadata": {},
     "execution_count": 7
    }
   ],
   "source": [
    "x.lower().count('i')"
   ]
  },
  {
   "cell_type": "code",
   "execution_count": 9,
   "metadata": {},
   "outputs": [
    {
     "output_type": "execute_result",
     "data": {
      "text/plain": "2"
     },
     "metadata": {},
     "execution_count": 9
    }
   ],
   "source": [
    "x.count('work')"
   ]
  },
  {
   "cell_type": "code",
   "execution_count": 10,
   "metadata": {},
   "outputs": [],
   "source": [
    "num ='123123123123123123123312312312312312312312312312313'"
   ]
  },
  {
   "cell_type": "code",
   "execution_count": 14,
   "metadata": {},
   "outputs": [
    {
     "output_type": "execute_result",
     "data": {
      "text/plain": "16"
     },
     "metadata": {},
     "execution_count": 14
    }
   ],
   "source": [
    "num.count('12')"
   ]
  },
  {
   "cell_type": "code",
   "execution_count": 18,
   "metadata": {
    "tags": []
   },
   "outputs": [
    {
     "output_type": "stream",
     "name": "stdout",
     "text": "i was going to work, when i saw a puppy. I stopped and i played with it. After that i went back to work\nwe was goweng to work, when we saw a puppy. I stopped and we played wweth wet. After that we went back to work\n"
    }
   ],
   "source": [
    "x_updated  = x.replace(\"i\",\"we\")\n",
    "print(x)\n",
    "print(x_updated)"
   ]
  },
  {
   "cell_type": "code",
   "execution_count": 19,
   "metadata": {
    "tags": []
   },
   "outputs": [
    {
     "output_type": "stream",
     "name": "stdout",
     "text": "i was going to work, when i saw a puppy. I stopped and i played with it. After that i went back to work\ni was going to work, when i saw a monster. I stopped and i played with it. After that i went back to work\n"
    }
   ],
   "source": [
    "x_files = x.replace('puppy','monster')\n",
    "print(x)\n",
    "print(x_files)"
   ]
  },
  {
   "cell_type": "code",
   "execution_count": 20,
   "metadata": {
    "tags": []
   },
   "outputs": [
    {
     "output_type": "stream",
     "name": "stdout",
     "text": "i was going to work, when i saw a puppy. I stopped and i played with it. After that i went back to work\ni was going to work, when i saw a monster. I screamed and i played with it. After that i went back to work\n"
    }
   ],
   "source": [
    "x_files = x.replace('puppy','monster').replace('stopped','screamed')\n",
    "print(x)\n",
    "print(x_files)"
   ]
  },
  {
   "cell_type": "code",
   "execution_count": 23,
   "metadata": {
    "tags": []
   },
   "outputs": [
    {
     "output_type": "stream",
     "name": "stdout",
     "text": "ws gng t wrk, whn  sw  pppy. I stppd nd  plyd wth t. Aftr tht  wnt bck t wrk\n"
    }
   ],
   "source": [
    "vowels = \"aieou\"\n",
    "for char in vowels:\n",
    "    x = x.replace(char,'')\n",
    "print(x)"
   ]
  },
  {
   "cell_type": "code",
   "execution_count": 24,
   "metadata": {
    "tags": []
   },
   "outputs": [
    {
     "output_type": "stream",
     "name": "stdout",
     "text": "i was going to work, when i saw a ______. I ______ and i ______ with it. After that i went back to work\n"
    }
   ],
   "source": [
    "x = \"i was going to work, when i saw a puppy. I stopped and i played with it. After that i went back to work\"\n",
    "words_to_replace =['puppy','stopped','played']\n",
    "for word in words_to_replace:\n",
    "    x = x.replace(word,'______')\n",
    "print(x)"
   ]
  },
  {
   "cell_type": "code",
   "execution_count": 36,
   "metadata": {
    "tags": []
   },
   "outputs": [
    {
     "output_type": "stream",
     "name": "stdout",
     "text": "A 1\nf 1\nd 1\ns 2\n. 2\n, 1\nk 3\no 5\na 6\nI 1\nn 4\nw 7\ne 3\nt 8\n  23\n_ 18\nh 3\nc 1\nb 1\nr 3\ni 7\ng 2\n"
    }
   ],
   "source": [
    "chars = set(x)\n",
    "for c in chars:\n",
    "    print(c, x.count(c))"
   ]
  },
  {
   "cell_type": "code",
   "execution_count": 37,
   "metadata": {},
   "outputs": [],
   "source": [
    "# WAP count the number of words in a sentence "
   ]
  },
  {
   "cell_type": "code",
   "execution_count": null,
   "metadata": {},
   "outputs": [],
   "source": []
  }
 ]
}