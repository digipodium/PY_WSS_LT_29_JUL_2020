{
 "metadata": {
  "language_info": {
   "codemirror_mode": {
    "name": "ipython",
    "version": 3
   },
   "file_extension": ".py",
   "mimetype": "text/x-python",
   "name": "python",
   "nbconvert_exporter": "python",
   "pygments_lexer": "ipython3",
   "version": "3.8.3-final"
  },
  "orig_nbformat": 2,
  "kernelspec": {
   "name": "python_defaultSpec_1599664802750",
   "display_name": "Python 3.8.3 64-bit"
  }
 },
 "nbformat": 4,
 "nbformat_minor": 2,
 "cells": [
  {
   "cell_type": "markdown",
   "metadata": {},
   "source": [
    "# dictionary properties\n",
    "- are heterogenous\n",
    "- are ordered and unindexed\n",
    "- are mutable and dynamic\n",
    "- represented by `{ }`\n",
    "- can be nested\n",
    "- all values in a dictionary are are stored in `key`:`value` pairs\n",
    "- keys are unique and immutable -> thats why we use strings as keys\n",
    "- dict( ) function is used store data in variable value manner"
   ]
  },
  {
   "cell_type": "code",
   "execution_count": 3,
   "metadata": {},
   "outputs": [],
   "source": [
    "facts = {'cat':'a pet animal that is very fun to have','dog':'a pet animal that is super loyal','facts':2}"
   ]
  },
  {
   "cell_type": "code",
   "execution_count": 4,
   "metadata": {},
   "outputs": [
    {
     "output_type": "execute_result",
     "data": {
      "text/plain": "{'cat': 'a pet animal that is very fun to have',\n 'dog': 'a pet animal that is super loyal',\n 'facts': 2}"
     },
     "metadata": {},
     "execution_count": 4
    }
   ],
   "source": [
    "facts"
   ]
  },
  {
   "cell_type": "code",
   "execution_count": 5,
   "metadata": {},
   "outputs": [
    {
     "output_type": "execute_result",
     "data": {
      "text/plain": "'a pet animal that is very fun to have'"
     },
     "metadata": {},
     "execution_count": 5
    }
   ],
   "source": [
    "facts['cat']"
   ]
  },
  {
   "cell_type": "code",
   "execution_count": 6,
   "metadata": {},
   "outputs": [
    {
     "output_type": "execute_result",
     "data": {
      "text/plain": "'a pet animal that is super loyal'"
     },
     "metadata": {},
     "execution_count": 6
    }
   ],
   "source": [
    "facts['dog']"
   ]
  },
  {
   "cell_type": "code",
   "execution_count": 7,
   "metadata": {},
   "outputs": [
    {
     "output_type": "error",
     "ename": "KeyError",
     "evalue": "'parrot'",
     "traceback": [
      "\u001b[1;31m---------------------------------------------------------------------------\u001b[0m",
      "\u001b[1;31mKeyError\u001b[0m                                  Traceback (most recent call last)",
      "\u001b[1;32m<ipython-input-7-1159802756ad>\u001b[0m in \u001b[0;36m<module>\u001b[1;34m\u001b[0m\n\u001b[1;32m----> 1\u001b[1;33m \u001b[0mfacts\u001b[0m\u001b[1;33m[\u001b[0m\u001b[1;34m'parrot'\u001b[0m\u001b[1;33m]\u001b[0m\u001b[1;33m\u001b[0m\u001b[1;33m\u001b[0m\u001b[0m\n\u001b[0m",
      "\u001b[1;31mKeyError\u001b[0m: 'parrot'"
     ]
    }
   ],
   "source": [
    "facts['parrot']"
   ]
  },
  {
   "cell_type": "code",
   "execution_count": 9,
   "metadata": {},
   "outputs": [],
   "source": [
    "facts['parrot'] = 'A pet bird that is super fun to have'"
   ]
  },
  {
   "cell_type": "code",
   "execution_count": 10,
   "metadata": {},
   "outputs": [
    {
     "output_type": "execute_result",
     "data": {
      "text/plain": "'A pet bird that is super fun to have'"
     },
     "metadata": {},
     "execution_count": 10
    }
   ],
   "source": [
    "facts['parrot']"
   ]
  },
  {
   "cell_type": "code",
   "execution_count": 11,
   "metadata": {},
   "outputs": [
    {
     "output_type": "execute_result",
     "data": {
      "text/plain": "{'cat': 'a pet animal that is very fun to have',\n 'dog': 'a pet animal that is super loyal',\n 'facts': 2,\n 'parrot': 'A pet bird that is super fun to have'}"
     },
     "metadata": {},
     "execution_count": 11
    }
   ],
   "source": [
    "facts"
   ]
  },
  {
   "cell_type": "code",
   "execution_count": 12,
   "metadata": {},
   "outputs": [],
   "source": [
    "facts['platypus'] = ['A mammal that gives eggs','Also can become a pet']"
   ]
  },
  {
   "cell_type": "code",
   "execution_count": 13,
   "metadata": {},
   "outputs": [
    {
     "output_type": "execute_result",
     "data": {
      "text/plain": "{'cat': 'a pet animal that is very fun to have',\n 'dog': 'a pet animal that is super loyal',\n 'facts': 2,\n 'parrot': 'A pet bird that is super fun to have',\n 'platypus': ['A mammal that gives eggs', 'Also can become a pet']}"
     },
     "metadata": {},
     "execution_count": 13
    }
   ],
   "source": [
    "facts"
   ]
  },
  {
   "cell_type": "code",
   "execution_count": null,
   "metadata": {},
   "outputs": [],
   "source": []
  }
 ]
}