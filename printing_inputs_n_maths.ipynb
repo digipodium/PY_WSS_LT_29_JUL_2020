{
 "metadata": {
  "language_info": {
   "codemirror_mode": {
    "name": "ipython",
    "version": 3
   },
   "file_extension": ".py",
   "mimetype": "text/x-python",
   "name": "python",
   "nbconvert_exporter": "python",
   "pygments_lexer": "ipython3",
   "version": 3
  },
  "orig_nbformat": 2,
  "kernelspec": {
   "name": "python_defaultSpec_1596636349510",
   "display_name": "Python 3.8.3 64-bit"
  }
 },
 "nbformat": 4,
 "nbformat_minor": 2,
 "cells": [
  {
   "cell_type": "code",
   "execution_count": null,
   "metadata": {},
   "outputs": [],
   "source": [
    "a = \"apple\""
   ]
  },
  {
   "cell_type": "code",
   "execution_count": null,
   "metadata": {},
   "outputs": [],
   "source": [
    "a #raw output"
   ]
  },
  {
   "cell_type": "code",
   "execution_count": null,
   "metadata": {
    "tags": []
   },
   "outputs": [],
   "source": [
    "print(a) # formatted output"
   ]
  },
  {
   "cell_type": "code",
   "execution_count": null,
   "metadata": {
    "tags": []
   },
   "outputs": [],
   "source": [
    "print(\"i like apple\") # fixed msg"
   ]
  },
  {
   "cell_type": "code",
   "execution_count": null,
   "metadata": {
    "tags": []
   },
   "outputs": [],
   "source": [
    "fruit = \"custard apple\"\n",
    "print('i like',fruit)"
   ]
  },
  {
   "cell_type": "code",
   "execution_count": null,
   "metadata": {
    "tags": []
   },
   "outputs": [],
   "source": [
    "knight = \"windrunner\"\n",
    "place ='urithiru'\n",
    "print('the hero called',knight,'flew up for the top of',place)"
   ]
  },
  {
   "cell_type": "code",
   "execution_count": null,
   "metadata": {
    "tags": []
   },
   "outputs": [],
   "source": [
    "# todo declare a distance variable \n",
    "print('the hero called',knight,'flew up for the top of',place,'the place was',distance,'ft. long')"
   ]
  },
  {
   "cell_type": "code",
   "execution_count": 18,
   "metadata": {},
   "outputs": [],
   "source": [
    "a = 10\n",
    "b = 20\n",
    "c = a + b"
   ]
  },
  {
   "cell_type": "code",
   "execution_count": 19,
   "metadata": {
    "tags": []
   },
   "outputs": [
    {
     "output_type": "stream",
     "name": "stdout",
     "text": "10 + 20 = 30\n"
    }
   ],
   "source": [
    "# 1. comma seperated printing\n",
    "print(a,'+',b,'=',c)"
   ]
  },
  {
   "cell_type": "code",
   "execution_count": 26,
   "metadata": {},
   "outputs": [
    {
     "output_type": "execute_result",
     "data": {
      "text/plain": "'windrunnerurithiru10'"
     },
     "metadata": {},
     "execution_count": 26
    }
   ],
   "source": [
    "knight + place + str(a)"
   ]
  },
  {
   "cell_type": "code",
   "execution_count": 22,
   "metadata": {
    "tags": []
   },
   "outputs": [
    {
     "output_type": "stream",
     "name": "stdout",
     "text": "10+20=30\n"
    }
   ],
   "source": [
    "# 2. concatenation based printing \n",
    "print(str(a) + \"+\" + str(b) + \"=\" + str(c)) \n",
    "# we dont use this ever"
   ]
  },
  {
   "cell_type": "code",
   "execution_count": 27,
   "metadata": {
    "tags": []
   },
   "outputs": [
    {
     "output_type": "stream",
     "name": "stdout",
     "text": "10 + 20 = 30\n"
    }
   ],
   "source": [
    "# 3. using format specifier string\n",
    "# %s - string\n",
    "# %d - digit\n",
    "# %f - float\n",
    "print('%d + %d = %d' %(a,b,c))\n",
    "# we dont use it"
   ]
  },
  {
   "cell_type": "code",
   "execution_count": 28,
   "metadata": {
    "tags": []
   },
   "outputs": [
    {
     "output_type": "stream",
     "name": "stdout",
     "text": "10 + 20 = 30\n"
    }
   ],
   "source": [
    "# 4. using format method\n",
    "print(\"{} + {} = {}\".format(a,b,c))\n",
    "# old way of doing formatted output till version 3.5"
   ]
  },
  {
   "cell_type": "code",
   "execution_count": 29,
   "metadata": {
    "tags": []
   },
   "outputs": [
    {
     "output_type": "stream",
     "name": "stdout",
     "text": "10 + 20 = 30\n"
    }
   ],
   "source": [
    "# 5. with f-strings - the best way\n",
    "print(f'{a} + {b} = {c}')"
   ]
  },
  {
   "cell_type": "code",
   "execution_count": 33,
   "metadata": {
    "tags": []
   },
   "outputs": [
    {
     "output_type": "stream",
     "name": "stdout",
     "text": "windrunner went to the tower of urithiru\n"
    }
   ],
   "source": [
    "print(f'{knight} went to the tower of {place}')"
   ]
  },
  {
   "cell_type": "markdown",
   "metadata": {},
   "source": [
    "- input() in python is for getting user data\n",
    "- everything that is entered by user is a string type\n",
    "- you need to store the result of input in a variable"
   ]
  },
  {
   "cell_type": "code",
   "execution_count": 38,
   "metadata": {},
   "outputs": [],
   "source": [
    "city = input()"
   ]
  },
  {
   "cell_type": "code",
   "execution_count": 39,
   "metadata": {
    "tags": []
   },
   "outputs": [
    {
     "output_type": "stream",
     "name": "stdout",
     "text": "you live in abra cadabra\n"
    }
   ],
   "source": [
    "print(f'you live in {city}')"
   ]
  },
  {
   "cell_type": "code",
   "execution_count": 41,
   "metadata": {},
   "outputs": [],
   "source": [
    "address = input(\"please tell your address >>\")"
   ]
  },
  {
   "cell_type": "code",
   "execution_count": 42,
   "metadata": {
    "tags": []
   },
   "outputs": [
    {
     "output_type": "stream",
     "name": "stdout",
     "text": "Address : vikas nagar, lucknow\n"
    }
   ],
   "source": [
    "print(f'Address : {address}')"
   ]
  },
  {
   "cell_type": "code",
   "execution_count": 60,
   "metadata": {
    "tags": []
   },
   "outputs": [],
   "source": [
    "salary = input('what is your basic salary? ')"
   ]
  },
  {
   "cell_type": "code",
   "execution_count": 61,
   "metadata": {
    "tags": []
   },
   "outputs": [
    {
     "output_type": "stream",
     "name": "stdout",
     "text": "2398.9\n"
    }
   ],
   "source": [
    "salary = int(salary)\n",
    "hra = salary * .1 # 10% HRA\n",
    "print(hra)"
   ]
  },
  {
   "cell_type": "code",
   "execution_count": 62,
   "metadata": {},
   "outputs": [],
   "source": [
    "ta = salary * .05"
   ]
  },
  {
   "cell_type": "code",
   "execution_count": 63,
   "metadata": {},
   "outputs": [],
   "source": [
    "da =  salary * .07"
   ]
  },
  {
   "cell_type": "code",
   "execution_count": 64,
   "metadata": {
    "tags": []
   },
   "outputs": [
    {
     "output_type": "stream",
     "name": "stdout",
     "text": "29266.58\n"
    }
   ],
   "source": [
    "total_salary = da + ta + hra + salary\n",
    "print(total_salary)"
   ]
  },
  {
   "cell_type": "code",
   "execution_count": 65,
   "metadata": {
    "tags": []
   },
   "outputs": [
    {
     "output_type": "stream",
     "name": "stdout",
     "text": "BASIC PAY : 23989\nT.A : 1199.45\nD.A : 1679.23\nH.R.A : 2398.9\ntotal => 29266.58\n"
    }
   ],
   "source": [
    "print(f'BASIC PAY : {salary}')\n",
    "print(f'T.A : {ta}')\n",
    "print(f'D.A : {da:.2f}')\n",
    "print(f'H.R.A : {hra}')\n",
    "print(f'total => {total_salary}')"
   ]
  },
  {
   "cell_type": "markdown",
   "metadata": {},
   "source": [
    "# operators"
   ]
  },
  {
   "cell_type": "markdown",
   "metadata": {},
   "source": [
    "# math\n",
    "```python\n",
    "+   addition \n",
    "-   substraction \n",
    "/   division \n",
    "*   multiplication\n",
    "**  exponent \n",
    "%   modulus \n",
    "//  integer division\n",
    "```"
   ]
  },
  {
   "cell_type": "code",
   "execution_count": 68,
   "metadata": {},
   "outputs": [
    {
     "output_type": "execute_result",
     "data": {
      "text/plain": "114.0"
     },
     "metadata": {},
     "execution_count": 68
    }
   ],
   "source": [
    "10 + 2 * 3 - 4 / 2 + 10 ** 2"
   ]
  },
  {
   "cell_type": "markdown",
   "metadata": {},
   "source": [
    " ```python\n",
    " 10 + 2 * 3 - 4 / 2 + 100\n",
    " 10 + 6 - 4 / 2 + 100\n",
    " 10 + 6 - 2.0 + 100\n",
    " 16 - 2.0 + 100\n",
    " 14.0 + 100\n",
    " 114.0\n",
    "```       \n",
    "\n",
    "precedence\n",
    "```\n",
    "|1.     |   ()        bracket       |\n",
    "|2.     |   **        exponent      |\n",
    "|3.     |   * / % //  mul and div   |\n",
    "|4.     |   + -       add and sub   |\n",
    "```"
   ]
  },
  {
   "cell_type": "code",
   "execution_count": null,
   "metadata": {},
   "outputs": [],
   "source": []
  }
 ]
}