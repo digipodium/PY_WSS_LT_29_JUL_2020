{
 "metadata": {
  "language_info": {
   "codemirror_mode": {
    "name": "ipython",
    "version": 3
   },
   "file_extension": ".py",
   "mimetype": "text/x-python",
   "name": "python",
   "nbconvert_exporter": "python",
   "pygments_lexer": "ipython3",
   "version": "3.8.6-final"
  },
  "orig_nbformat": 2,
  "kernelspec": {
   "name": "Python 3.8.6 64-bit",
   "display_name": "Python 3.8.6 64-bit",
   "metadata": {
    "interpreter": {
     "hash": "9ad268fd485861c22c359044ed3ddbe8fb481338325f6875a93294b1083849ba"
    }
   }
  }
 },
 "nbformat": 4,
 "nbformat_minor": 2,
 "cells": [
  {
   "cell_type": "code",
   "execution_count": 2,
   "metadata": {},
   "outputs": [],
   "source": [
    "from bs4 import BeautifulSoup"
   ]
  },
  {
   "cell_type": "code",
   "execution_count": 11,
   "metadata": {},
   "outputs": [],
   "source": [
    "soup = BeautifulSoup(open('example_file2.html'),'lxml')"
   ]
  },
  {
   "cell_type": "code",
   "execution_count": 12,
   "metadata": {},
   "outputs": [],
   "source": [
    "headings = soup.find_all('h1')"
   ]
  },
  {
   "cell_type": "code",
   "execution_count": 13,
   "metadata": {},
   "outputs": [
    {
     "output_type": "execute_result",
     "data": {
      "text/plain": [
       "[<h1 class=\"info\">Welcome</h1>,\n",
       " <h1 class=\"info\">News section</h1>,\n",
       " <h1 class=\"info\">About us</h1>,\n",
       " <h1 class=\"info\">Contact</h1>]"
      ]
     },
     "metadata": {},
     "execution_count": 13
    }
   ],
   "source": [
    "headings"
   ]
  },
  {
   "cell_type": "code",
   "execution_count": 15,
   "metadata": {},
   "outputs": [
    {
     "output_type": "execute_result",
     "data": {
      "text/plain": [
       "<p>Lorem ipsum dolor, sit amet consectetur adipisicing elit. Cumque, ratione.</p>"
      ]
     },
     "metadata": {},
     "execution_count": 15
    }
   ],
   "source": [
    "soup.find('p')"
   ]
  },
  {
   "cell_type": "code",
   "execution_count": 17,
   "metadata": {},
   "outputs": [
    {
     "output_type": "stream",
     "name": "stdout",
     "text": [
      "4\n[<p>Lorem ipsum dolor, sit amet consectetur adipisicing elit. Cumque, ratione.</p>, <p class=\"data\">Lorem ipsum, dolor sit amet consectetur adipisicing elit. Ipsa eum veniam ab expedita nisi? Fugit eaque illo neque temporibus debitis minus cum praesentium tenetur voluptatem.</p>, <p class=\"data\">Lorem ipsum, dolor sit amet consectetur adipisicing elit. Enim, saepe.</p>, <p class=\"special\">Lorem ipsum, dolor sit amet consectetur adipisicing elit. Enim, saepe.</p>]\n"
     ]
    }
   ],
   "source": [
    "all_para = soup.find_all('p')\n",
    "print(len(all_para))\n",
    "print(all_para)"
   ]
  },
  {
   "cell_type": "code",
   "execution_count": 19,
   "metadata": {},
   "outputs": [
    {
     "output_type": "stream",
     "name": "stdout",
     "text": [
      "[<p class=\"data\">Lorem ipsum, dolor sit amet consectetur adipisicing elit. Ipsa eum veniam ab expedita nisi? Fugit eaque illo neque temporibus debitis minus cum praesentium tenetur voluptatem.</p>, <p class=\"data\">Lorem ipsum, dolor sit amet consectetur adipisicing elit. Enim, saepe.</p>]\n2\n"
     ]
    }
   ],
   "source": [
    "data_para = soup.find_all('p',attrs={'class':'data'})\n",
    "print(data_para)\n",
    "print(len(data_para))"
   ]
  },
  {
   "cell_type": "code",
   "execution_count": 20,
   "metadata": {},
   "outputs": [
    {
     "output_type": "stream",
     "name": "stdout",
     "text": [
      "[<p class=\"special\">Lorem ipsum, dolor sit amet consectetur adipisicing elit. Enim, saepe.</p>]\n1\n"
     ]
    }
   ],
   "source": [
    "spl_para = soup.find_all('p',attrs={'class':'special'})\n",
    "print(spl_para)\n",
    "print(len(spl_para))"
   ]
  },
  {
   "cell_type": "code",
   "execution_count": 21,
   "metadata": {},
   "outputs": [
    {
     "output_type": "stream",
     "name": "stdout",
     "text": [
      "Lorem ipsum, dolor sit amet consectetur adipisicing elit. Ipsa eum veniam ab expedita nisi? Fugit eaque illo neque temporibus debitis minus cum praesentium tenetur voluptatem.\nLorem ipsum, dolor sit amet consectetur adipisicing elit. Enim, saepe.\n"
     ]
    }
   ],
   "source": [
    "for tag in data_para:\n",
    "    print(tag.text)"
   ]
  },
  {
   "cell_type": "code",
   "execution_count": 23,
   "metadata": {},
   "outputs": [
    {
     "output_type": "stream",
     "name": "stdout",
     "text": [
      "Lorem ipsum dolor, sit amet consectetur adipisicing elit. Cumque, ratione.\nLorem ipsum, dolor sit amet consectetur adipisicing elit. Ipsa eum veniam ab expedita nisi? Fugit eaque illo neque temporibus debitis minus cum praesentium tenetur voluptatem.\nLorem ipsum, dolor sit amet consectetur adipisicing elit. Enim, saepe.\nLorem ipsum, dolor sit amet consectetur adipisicing elit. Enim, saepe.\n"
     ]
    }
   ],
   "source": [
    "for item in all_para:\n",
    "    print(item.text)"
   ]
  }
 ]
}