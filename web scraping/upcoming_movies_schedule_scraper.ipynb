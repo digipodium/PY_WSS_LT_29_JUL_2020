{
 "metadata": {
  "language_info": {
   "codemirror_mode": {
    "name": "ipython",
    "version": 3
   },
   "file_extension": ".py",
   "mimetype": "text/x-python",
   "name": "python",
   "nbconvert_exporter": "python",
   "pygments_lexer": "ipython3",
   "version": "3.8.6-final"
  },
  "orig_nbformat": 2,
  "kernelspec": {
   "name": "Python 3.8.6 64-bit",
   "display_name": "Python 3.8.6 64-bit",
   "metadata": {
    "interpreter": {
     "hash": "9ad268fd485861c22c359044ed3ddbe8fb481338325f6875a93294b1083849ba"
    }
   }
  }
 },
 "nbformat": 4,
 "nbformat_minor": 2,
 "cells": [
  {
   "source": [
    "# scraping the upcoming movies from imbd in three steps\n",
    "- collect the webpage using `requests` as a `BeautifulSoup` obj\n",
    "- find the tags\n",
    "- display the data"
   ],
   "cell_type": "markdown",
   "metadata": {}
  },
  {
   "cell_type": "code",
   "execution_count": 1,
   "metadata": {},
   "outputs": [],
   "source": [
    "import requests\n",
    "from bs4 import BeautifulSoup"
   ]
  },
  {
   "cell_type": "code",
   "execution_count": 5,
   "metadata": {},
   "outputs": [
    {
     "output_type": "stream",
     "name": "stdout",
     "text": [
      "200\nsuccess\n"
     ]
    }
   ],
   "source": [
    "page = requests.get(\"https://www.imdb.com/calendar/?ref_=nv_mv_cal\")\n",
    "print(page.status_code) # should be 200 for success\n",
    "if page.status_code == 200:\n",
    "    print(\"success\")\n",
    "else:\n",
    "    print('error')"
   ]
  },
  {
   "cell_type": "code",
   "execution_count": 3,
   "metadata": {},
   "outputs": [],
   "source": [
    "soup = BeautifulSoup(page.text,'lxml')"
   ]
  },
  {
   "source": [
    "#### step 1 complete"
   ],
   "cell_type": "markdown",
   "metadata": {}
  },
  {
   "cell_type": "code",
   "execution_count": 6,
   "metadata": {},
   "outputs": [
    {
     "output_type": "execute_result",
     "data": {
      "text/plain": [
       "'IMDb: Upcoming Releases for United States - IMDb'"
      ]
     },
     "metadata": {},
     "execution_count": 6
    }
   ],
   "source": [
    "soup.title.text"
   ]
  },
  {
   "cell_type": "code",
   "execution_count": 13,
   "metadata": {},
   "outputs": [],
   "source": [
    "main_area = soup.find('div',attrs={'id':'main'})"
   ]
  },
  {
   "cell_type": "code",
   "execution_count": 34,
   "metadata": {},
   "outputs": [],
   "source": [
    "dates = main_area.find_all('h4')"
   ]
  },
  {
   "cell_type": "code",
   "execution_count": 35,
   "metadata": {},
   "outputs": [],
   "source": [
    "# for item in main_area.find_all('li'):\n",
    "#     print(item.text)"
   ]
  },
  {
   "cell_type": "code",
   "execution_count": 40,
   "metadata": {},
   "outputs": [],
   "source": [
    "movie_calendar = []\n",
    "for date in dates:\n",
    "    movies = date.find_next('ul').find_all('li')\n",
    "    for movie in movies:\n",
    "        movie_calendar.append({\n",
    "            'date':date.text,\n",
    "            'title':movie.text.strip()\n",
    "        })"
   ]
  },
  {
   "cell_type": "code",
   "execution_count": 42,
   "metadata": {},
   "outputs": [
    {
     "output_type": "execute_result",
     "data": {
      "text/plain": [
       "[{'date': '06 November 2020', 'title': 'Let Him Go (2020)'},\n",
       " {'date': '06 November 2020', 'title': 'Jungleland (2019)'},\n",
       " {'date': '06 November 2020', 'title': 'The Dark and the Wicked (2020)'},\n",
       " {'date': '06 November 2020', 'title': 'Kindred (2020)'},\n",
       " {'date': '09 November 2020', 'title': 'A Place Among the Dead (2020)'},\n",
       " {'date': '10 November 2020', 'title': 'Recon (2019)'},\n",
       " {'date': '13 November 2020', 'title': 'Freaky (2020)'},\n",
       " {'date': '13 November 2020', 'title': 'Ammonite (2020)'},\n",
       " {'date': '13 November 2020', 'title': 'Dreamland (2019)'},\n",
       " {'date': '13 November 2020', 'title': 'Come Away (2020)'},\n",
       " {'date': '13 November 2020', 'title': 'Echo Boomers (2020)'},\n",
       " {'date': '13 November 2020', 'title': 'The Climb (2019)'},\n",
       " {'date': '20 November 2020', 'title': 'Jiu Jitsu (2020)'},\n",
       " {'date': '20 November 2020', 'title': 'The Last Vermeer (2019)'},\n",
       " {'date': '20 November 2020', 'title': 'Vanguard (2020)'},\n",
       " {'date': '20 November 2020', 'title': 'The Furies (2019)'},\n",
       " {'date': '25 November 2020', 'title': 'The Croods: A New Age (2020)'},\n",
       " {'date': '27 November 2020', 'title': 'Zappa (2020)'},\n",
       " {'date': '28 November 2020', 'title': 'Malibu Road (2020)'},\n",
       " {'date': '04 December 2020', 'title': 'All My Life (2020)'},\n",
       " {'date': '04 December 2020', 'title': 'Nomadland (2020)'},\n",
       " {'date': '04 December 2020', 'title': 'Wander (2020)'},\n",
       " {'date': '04 December 2020', 'title': 'Half Brothers (2020)'},\n",
       " {'date': '04 December 2020',\n",
       "  'title': 'Love, Weddings & Other Disasters (2020)'},\n",
       " {'date': '08 December 2020', 'title': 'Monsters of Man (2020)'},\n",
       " {'date': '09 December 2020', 'title': 'Life After the Navigator (2020)'},\n",
       " {'date': '11 December 2020', 'title': 'Free Guy (2020)'},\n",
       " {'date': '11 December 2020', 'title': 'The Very Excellent Mr. Dundee (2020)'},\n",
       " {'date': '11 December 2020', 'title': 'The Stand In (2020)'},\n",
       " {'date': '11 December 2020', 'title': 'Wander Darkly (2020)'},\n",
       " {'date': '11 December 2020', 'title': 'Archenemy (2020)'},\n",
       " {'date': '11 December 2020', 'title': 'Wild Mountain Thyme (2020)'},\n",
       " {'date': '15 December 2020', 'title': 'Breaking Surface (2020)'},\n",
       " {'date': '18 December 2020', 'title': 'Death on the Nile (2020)'},\n",
       " {'date': '18 December 2020', 'title': 'The Comeback Trail (2020)'},\n",
       " {'date': '18 December 2020', 'title': 'The Father (2020)'},\n",
       " {'date': '25 December 2020', 'title': 'News of the World (2020)'},\n",
       " {'date': '25 December 2020', 'title': 'Wonder Woman 1984 (2020)'},\n",
       " {'date': '25 December 2020', 'title': 'Promising Young Woman (2020)'},\n",
       " {'date': '25 December 2020', 'title': 'One Night in Miami (2020)'},\n",
       " {'date': '30 December 2021', 'title': 'Monster Hunter (2020)'},\n",
       " {'date': '15 January 2021', 'title': 'Mortal Kombat (2021)'},\n",
       " {'date': '15 January 2021', 'title': 'The 355 (2021)'},\n",
       " {'date': '15 January 2021', 'title': 'Wrath of Man (2021)'},\n",
       " {'date': '15 January 2021', 'title': 'Peter Rabbit 2: The Runaway (2020)'},\n",
       " {'date': '22 January 2021', 'title': 'Chaos Walking (2021)'},\n",
       " {'date': '29 January 2021', 'title': 'The Little Things (2021)'},\n",
       " {'date': '05 February 2021', 'title': 'Cinderella (2021)'},\n",
       " {'date': '05 February 2021', 'title': 'Minamata (2020)'},\n",
       " {'date': '12 February 2021', 'title': \"The King's Man (2021)\"},\n",
       " {'date': '12 February 2021', 'title': 'Marry Me (2021)'},\n",
       " {'date': '12 February 2021', 'title': 'The World to Come (2020)'},\n",
       " {'date': '19 February 2021', 'title': 'Antlers (2021)'},\n",
       " {'date': '19 February 2021', 'title': 'Blithe Spirit (2020)'},\n",
       " {'date': '19 February 2021', 'title': 'The Courier (2020)'},\n",
       " {'date': '26 February 2021', 'title': \"Tom Clancy's Without Remorse (2021)\"},\n",
       " {'date': '26 February 2021',\n",
       "  'title': \"Everybody's Talking About Jamie (2021)\"},\n",
       " {'date': '05 March 2021', 'title': 'Tom and Jerry (2021)'},\n",
       " {'date': '05 March 2021', 'title': 'My Salinger Year (2020)'},\n",
       " {'date': '12 March 2021', 'title': 'Raya and the Last Dragon (2021)'},\n",
       " {'date': '12 March 2021', 'title': 'The Many Saints of Newark (2021)'},\n",
       " {'date': '19 March 2021', 'title': 'Morbius (2021)'},\n",
       " {'date': '19 March 2021',\n",
       "  'title': 'The Unbearable Weight of Massive Talent (2021)'},\n",
       " {'date': '02 April 2021', 'title': 'No Time to Die (2021)'},\n",
       " {'date': '23 April 2021', 'title': 'A Quiet Place Part II (2020)'},\n",
       " {'date': '23 April 2021', 'title': 'Last Night in Soho (2021)'},\n",
       " {'date': '07 May 2021', 'title': 'Black Widow (2021)'},\n",
       " {'date': '14 May 2021', 'title': 'Rumble (2021)'},\n",
       " {'date': '21 May 2021', 'title': 'Godzilla vs. Kong (2021)'},\n",
       " {'date': '21 May 2021', 'title': 'Spiral (2021)'},\n",
       " {'date': '28 May 2021', 'title': 'F9 (2021)'},\n",
       " {'date': '28 May 2021', 'title': 'Cruella (2021)'},\n",
       " {'date': '28 May 2021', 'title': 'Infinite (2021)'},\n",
       " {'date': '04 June 2021',\n",
       "  'title': 'The Conjuring: The Devil Made Me Do It (2021)'},\n",
       " {'date': '04 June 2021', 'title': 'Samaritan (2021)'},\n",
       " {'date': '11 June 2021', 'title': 'Ghostbusters: Afterlife (2021)'},\n",
       " {'date': '18 June 2021', 'title': 'In the Heights (2021)'},\n",
       " {'date': '25 June 2021', 'title': 'Venom: Let There Be Carnage (2021)'},\n",
       " {'date': '02 July 2021', 'title': 'Top Gun: Maverick (2021)'},\n",
       " {'date': '02 July 2021', 'title': 'Minions: The Rise of Gru (2021)'},\n",
       " {'date': '09 July 2021',\n",
       "  'title': 'Shang-Chi and the Legend of the Ten Rings (2021)'},\n",
       " {'date': '16 July 2021', 'title': 'Uncharted (2021)'},\n",
       " {'date': '16 July 2021', 'title': 'Space Jam: A New Legacy (2021)'},\n",
       " {'date': '23 July 2021', 'title': 'Old (2021)'},\n",
       " {'date': '23 July 2021', 'title': 'The Tomorrow War (2021)'},\n",
       " {'date': '30 July 2021', 'title': 'Jungle Cruise (2021)'},\n",
       " {'date': '06 August 2021', 'title': 'The Suicide Squad (2021)'},\n",
       " {'date': '06 August 2021', 'title': 'Hotel Transylvania 4 (2021)'},\n",
       " {'date': '13 August 2021', 'title': 'Deep Water (2021)'},\n",
       " {'date': '13 August 2021', 'title': 'Respect (2021)'},\n",
       " {'date': '20 August 2021', 'title': \"The Hitman's Wife's Bodyguard (2021)\"},\n",
       " {'date': '27 August 2021', 'title': 'Candyman (2021)'},\n",
       " {'date': '17 September 2021', 'title': 'The Man from Toronto (2021)'},\n",
       " {'date': '01 October 2021', 'title': 'Dune (2021)'},\n",
       " {'date': '08 October 2021', 'title': 'The Addams Family 2 (2021)'},\n",
       " {'date': '15 October 2021', 'title': 'Halloween Kills (2021)'},\n",
       " {'date': '15 October 2021', 'title': 'The Last Duel (2021)'},\n",
       " {'date': '22 October 2021', 'title': 'Snake Eyes: G.I. Joe Origins (2021)'},\n",
       " {'date': '05 November 2021', 'title': 'The Eternals (2021)'},\n",
       " {'date': '05 November 2021',\n",
       "  'title': 'Untitled Elvis Presley Project (2021)'}]"
      ]
     },
     "metadata": {},
     "execution_count": 42
    }
   ],
   "source": [
    "# list of dictionary\n",
    "movie_calendar"
   ]
  },
  {
   "cell_type": "code",
   "execution_count": null,
   "metadata": {},
   "outputs": [],
   "source": []
  }
 ]
}